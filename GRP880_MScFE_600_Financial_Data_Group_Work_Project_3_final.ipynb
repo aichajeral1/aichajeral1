{
  "cells": [
    {
      "cell_type": "markdown",
      "metadata": {
        "id": "view-in-github",
        "colab_type": "text"
      },
      "source": [
        "<a href=\"https://colab.research.google.com/github/aichajeral1/aichajeral1/blob/main/GRP880_MScFE_600_Financial_Data_Group_Work_Project_3_final.ipynb\" target=\"_parent\"><img src=\"https://colab.research.google.com/assets/colab-badge.svg\" alt=\"Open In Colab\"/></a>"
      ]
    },
    {
      "cell_type": "markdown",
      "metadata": {
        "id": "mdNMxf-utzCL"
      },
      "source": [
        "# Section 1\n",
        "## Statistical Related Risk: Volatility & Statistical Related Risk: Correlation"
      ]
    },
    {
      "cell_type": "markdown",
      "metadata": {
        "id": "7_edXeY2tzCT"
      },
      "source": [
        "### Statistics\n",
        "This is the science concerned with developing and studying methods for collecting, reviewing, analyzing, interpreting, drawing conclusions and presenting empirical or quantified data. The decisions are then applied to business processes in different companies.\n",
        "\n",
        "### Risk\n",
        "Risk implies the probability or possibility of something bad occurring. In finance, financial risk refers to the likelihood of losing money on a business or investment decision such that the expectations are not met. From a Capital Asset Pricing Model perspective, the risk is quantified in terms of volatility of returns.\n",
        "<br>There are two types of risk, according to Ogilvie (2008):\n",
        "<br>1. Systemic risk or market risk - this refers to the market uncertainties representing the external factors affecting businesses. This risk is undiversifiable.\n",
        "<br>2.Unsystematic risk- this is a risk that is specific to a company and is not shared with the wider market or industry. It represents asset specific uncertainties that limit the performance of an investment.\n",
        "#### Measurement of risk\n",
        "The main measurements of risk are standard deviation, conditional value at risk (CVaR), beta, R-Squared, and Sharpe ratio. Standard deviation is a key statistical metric used as a measure of risk. Standard deviation measures how far a variable, like an investment's return, goes above or below its average or mean return. Investments with high volatility are usually considered riskier than those with low volatility. If the standard deviation increases, then the higher the expected risk.\n",
        "##### Volatility\n",
        "The statistical measure of dispersion for a specific security or commodity is called volatility. Normally, if volatility is high, risk is also assumed to be high. Volatility is measured using standard deviation or variance measures and it represents swings to either side of the market. For instance, if the stock market dips and rallies over 1% over a certain period, it signals a volatile market. According to Du Plessis (2022), volatility can be historical or implied. Historical volatility measures the fluctuations in the past while implied volatility is a forecast of future price changes which is very key in option pricing.\n",
        "##### Correlation\n",
        "In the financial markets and statistical inferences, correlation is a method of creating a relationship between the two variables. There are mainly four types of correlations: Pearson, Kendall rank Point-Biserial and Spearman correlation.\n",
        "<br>For the Pearson product-moment correlation method, the coefficients range between -1 and 1 and are known as correlation coefficients. A correlation coefficient represents a link between two variables. 1 indicates a perfect positive correlation, while -1 indicates a perfect negative correlation. If two financial assets are in perfect correlation, it implies that they are varying in lockstep with one another. A negative correlation implies they are moving in separate directions while a zero correlation shows no relationship exists. In the global financial markets, the S & P 500 index can have a positive correlation with large mutual funds mapping it, maybe up to 0.9. The put option prices would negatively correlate with the underlying share asset values. This implies that the put option contracts become more profitable and lucrative as stock prices drop, hence cementing the negative relationship.\n",
        "\n",
        "<br>![image.png](attachment:image.png)\n",
        "\n",
        "<br>If X and Y were two variables, the correlation coefficient measures the linear relationship between X and Y, with the assumption that X and Y are continuous variables: interval or ratio variables.\n",
        "CovXY is called covariance, and it measures how two variables go together, or co-vary.\n",
        "\n",
        "#### Importance of Correlation in Financial Metrics\n",
        "Correlations are critical in predicting future trends and analyzing risks in relation to portfolios. A good deal of software and applications have built-in functions to predict future trends and risks affecting the markets. Derivatives and related complex products are customized using statistical tools like correlations.\n",
        "\n",
        "#### Investment Portfolio Management\n",
        "For investment, a portfolio with a low correlation and good diversification is very important in managing risk. Consider a retail stock investor, for instance. Investing in medical research companies would be good as it helps them diversify their portfolio to other sectors. When introducing other types of securities from different sectors, it helps minimize exposure to losses if one sector does not perform well. This is because the various stocks, funds, bonds, metals, cryptocurrencies and commodities have unique characteristics and risk factors that need to be evaluated. Several websites will show the distinct risk and volatility metrics for the different categories of investment products. However, it might be difficult to evaluate or understand what the numbers imply. The relationship between these statistical measures is not that obvious. Below, we delve into the most common measures of volatility and their application in a specific portfolio risk analysis.\n",
        "\n",
        "### Standard Deviation\n",
        "\n",
        "This measure reflects the volatility of an investment product, implying how quickly returns are likely to climb or fall occasionally. Just like many other statistical measures, this might be complicated to use. The movement of a fund’s return compared to the mean expected value is usually used to calculate the standard deviation. When a fund’s performance for a certain period is the same to its mean return in that period, then its standard deviation is zero. A fund’s historical performance does not guarantee its future performance because volatility does not encompass all risks to the investment. Volatility might change from year to year as market dynamics occur. Comparisons can be done between two funds with similar investment strategies, asset bases and results to investigate how each fund can optimize returns given the market conditions. The fund with the least standard deviation is the best in maximizing returns despite the risk in the market.\n",
        "\n",
        "#### Limitation of Correlation\n",
        "Just like other statistical tools, correlation has its disadvantages or situations we need to think about while applying it. If the sample size of the population is small, the results are likely to be inaccurate, since a smaller data sample is likely to be insufficient for drawing meaningful conclusions. Even if two variables have a clear relationship but the sample of data used is small, there is a high likelihood of the results being uncorrelated.\n",
        "\n",
        "<br>Presence of outliers in the data leads to misinterpretations in the results. The correlation analysis is mapped and restricted to the variables included in the model. It will only show how those variables affect one another and will not exclude any other factors or events that may affect the correlation coefficient. Correlation cannot consider the presence or effect of other variables other than the two being explored.\n",
        "\n",
        "<br>Another weakness of correlation is that it doesn't tell us about the cause and effect. Correlation cannot accurately map out curvilinear relationships. Two variables could have a nonlinear relationship but this may be misconstrued; complicated interactions may be harder to spot.\n",
        "\n",
        "![image.png](attachment:image.png)\n",
        "\n",
        "<br> In the example above, the two left diagrams exhibit less clarity and might even have outliers that could influence the relationship between the feature and mean input. However, the ones on the right have a clearer linear relationship if plotted. The relationships on the left could also be represented by a curvilinear equation and it is not obvious if a linear representation would be the perfect representative of the relationships."
      ]
    },
    {
      "cell_type": "markdown",
      "metadata": {
        "id": "x1ugLYwwtzCW"
      },
      "source": [
        "# Section 2\n",
        "## Step 4"
      ]
    },
    {
      "cell_type": "code",
      "execution_count": null,
      "metadata": {
        "colab": {
          "base_uri": "https://localhost:8080/"
        },
        "id": "PskORfX8tzCX",
        "outputId": "c0bddb3e-006d-46ed-ac72-0f5e3f8bc8ff"
      },
      "outputs": [
        {
          "output_type": "stream",
          "name": "stdout",
          "text": [
            "Looking in indexes: https://pypi.org/simple, https://us-python.pkg.dev/colab-wheels/public/simple/\n",
            "Requirement already satisfied: yfinance in /usr/local/lib/python3.8/dist-packages (0.2.9)\n",
            "Requirement already satisfied: numpy>=1.16.5 in /usr/local/lib/python3.8/dist-packages (from yfinance) (1.21.6)\n",
            "Requirement already satisfied: frozendict>=2.3.4 in /usr/local/lib/python3.8/dist-packages (from yfinance) (2.3.4)\n",
            "Requirement already satisfied: lxml>=4.9.1 in /usr/local/lib/python3.8/dist-packages (from yfinance) (4.9.2)\n",
            "Requirement already satisfied: multitasking>=0.0.7 in /usr/local/lib/python3.8/dist-packages (from yfinance) (0.0.11)\n",
            "Requirement already satisfied: cryptography>=3.3.2 in /usr/local/lib/python3.8/dist-packages (from yfinance) (39.0.1)\n",
            "Requirement already satisfied: html5lib>=1.1 in /usr/local/lib/python3.8/dist-packages (from yfinance) (1.1)\n",
            "Requirement already satisfied: appdirs>=1.4.4 in /usr/local/lib/python3.8/dist-packages (from yfinance) (1.4.4)\n",
            "Requirement already satisfied: requests>=2.26 in /usr/local/lib/python3.8/dist-packages (from yfinance) (2.28.2)\n",
            "Requirement already satisfied: pandas>=1.3.0 in /usr/local/lib/python3.8/dist-packages (from yfinance) (1.3.5)\n",
            "Requirement already satisfied: beautifulsoup4>=4.11.1 in /usr/local/lib/python3.8/dist-packages (from yfinance) (4.11.2)\n",
            "Requirement already satisfied: pytz>=2022.5 in /usr/local/lib/python3.8/dist-packages (from yfinance) (2022.7.1)\n",
            "Requirement already satisfied: soupsieve>1.2 in /usr/local/lib/python3.8/dist-packages (from beautifulsoup4>=4.11.1->yfinance) (2.3.2.post1)\n",
            "Requirement already satisfied: cffi>=1.12 in /usr/local/lib/python3.8/dist-packages (from cryptography>=3.3.2->yfinance) (1.15.1)\n",
            "Requirement already satisfied: six>=1.9 in /usr/local/lib/python3.8/dist-packages (from html5lib>=1.1->yfinance) (1.15.0)\n",
            "Requirement already satisfied: webencodings in /usr/local/lib/python3.8/dist-packages (from html5lib>=1.1->yfinance) (0.5.1)\n",
            "Requirement already satisfied: python-dateutil>=2.7.3 in /usr/local/lib/python3.8/dist-packages (from pandas>=1.3.0->yfinance) (2.8.2)\n",
            "Requirement already satisfied: charset-normalizer<4,>=2 in /usr/local/lib/python3.8/dist-packages (from requests>=2.26->yfinance) (2.1.1)\n",
            "Requirement already satisfied: certifi>=2017.4.17 in /usr/local/lib/python3.8/dist-packages (from requests>=2.26->yfinance) (2022.12.7)\n",
            "Requirement already satisfied: idna<4,>=2.5 in /usr/local/lib/python3.8/dist-packages (from requests>=2.26->yfinance) (2.10)\n",
            "Requirement already satisfied: urllib3<1.27,>=1.21.1 in /usr/local/lib/python3.8/dist-packages (from requests>=2.26->yfinance) (1.24.3)\n",
            "Requirement already satisfied: pycparser in /usr/local/lib/python3.8/dist-packages (from cffi>=1.12->cryptography>=3.3.2->yfinance) (2.21)\n"
          ]
        }
      ],
      "source": [
        "!pip install yfinance\n"
      ]
    },
    {
      "cell_type": "code",
      "execution_count": null,
      "metadata": {
        "id": "qdJPRcJXtzCZ"
      },
      "outputs": [],
      "source": [
        "# Importing relevant packages\n",
        "import pandas as pd\n",
        "import numpy as np\n",
        "import seaborn as sns\n",
        "import yfinance as yf\n",
        "import matplotlib.pyplot as plt\n",
        "import datetime\n",
        "import pandas_datareader.data as web\n",
        "import math\n",
        "from pandas_datareader import data as pdr\n"
      ]
    },
    {
      "cell_type": "markdown",
      "source": [
        "# We selected 2 assets to use in this part. These are silver and Tesla stock (TSLA (metal and stock)"
      ],
      "metadata": {
        "id": "QO3KsCYyv5F5"
      }
    },
    {
      "cell_type": "code",
      "source": [
        "# Importing the assets\n",
        "df_price= pdr.get_data_yahoo([\"SI\",\"TSLA\"], start=\"2020-01-01\", end=\"2023-01-31\")[\"Adj Close\"]\n",
        "df_price.head()"
      ],
      "metadata": {
        "colab": {
          "base_uri": "https://localhost:8080/",
          "height": 255
        },
        "id": "FRMZNyoPv38L",
        "outputId": "e239700e-c24e-402b-9c96-19fa6452ba2e"
      },
      "execution_count": null,
      "outputs": [
        {
          "output_type": "stream",
          "name": "stdout",
          "text": [
            "[*********************100%***********************]  2 of 2 completed\n"
          ]
        },
        {
          "output_type": "execute_result",
          "data": {
            "text/plain": [
              "                                  SI       TSLA\n",
              "Date                                           \n",
              "2020-01-02 00:00:00-05:00  15.930000  28.684000\n",
              "2020-01-03 00:00:00-05:00  15.930000  29.534000\n",
              "2020-01-06 00:00:00-05:00  15.940000  30.102667\n",
              "2020-01-07 00:00:00-05:00  16.290001  31.270666\n",
              "2020-01-08 00:00:00-05:00  16.430000  32.809334"
            ],
            "text/html": [
              "\n",
              "  <div id=\"df-0ec3f235-2b13-43ce-8576-f9c3f732e76a\">\n",
              "    <div class=\"colab-df-container\">\n",
              "      <div>\n",
              "<style scoped>\n",
              "    .dataframe tbody tr th:only-of-type {\n",
              "        vertical-align: middle;\n",
              "    }\n",
              "\n",
              "    .dataframe tbody tr th {\n",
              "        vertical-align: top;\n",
              "    }\n",
              "\n",
              "    .dataframe thead th {\n",
              "        text-align: right;\n",
              "    }\n",
              "</style>\n",
              "<table border=\"1\" class=\"dataframe\">\n",
              "  <thead>\n",
              "    <tr style=\"text-align: right;\">\n",
              "      <th></th>\n",
              "      <th>SI</th>\n",
              "      <th>TSLA</th>\n",
              "    </tr>\n",
              "    <tr>\n",
              "      <th>Date</th>\n",
              "      <th></th>\n",
              "      <th></th>\n",
              "    </tr>\n",
              "  </thead>\n",
              "  <tbody>\n",
              "    <tr>\n",
              "      <th>2020-01-02 00:00:00-05:00</th>\n",
              "      <td>15.930000</td>\n",
              "      <td>28.684000</td>\n",
              "    </tr>\n",
              "    <tr>\n",
              "      <th>2020-01-03 00:00:00-05:00</th>\n",
              "      <td>15.930000</td>\n",
              "      <td>29.534000</td>\n",
              "    </tr>\n",
              "    <tr>\n",
              "      <th>2020-01-06 00:00:00-05:00</th>\n",
              "      <td>15.940000</td>\n",
              "      <td>30.102667</td>\n",
              "    </tr>\n",
              "    <tr>\n",
              "      <th>2020-01-07 00:00:00-05:00</th>\n",
              "      <td>16.290001</td>\n",
              "      <td>31.270666</td>\n",
              "    </tr>\n",
              "    <tr>\n",
              "      <th>2020-01-08 00:00:00-05:00</th>\n",
              "      <td>16.430000</td>\n",
              "      <td>32.809334</td>\n",
              "    </tr>\n",
              "  </tbody>\n",
              "</table>\n",
              "</div>\n",
              "      <button class=\"colab-df-convert\" onclick=\"convertToInteractive('df-0ec3f235-2b13-43ce-8576-f9c3f732e76a')\"\n",
              "              title=\"Convert this dataframe to an interactive table.\"\n",
              "              style=\"display:none;\">\n",
              "        \n",
              "  <svg xmlns=\"http://www.w3.org/2000/svg\" height=\"24px\"viewBox=\"0 0 24 24\"\n",
              "       width=\"24px\">\n",
              "    <path d=\"M0 0h24v24H0V0z\" fill=\"none\"/>\n",
              "    <path d=\"M18.56 5.44l.94 2.06.94-2.06 2.06-.94-2.06-.94-.94-2.06-.94 2.06-2.06.94zm-11 1L8.5 8.5l.94-2.06 2.06-.94-2.06-.94L8.5 2.5l-.94 2.06-2.06.94zm10 10l.94 2.06.94-2.06 2.06-.94-2.06-.94-.94-2.06-.94 2.06-2.06.94z\"/><path d=\"M17.41 7.96l-1.37-1.37c-.4-.4-.92-.59-1.43-.59-.52 0-1.04.2-1.43.59L10.3 9.45l-7.72 7.72c-.78.78-.78 2.05 0 2.83L4 21.41c.39.39.9.59 1.41.59.51 0 1.02-.2 1.41-.59l7.78-7.78 2.81-2.81c.8-.78.8-2.07 0-2.86zM5.41 20L4 18.59l7.72-7.72 1.47 1.35L5.41 20z\"/>\n",
              "  </svg>\n",
              "      </button>\n",
              "      \n",
              "  <style>\n",
              "    .colab-df-container {\n",
              "      display:flex;\n",
              "      flex-wrap:wrap;\n",
              "      gap: 12px;\n",
              "    }\n",
              "\n",
              "    .colab-df-convert {\n",
              "      background-color: #E8F0FE;\n",
              "      border: none;\n",
              "      border-radius: 50%;\n",
              "      cursor: pointer;\n",
              "      display: none;\n",
              "      fill: #1967D2;\n",
              "      height: 32px;\n",
              "      padding: 0 0 0 0;\n",
              "      width: 32px;\n",
              "    }\n",
              "\n",
              "    .colab-df-convert:hover {\n",
              "      background-color: #E2EBFA;\n",
              "      box-shadow: 0px 1px 2px rgba(60, 64, 67, 0.3), 0px 1px 3px 1px rgba(60, 64, 67, 0.15);\n",
              "      fill: #174EA6;\n",
              "    }\n",
              "\n",
              "    [theme=dark] .colab-df-convert {\n",
              "      background-color: #3B4455;\n",
              "      fill: #D2E3FC;\n",
              "    }\n",
              "\n",
              "    [theme=dark] .colab-df-convert:hover {\n",
              "      background-color: #434B5C;\n",
              "      box-shadow: 0px 1px 3px 1px rgba(0, 0, 0, 0.15);\n",
              "      filter: drop-shadow(0px 1px 2px rgba(0, 0, 0, 0.3));\n",
              "      fill: #FFFFFF;\n",
              "    }\n",
              "  </style>\n",
              "\n",
              "      <script>\n",
              "        const buttonEl =\n",
              "          document.querySelector('#df-0ec3f235-2b13-43ce-8576-f9c3f732e76a button.colab-df-convert');\n",
              "        buttonEl.style.display =\n",
              "          google.colab.kernel.accessAllowed ? 'block' : 'none';\n",
              "\n",
              "        async function convertToInteractive(key) {\n",
              "          const element = document.querySelector('#df-0ec3f235-2b13-43ce-8576-f9c3f732e76a');\n",
              "          const dataTable =\n",
              "            await google.colab.kernel.invokeFunction('convertToInteractive',\n",
              "                                                     [key], {});\n",
              "          if (!dataTable) return;\n",
              "\n",
              "          const docLinkHtml = 'Like what you see? Visit the ' +\n",
              "            '<a target=\"_blank\" href=https://colab.research.google.com/notebooks/data_table.ipynb>data table notebook</a>'\n",
              "            + ' to learn more about interactive tables.';\n",
              "          element.innerHTML = '';\n",
              "          dataTable['output_type'] = 'display_data';\n",
              "          await google.colab.output.renderOutput(dataTable, element);\n",
              "          const docLink = document.createElement('div');\n",
              "          docLink.innerHTML = docLinkHtml;\n",
              "          element.appendChild(docLink);\n",
              "        }\n",
              "      </script>\n",
              "    </div>\n",
              "  </div>\n",
              "  "
            ]
          },
          "metadata": {},
          "execution_count": 65
        }
      ]
    },
    {
      "cell_type": "code",
      "source": [
        "# Getting Summary Statistics\n",
        "df_price.describe()"
      ],
      "metadata": {
        "colab": {
          "base_uri": "https://localhost:8080/",
          "height": 300
        },
        "id": "nvgTzN2V20sw",
        "outputId": "19df983e-c103-4122-cbb2-65fd69778126"
      },
      "execution_count": null,
      "outputs": [
        {
          "output_type": "execute_result",
          "data": {
            "text/plain": [
              "               SI        TSLA\n",
              "count  775.000000  775.000000\n",
              "mean    75.594916  204.545831\n",
              "std     54.277470   95.413865\n",
              "min      7.630000   24.081333\n",
              "25%     15.980000  136.098335\n",
              "50%     75.690002  221.996674\n",
              "75%    115.305000  275.074997\n",
              "max    222.130005  409.970001"
            ],
            "text/html": [
              "\n",
              "  <div id=\"df-327e15eb-38d3-47d2-bac6-d6a194499e11\">\n",
              "    <div class=\"colab-df-container\">\n",
              "      <div>\n",
              "<style scoped>\n",
              "    .dataframe tbody tr th:only-of-type {\n",
              "        vertical-align: middle;\n",
              "    }\n",
              "\n",
              "    .dataframe tbody tr th {\n",
              "        vertical-align: top;\n",
              "    }\n",
              "\n",
              "    .dataframe thead th {\n",
              "        text-align: right;\n",
              "    }\n",
              "</style>\n",
              "<table border=\"1\" class=\"dataframe\">\n",
              "  <thead>\n",
              "    <tr style=\"text-align: right;\">\n",
              "      <th></th>\n",
              "      <th>SI</th>\n",
              "      <th>TSLA</th>\n",
              "    </tr>\n",
              "  </thead>\n",
              "  <tbody>\n",
              "    <tr>\n",
              "      <th>count</th>\n",
              "      <td>775.000000</td>\n",
              "      <td>775.000000</td>\n",
              "    </tr>\n",
              "    <tr>\n",
              "      <th>mean</th>\n",
              "      <td>75.594916</td>\n",
              "      <td>204.545831</td>\n",
              "    </tr>\n",
              "    <tr>\n",
              "      <th>std</th>\n",
              "      <td>54.277470</td>\n",
              "      <td>95.413865</td>\n",
              "    </tr>\n",
              "    <tr>\n",
              "      <th>min</th>\n",
              "      <td>7.630000</td>\n",
              "      <td>24.081333</td>\n",
              "    </tr>\n",
              "    <tr>\n",
              "      <th>25%</th>\n",
              "      <td>15.980000</td>\n",
              "      <td>136.098335</td>\n",
              "    </tr>\n",
              "    <tr>\n",
              "      <th>50%</th>\n",
              "      <td>75.690002</td>\n",
              "      <td>221.996674</td>\n",
              "    </tr>\n",
              "    <tr>\n",
              "      <th>75%</th>\n",
              "      <td>115.305000</td>\n",
              "      <td>275.074997</td>\n",
              "    </tr>\n",
              "    <tr>\n",
              "      <th>max</th>\n",
              "      <td>222.130005</td>\n",
              "      <td>409.970001</td>\n",
              "    </tr>\n",
              "  </tbody>\n",
              "</table>\n",
              "</div>\n",
              "      <button class=\"colab-df-convert\" onclick=\"convertToInteractive('df-327e15eb-38d3-47d2-bac6-d6a194499e11')\"\n",
              "              title=\"Convert this dataframe to an interactive table.\"\n",
              "              style=\"display:none;\">\n",
              "        \n",
              "  <svg xmlns=\"http://www.w3.org/2000/svg\" height=\"24px\"viewBox=\"0 0 24 24\"\n",
              "       width=\"24px\">\n",
              "    <path d=\"M0 0h24v24H0V0z\" fill=\"none\"/>\n",
              "    <path d=\"M18.56 5.44l.94 2.06.94-2.06 2.06-.94-2.06-.94-.94-2.06-.94 2.06-2.06.94zm-11 1L8.5 8.5l.94-2.06 2.06-.94-2.06-.94L8.5 2.5l-.94 2.06-2.06.94zm10 10l.94 2.06.94-2.06 2.06-.94-2.06-.94-.94-2.06-.94 2.06-2.06.94z\"/><path d=\"M17.41 7.96l-1.37-1.37c-.4-.4-.92-.59-1.43-.59-.52 0-1.04.2-1.43.59L10.3 9.45l-7.72 7.72c-.78.78-.78 2.05 0 2.83L4 21.41c.39.39.9.59 1.41.59.51 0 1.02-.2 1.41-.59l7.78-7.78 2.81-2.81c.8-.78.8-2.07 0-2.86zM5.41 20L4 18.59l7.72-7.72 1.47 1.35L5.41 20z\"/>\n",
              "  </svg>\n",
              "      </button>\n",
              "      \n",
              "  <style>\n",
              "    .colab-df-container {\n",
              "      display:flex;\n",
              "      flex-wrap:wrap;\n",
              "      gap: 12px;\n",
              "    }\n",
              "\n",
              "    .colab-df-convert {\n",
              "      background-color: #E8F0FE;\n",
              "      border: none;\n",
              "      border-radius: 50%;\n",
              "      cursor: pointer;\n",
              "      display: none;\n",
              "      fill: #1967D2;\n",
              "      height: 32px;\n",
              "      padding: 0 0 0 0;\n",
              "      width: 32px;\n",
              "    }\n",
              "\n",
              "    .colab-df-convert:hover {\n",
              "      background-color: #E2EBFA;\n",
              "      box-shadow: 0px 1px 2px rgba(60, 64, 67, 0.3), 0px 1px 3px 1px rgba(60, 64, 67, 0.15);\n",
              "      fill: #174EA6;\n",
              "    }\n",
              "\n",
              "    [theme=dark] .colab-df-convert {\n",
              "      background-color: #3B4455;\n",
              "      fill: #D2E3FC;\n",
              "    }\n",
              "\n",
              "    [theme=dark] .colab-df-convert:hover {\n",
              "      background-color: #434B5C;\n",
              "      box-shadow: 0px 1px 3px 1px rgba(0, 0, 0, 0.15);\n",
              "      filter: drop-shadow(0px 1px 2px rgba(0, 0, 0, 0.3));\n",
              "      fill: #FFFFFF;\n",
              "    }\n",
              "  </style>\n",
              "\n",
              "      <script>\n",
              "        const buttonEl =\n",
              "          document.querySelector('#df-327e15eb-38d3-47d2-bac6-d6a194499e11 button.colab-df-convert');\n",
              "        buttonEl.style.display =\n",
              "          google.colab.kernel.accessAllowed ? 'block' : 'none';\n",
              "\n",
              "        async function convertToInteractive(key) {\n",
              "          const element = document.querySelector('#df-327e15eb-38d3-47d2-bac6-d6a194499e11');\n",
              "          const dataTable =\n",
              "            await google.colab.kernel.invokeFunction('convertToInteractive',\n",
              "                                                     [key], {});\n",
              "          if (!dataTable) return;\n",
              "\n",
              "          const docLinkHtml = 'Like what you see? Visit the ' +\n",
              "            '<a target=\"_blank\" href=https://colab.research.google.com/notebooks/data_table.ipynb>data table notebook</a>'\n",
              "            + ' to learn more about interactive tables.';\n",
              "          element.innerHTML = '';\n",
              "          dataTable['output_type'] = 'display_data';\n",
              "          await google.colab.output.renderOutput(dataTable, element);\n",
              "          const docLink = document.createElement('div');\n",
              "          docLink.innerHTML = docLinkHtml;\n",
              "          element.appendChild(docLink);\n",
              "        }\n",
              "      </script>\n",
              "    </div>\n",
              "  </div>\n",
              "  "
            ]
          },
          "metadata": {},
          "execution_count": 66
        }
      ]
    },
    {
      "cell_type": "markdown",
      "source": [
        "The mean price of Silver and Tesla stocks for the three years is 75.59 and 204.55 respectively. The standard deviation for the assets (Silver and Tesla) is 54.28 and 95.41 respectively"
      ],
      "metadata": {
        "id": "oWTT8E_n5EBO"
      }
    },
    {
      "cell_type": "code",
      "source": [
        "# Checking for missing values\n",
        "df_price.isnull().sum()"
      ],
      "metadata": {
        "colab": {
          "base_uri": "https://localhost:8080/"
        },
        "id": "9eySaXcF4qMS",
        "outputId": "aa623167-f2b4-4a67-d215-d594a623d0be"
      },
      "execution_count": null,
      "outputs": [
        {
          "output_type": "execute_result",
          "data": {
            "text/plain": [
              "SI      0\n",
              "TSLA    0\n",
              "dtype: int64"
            ]
          },
          "metadata": {},
          "execution_count": 57
        }
      ]
    },
    {
      "cell_type": "markdown",
      "source": [
        "There are no missing values in the asset prices"
      ],
      "metadata": {
        "id": "MCz1fDRE619Z"
      }
    },
    {
      "cell_type": "markdown",
      "source": [
        "# **Investing in the assets**\n",
        "\n",
        "Buying 500 piecies of silver and 1000 Tesla stocks\n"
      ],
      "metadata": {
        "id": "gTe-w5Yz7mTi"
      }
    },
    {
      "cell_type": "code",
      "source": [
        "# Initial Investment\n",
        "Silver_start=df_price.SI[0]*500\n",
        "Tesla_start=df_price.TSLA[0]*1000\n",
        "\n",
        "# Maturity\n",
        "Silver_end=df_price.SI[-1]*750\n",
        "Tesla_end=df_price.TSLA[-1]*1200\n",
        "\n",
        "# Calculating weights\n",
        "W1_Silver=np.around(Silver_start/(Silver_start+Tesla_start),3)\n",
        "W2_Tesla=np.around(Tesla_start/(Silver_start+Tesla_start),3)\n",
        "print(\"The investment in silver and Tesla at the start of 2020 was %s and %s respectively\" % (Silver_start,Tesla_start))\n",
        "print(\"The weights of the investments were %s and %s respectively\" % (W1_Silver,W2_Tesla))"
      ],
      "metadata": {
        "colab": {
          "base_uri": "https://localhost:8080/"
        },
        "id": "QRHk-DX77vK3",
        "outputId": "983791bd-2418-4cd4-f95b-f3e1e1e60d09"
      },
      "execution_count": null,
      "outputs": [
        {
          "output_type": "stream",
          "name": "stdout",
          "text": [
            "The investment in silver and Tesla at the start of 2020 was 7965.000152587891 and 28684.00001525879 respectively\n",
            "The weights of the investments were 0.217 and 0.783 respectively\n"
          ]
        }
      ]
    },
    {
      "cell_type": "code",
      "source": [
        "# Computing Returns\n",
        "Silver_returns=np.around(((Silver_end - Silver_start)/Silver_start)*100,2)\n",
        "Tesla_Returns=np.around(((Tesla_end-Tesla_start)/Tesla_start)*100,2)\n",
        "print(\"The return for Silver is %s%% and for Tesla is %s%%  \"% (Silver_returns,Tesla_Returns))"
      ],
      "metadata": {
        "colab": {
          "base_uri": "https://localhost:8080/"
        },
        "id": "zZq_Gqa-8XT0",
        "outputId": "5b91782a-92a0-46a7-fc4b-68387fe1e8a5"
      },
      "execution_count": null,
      "outputs": [
        {
          "output_type": "stream",
          "name": "stdout",
          "text": [
            "The return for Silver is 21.94% and for Tesla is 597.22% percent \n"
          ]
        }
      ]
    },
    {
      "cell_type": "code",
      "source": [
        "# Portfolio Return\n",
        "Silver_weighted_return=Silver_returns*W1_Silver\n",
        "Tesla_weighted_return=Tesla_Returns*W2_Tesla\n",
        "print(\"The portfolio return is %.2f%% for the 3 years\"%(Silver_weighted_return+Tesla_weighted_return))"
      ],
      "metadata": {
        "colab": {
          "base_uri": "https://localhost:8080/"
        },
        "id": "5V1BX7jr8mJm",
        "outputId": "b3401f51-0ba3-4c91-b200-2bcc2093a0cb"
      },
      "execution_count": null,
      "outputs": [
        {
          "output_type": "stream",
          "name": "stdout",
          "text": [
            "The portfolio return is 472.38% for the 3 years\n"
          ]
        }
      ]
    },
    {
      "cell_type": "markdown",
      "source": [
        "# Computing Correlations, Standard Deviations and Volatility\n",
        "\n",
        "\n"
      ],
      "metadata": {
        "id": "v3BYSUB6CETU"
      }
    },
    {
      "cell_type": "code",
      "source": [
        "Weights=np.array([0.217,0.783])\n",
        "Returns=df_price.pct_change()\n",
        "Returns.drop(index=Returns.index[0],axis=0,inplace=True)\n",
        "# Calculate daily covariance matrix for the year (365 day)\n",
        "Cov=365*Returns.cov()\n",
        "Returns.head()"
      ],
      "metadata": {
        "colab": {
          "base_uri": "https://localhost:8080/",
          "height": 238
        },
        "id": "HWiRbE_V8rIe",
        "outputId": "79056bce-bf99-420e-fdf6-2607955f5619"
      },
      "execution_count": null,
      "outputs": [
        {
          "output_type": "execute_result",
          "data": {
            "text/plain": [
              "                                 SI      TSLA\n",
              "Date                                         \n",
              "2020-01-03 00:00:00-05:00  0.000000  0.029633\n",
              "2020-01-06 00:00:00-05:00  0.000628  0.019255\n",
              "2020-01-07 00:00:00-05:00  0.021957  0.038801\n",
              "2020-01-08 00:00:00-05:00  0.008594  0.049205\n",
              "2020-01-09 00:00:00-05:00 -0.021303 -0.021945"
            ],
            "text/html": [
              "\n",
              "  <div id=\"df-0f93b8cc-d781-4bf5-b9ed-239dd78ce3ad\">\n",
              "    <div class=\"colab-df-container\">\n",
              "      <div>\n",
              "<style scoped>\n",
              "    .dataframe tbody tr th:only-of-type {\n",
              "        vertical-align: middle;\n",
              "    }\n",
              "\n",
              "    .dataframe tbody tr th {\n",
              "        vertical-align: top;\n",
              "    }\n",
              "\n",
              "    .dataframe thead th {\n",
              "        text-align: right;\n",
              "    }\n",
              "</style>\n",
              "<table border=\"1\" class=\"dataframe\">\n",
              "  <thead>\n",
              "    <tr style=\"text-align: right;\">\n",
              "      <th></th>\n",
              "      <th>SI</th>\n",
              "      <th>TSLA</th>\n",
              "    </tr>\n",
              "    <tr>\n",
              "      <th>Date</th>\n",
              "      <th></th>\n",
              "      <th></th>\n",
              "    </tr>\n",
              "  </thead>\n",
              "  <tbody>\n",
              "    <tr>\n",
              "      <th>2020-01-03 00:00:00-05:00</th>\n",
              "      <td>0.000000</td>\n",
              "      <td>0.029633</td>\n",
              "    </tr>\n",
              "    <tr>\n",
              "      <th>2020-01-06 00:00:00-05:00</th>\n",
              "      <td>0.000628</td>\n",
              "      <td>0.019255</td>\n",
              "    </tr>\n",
              "    <tr>\n",
              "      <th>2020-01-07 00:00:00-05:00</th>\n",
              "      <td>0.021957</td>\n",
              "      <td>0.038801</td>\n",
              "    </tr>\n",
              "    <tr>\n",
              "      <th>2020-01-08 00:00:00-05:00</th>\n",
              "      <td>0.008594</td>\n",
              "      <td>0.049205</td>\n",
              "    </tr>\n",
              "    <tr>\n",
              "      <th>2020-01-09 00:00:00-05:00</th>\n",
              "      <td>-0.021303</td>\n",
              "      <td>-0.021945</td>\n",
              "    </tr>\n",
              "  </tbody>\n",
              "</table>\n",
              "</div>\n",
              "      <button class=\"colab-df-convert\" onclick=\"convertToInteractive('df-0f93b8cc-d781-4bf5-b9ed-239dd78ce3ad')\"\n",
              "              title=\"Convert this dataframe to an interactive table.\"\n",
              "              style=\"display:none;\">\n",
              "        \n",
              "  <svg xmlns=\"http://www.w3.org/2000/svg\" height=\"24px\"viewBox=\"0 0 24 24\"\n",
              "       width=\"24px\">\n",
              "    <path d=\"M0 0h24v24H0V0z\" fill=\"none\"/>\n",
              "    <path d=\"M18.56 5.44l.94 2.06.94-2.06 2.06-.94-2.06-.94-.94-2.06-.94 2.06-2.06.94zm-11 1L8.5 8.5l.94-2.06 2.06-.94-2.06-.94L8.5 2.5l-.94 2.06-2.06.94zm10 10l.94 2.06.94-2.06 2.06-.94-2.06-.94-.94-2.06-.94 2.06-2.06.94z\"/><path d=\"M17.41 7.96l-1.37-1.37c-.4-.4-.92-.59-1.43-.59-.52 0-1.04.2-1.43.59L10.3 9.45l-7.72 7.72c-.78.78-.78 2.05 0 2.83L4 21.41c.39.39.9.59 1.41.59.51 0 1.02-.2 1.41-.59l7.78-7.78 2.81-2.81c.8-.78.8-2.07 0-2.86zM5.41 20L4 18.59l7.72-7.72 1.47 1.35L5.41 20z\"/>\n",
              "  </svg>\n",
              "      </button>\n",
              "      \n",
              "  <style>\n",
              "    .colab-df-container {\n",
              "      display:flex;\n",
              "      flex-wrap:wrap;\n",
              "      gap: 12px;\n",
              "    }\n",
              "\n",
              "    .colab-df-convert {\n",
              "      background-color: #E8F0FE;\n",
              "      border: none;\n",
              "      border-radius: 50%;\n",
              "      cursor: pointer;\n",
              "      display: none;\n",
              "      fill: #1967D2;\n",
              "      height: 32px;\n",
              "      padding: 0 0 0 0;\n",
              "      width: 32px;\n",
              "    }\n",
              "\n",
              "    .colab-df-convert:hover {\n",
              "      background-color: #E2EBFA;\n",
              "      box-shadow: 0px 1px 2px rgba(60, 64, 67, 0.3), 0px 1px 3px 1px rgba(60, 64, 67, 0.15);\n",
              "      fill: #174EA6;\n",
              "    }\n",
              "\n",
              "    [theme=dark] .colab-df-convert {\n",
              "      background-color: #3B4455;\n",
              "      fill: #D2E3FC;\n",
              "    }\n",
              "\n",
              "    [theme=dark] .colab-df-convert:hover {\n",
              "      background-color: #434B5C;\n",
              "      box-shadow: 0px 1px 3px 1px rgba(0, 0, 0, 0.15);\n",
              "      filter: drop-shadow(0px 1px 2px rgba(0, 0, 0, 0.3));\n",
              "      fill: #FFFFFF;\n",
              "    }\n",
              "  </style>\n",
              "\n",
              "      <script>\n",
              "        const buttonEl =\n",
              "          document.querySelector('#df-0f93b8cc-d781-4bf5-b9ed-239dd78ce3ad button.colab-df-convert');\n",
              "        buttonEl.style.display =\n",
              "          google.colab.kernel.accessAllowed ? 'block' : 'none';\n",
              "\n",
              "        async function convertToInteractive(key) {\n",
              "          const element = document.querySelector('#df-0f93b8cc-d781-4bf5-b9ed-239dd78ce3ad');\n",
              "          const dataTable =\n",
              "            await google.colab.kernel.invokeFunction('convertToInteractive',\n",
              "                                                     [key], {});\n",
              "          if (!dataTable) return;\n",
              "\n",
              "          const docLinkHtml = 'Like what you see? Visit the ' +\n",
              "            '<a target=\"_blank\" href=https://colab.research.google.com/notebooks/data_table.ipynb>data table notebook</a>'\n",
              "            + ' to learn more about interactive tables.';\n",
              "          element.innerHTML = '';\n",
              "          dataTable['output_type'] = 'display_data';\n",
              "          await google.colab.output.renderOutput(dataTable, element);\n",
              "          const docLink = document.createElement('div');\n",
              "          docLink.innerHTML = docLinkHtml;\n",
              "          element.appendChild(docLink);\n",
              "        }\n",
              "      </script>\n",
              "    </div>\n",
              "  </div>\n",
              "  "
            ]
          },
          "metadata": {},
          "execution_count": 102
        }
      ]
    },
    {
      "cell_type": "markdown",
      "source": [
        "## Standard Deviations"
      ],
      "metadata": {
        "id": "V87oG7hRDrxy"
      }
    },
    {
      "cell_type": "code",
      "source": [
        "va=np.dot(Weights.T,np.dot(Cov,Weights))\n",
        "Std_dev=np.sqrt(va)\n",
        "print(\"The standard deviation of the portfolio is %s \"%Std_dev)"
      ],
      "metadata": {
        "colab": {
          "base_uri": "https://localhost:8080/"
        },
        "id": "RDNPgoehCZr5",
        "outputId": "492fd9e5-3211-4348-828f-aade26d3558d"
      },
      "execution_count": null,
      "outputs": [
        {
          "output_type": "stream",
          "name": "stdout",
          "text": [
            "The standard deviation of the portfolio is 0.8264534509523662 \n"
          ]
        }
      ]
    },
    {
      "cell_type": "markdown",
      "source": [
        "## Correlations of the returns\n",
        "\n"
      ],
      "metadata": {
        "id": "YuuduDFyE1qM"
      }
    },
    {
      "cell_type": "code",
      "source": [
        "Returns.corr()"
      ],
      "metadata": {
        "colab": {
          "base_uri": "https://localhost:8080/",
          "height": 112
        },
        "id": "EYjJIPBME8o-",
        "outputId": "c3302cfc-4945-467f-a0ba-c10ed1115a9d"
      },
      "execution_count": null,
      "outputs": [
        {
          "output_type": "execute_result",
          "data": {
            "text/plain": [
              "            SI      TSLA\n",
              "SI    1.000000  0.366109\n",
              "TSLA  0.366109  1.000000"
            ],
            "text/html": [
              "\n",
              "  <div id=\"df-403ac47f-5b85-4246-b762-c2176b1ccfb7\">\n",
              "    <div class=\"colab-df-container\">\n",
              "      <div>\n",
              "<style scoped>\n",
              "    .dataframe tbody tr th:only-of-type {\n",
              "        vertical-align: middle;\n",
              "    }\n",
              "\n",
              "    .dataframe tbody tr th {\n",
              "        vertical-align: top;\n",
              "    }\n",
              "\n",
              "    .dataframe thead th {\n",
              "        text-align: right;\n",
              "    }\n",
              "</style>\n",
              "<table border=\"1\" class=\"dataframe\">\n",
              "  <thead>\n",
              "    <tr style=\"text-align: right;\">\n",
              "      <th></th>\n",
              "      <th>SI</th>\n",
              "      <th>TSLA</th>\n",
              "    </tr>\n",
              "  </thead>\n",
              "  <tbody>\n",
              "    <tr>\n",
              "      <th>SI</th>\n",
              "      <td>1.000000</td>\n",
              "      <td>0.366109</td>\n",
              "    </tr>\n",
              "    <tr>\n",
              "      <th>TSLA</th>\n",
              "      <td>0.366109</td>\n",
              "      <td>1.000000</td>\n",
              "    </tr>\n",
              "  </tbody>\n",
              "</table>\n",
              "</div>\n",
              "      <button class=\"colab-df-convert\" onclick=\"convertToInteractive('df-403ac47f-5b85-4246-b762-c2176b1ccfb7')\"\n",
              "              title=\"Convert this dataframe to an interactive table.\"\n",
              "              style=\"display:none;\">\n",
              "        \n",
              "  <svg xmlns=\"http://www.w3.org/2000/svg\" height=\"24px\"viewBox=\"0 0 24 24\"\n",
              "       width=\"24px\">\n",
              "    <path d=\"M0 0h24v24H0V0z\" fill=\"none\"/>\n",
              "    <path d=\"M18.56 5.44l.94 2.06.94-2.06 2.06-.94-2.06-.94-.94-2.06-.94 2.06-2.06.94zm-11 1L8.5 8.5l.94-2.06 2.06-.94-2.06-.94L8.5 2.5l-.94 2.06-2.06.94zm10 10l.94 2.06.94-2.06 2.06-.94-2.06-.94-.94-2.06-.94 2.06-2.06.94z\"/><path d=\"M17.41 7.96l-1.37-1.37c-.4-.4-.92-.59-1.43-.59-.52 0-1.04.2-1.43.59L10.3 9.45l-7.72 7.72c-.78.78-.78 2.05 0 2.83L4 21.41c.39.39.9.59 1.41.59.51 0 1.02-.2 1.41-.59l7.78-7.78 2.81-2.81c.8-.78.8-2.07 0-2.86zM5.41 20L4 18.59l7.72-7.72 1.47 1.35L5.41 20z\"/>\n",
              "  </svg>\n",
              "      </button>\n",
              "      \n",
              "  <style>\n",
              "    .colab-df-container {\n",
              "      display:flex;\n",
              "      flex-wrap:wrap;\n",
              "      gap: 12px;\n",
              "    }\n",
              "\n",
              "    .colab-df-convert {\n",
              "      background-color: #E8F0FE;\n",
              "      border: none;\n",
              "      border-radius: 50%;\n",
              "      cursor: pointer;\n",
              "      display: none;\n",
              "      fill: #1967D2;\n",
              "      height: 32px;\n",
              "      padding: 0 0 0 0;\n",
              "      width: 32px;\n",
              "    }\n",
              "\n",
              "    .colab-df-convert:hover {\n",
              "      background-color: #E2EBFA;\n",
              "      box-shadow: 0px 1px 2px rgba(60, 64, 67, 0.3), 0px 1px 3px 1px rgba(60, 64, 67, 0.15);\n",
              "      fill: #174EA6;\n",
              "    }\n",
              "\n",
              "    [theme=dark] .colab-df-convert {\n",
              "      background-color: #3B4455;\n",
              "      fill: #D2E3FC;\n",
              "    }\n",
              "\n",
              "    [theme=dark] .colab-df-convert:hover {\n",
              "      background-color: #434B5C;\n",
              "      box-shadow: 0px 1px 3px 1px rgba(0, 0, 0, 0.15);\n",
              "      filter: drop-shadow(0px 1px 2px rgba(0, 0, 0, 0.3));\n",
              "      fill: #FFFFFF;\n",
              "    }\n",
              "  </style>\n",
              "\n",
              "      <script>\n",
              "        const buttonEl =\n",
              "          document.querySelector('#df-403ac47f-5b85-4246-b762-c2176b1ccfb7 button.colab-df-convert');\n",
              "        buttonEl.style.display =\n",
              "          google.colab.kernel.accessAllowed ? 'block' : 'none';\n",
              "\n",
              "        async function convertToInteractive(key) {\n",
              "          const element = document.querySelector('#df-403ac47f-5b85-4246-b762-c2176b1ccfb7');\n",
              "          const dataTable =\n",
              "            await google.colab.kernel.invokeFunction('convertToInteractive',\n",
              "                                                     [key], {});\n",
              "          if (!dataTable) return;\n",
              "\n",
              "          const docLinkHtml = 'Like what you see? Visit the ' +\n",
              "            '<a target=\"_blank\" href=https://colab.research.google.com/notebooks/data_table.ipynb>data table notebook</a>'\n",
              "            + ' to learn more about interactive tables.';\n",
              "          element.innerHTML = '';\n",
              "          dataTable['output_type'] = 'display_data';\n",
              "          await google.colab.output.renderOutput(dataTable, element);\n",
              "          const docLink = document.createElement('div');\n",
              "          docLink.innerHTML = docLinkHtml;\n",
              "          element.appendChild(docLink);\n",
              "        }\n",
              "      </script>\n",
              "    </div>\n",
              "  </div>\n",
              "  "
            ]
          },
          "metadata": {},
          "execution_count": 109
        }
      ]
    },
    {
      "cell_type": "code",
      "source": [
        "\n",
        "fig, ax1 = plt.subplots()\n",
        "ax1.set_xlabel('Date')\n",
        "ax1.set_ylabel('Silver_returns', color = 'g')\n",
        "ax1.plot(Returns.SI, color = 'g', label='Silver')\n",
        "ax1.tick_params(axis='y', labelcolor ='g')\n",
        "ax2 = ax1.twinx()\n",
        "ax2.set_ylabel('Tesla_returns', color = 'y')\n",
        "ax2.plot(Returns.TSLA, color = 'y', label='BTC')\n",
        "ax2.tick_params(axis = 'y', labelcolor = 'y')\n",
        "ax1.grid()\n",
        "fig.set_figheight(7)\n",
        "fig.set_figwidth(15)\n",
        "plt.title(\" Silver Vs Tesla stocks for the period 2020- 2023\")\n",
        "ax1.legend(loc=\"upper left\")\n",
        "ax2.legend()\n"
      ],
      "metadata": {
        "colab": {
          "base_uri": "https://localhost:8080/",
          "height": 475
        },
        "id": "SkB_VCsBE-Wz",
        "outputId": "17ffb227-3b2f-4438-c314-cb7973eb7055"
      },
      "execution_count": null,
      "outputs": [
        {
          "output_type": "execute_result",
          "data": {
            "text/plain": [
              "<matplotlib.legend.Legend at 0x7f1d64bf9b50>"
            ]
          },
          "metadata": {},
          "execution_count": 115
        },
        {
          "output_type": "display_data",
          "data": {
            "text/plain": [
              "<Figure size 1080x504 with 2 Axes>"
            ],
            "image/png": "[encoded data removed]"
          },
          "metadata": {}
        }
      ]
    },
    {
      "cell_type": "markdown",
      "source": [
        "## Volatility"
      ],
      "metadata": {
        "id": "HdLP63e7Gcf9"
      }
    },
    {
      "cell_type": "code",
      "source": [
        "Volatility=np.around(math.sqrt(va),3)\n",
        "print(\"Annual Std deviation of the portfolio is %s\"%(Volatility))"
      ],
      "metadata": {
        "colab": {
          "base_uri": "https://localhost:8080/"
        },
        "id": "o8NwZGFBFdMy",
        "outputId": "be520257-ba36-45b7-85e6-74c933cbf2e0"
      },
      "execution_count": null,
      "outputs": [
        {
          "output_type": "stream",
          "name": "stdout",
          "text": [
            "Annual Std deviation of the portfolio is 0.826\n"
          ]
        }
      ]
    },
    {
      "cell_type": "code",
      "source": [
        "# Daily Portfolio Vs individua Stock Prices\n",
        "Returns[\"PortFolio\"]=(Returns.SI*W1_Silver)+(Returns.TSLA*W2_Tesla)\n",
        "Returns.head()"
      ],
      "metadata": {
        "colab": {
          "base_uri": "https://localhost:8080/",
          "height": 238
        },
        "id": "YDjPo42ZGpQS",
        "outputId": "536a9559-a279-480f-dc59-eadb349b3efe"
      },
      "execution_count": null,
      "outputs": [
        {
          "output_type": "execute_result",
          "data": {
            "text/plain": [
              "                                 SI      TSLA  PortFolio\n",
              "Date                                                    \n",
              "2020-01-03 00:00:00-05:00  0.000000  0.029633   0.023203\n",
              "2020-01-06 00:00:00-05:00  0.000628  0.019255   0.015213\n",
              "2020-01-07 00:00:00-05:00  0.021957  0.038801   0.035146\n",
              "2020-01-08 00:00:00-05:00  0.008594  0.049205   0.040392\n",
              "2020-01-09 00:00:00-05:00 -0.021303 -0.021945  -0.021806"
            ],
            "text/html": [
              "\n",
              "  <div id=\"df-e204c448-c0e8-4e13-bc7b-c909f098270e\">\n",
              "    <div class=\"colab-df-container\">\n",
              "      <div>\n",
              "<style scoped>\n",
              "    .dataframe tbody tr th:only-of-type {\n",
              "        vertical-align: middle;\n",
              "    }\n",
              "\n",
              "    .dataframe tbody tr th {\n",
              "        vertical-align: top;\n",
              "    }\n",
              "\n",
              "    .dataframe thead th {\n",
              "        text-align: right;\n",
              "    }\n",
              "</style>\n",
              "<table border=\"1\" class=\"dataframe\">\n",
              "  <thead>\n",
              "    <tr style=\"text-align: right;\">\n",
              "      <th></th>\n",
              "      <th>SI</th>\n",
              "      <th>TSLA</th>\n",
              "      <th>PortFolio</th>\n",
              "    </tr>\n",
              "    <tr>\n",
              "      <th>Date</th>\n",
              "      <th></th>\n",
              "      <th></th>\n",
              "      <th></th>\n",
              "    </tr>\n",
              "  </thead>\n",
              "  <tbody>\n",
              "    <tr>\n",
              "      <th>2020-01-03 00:00:00-05:00</th>\n",
              "      <td>0.000000</td>\n",
              "      <td>0.029633</td>\n",
              "      <td>0.023203</td>\n",
              "    </tr>\n",
              "    <tr>\n",
              "      <th>2020-01-06 00:00:00-05:00</th>\n",
              "      <td>0.000628</td>\n",
              "      <td>0.019255</td>\n",
              "      <td>0.015213</td>\n",
              "    </tr>\n",
              "    <tr>\n",
              "      <th>2020-01-07 00:00:00-05:00</th>\n",
              "      <td>0.021957</td>\n",
              "      <td>0.038801</td>\n",
              "      <td>0.035146</td>\n",
              "    </tr>\n",
              "    <tr>\n",
              "      <th>2020-01-08 00:00:00-05:00</th>\n",
              "      <td>0.008594</td>\n",
              "      <td>0.049205</td>\n",
              "      <td>0.040392</td>\n",
              "    </tr>\n",
              "    <tr>\n",
              "      <th>2020-01-09 00:00:00-05:00</th>\n",
              "      <td>-0.021303</td>\n",
              "      <td>-0.021945</td>\n",
              "      <td>-0.021806</td>\n",
              "    </tr>\n",
              "  </tbody>\n",
              "</table>\n",
              "</div>\n",
              "      <button class=\"colab-df-convert\" onclick=\"convertToInteractive('df-e204c448-c0e8-4e13-bc7b-c909f098270e')\"\n",
              "              title=\"Convert this dataframe to an interactive table.\"\n",
              "              style=\"display:none;\">\n",
              "        \n",
              "  <svg xmlns=\"http://www.w3.org/2000/svg\" height=\"24px\"viewBox=\"0 0 24 24\"\n",
              "       width=\"24px\">\n",
              "    <path d=\"M0 0h24v24H0V0z\" fill=\"none\"/>\n",
              "    <path d=\"M18.56 5.44l.94 2.06.94-2.06 2.06-.94-2.06-.94-.94-2.06-.94 2.06-2.06.94zm-11 1L8.5 8.5l.94-2.06 2.06-.94-2.06-.94L8.5 2.5l-.94 2.06-2.06.94zm10 10l.94 2.06.94-2.06 2.06-.94-2.06-.94-.94-2.06-.94 2.06-2.06.94z\"/><path d=\"M17.41 7.96l-1.37-1.37c-.4-.4-.92-.59-1.43-.59-.52 0-1.04.2-1.43.59L10.3 9.45l-7.72 7.72c-.78.78-.78 2.05 0 2.83L4 21.41c.39.39.9.59 1.41.59.51 0 1.02-.2 1.41-.59l7.78-7.78 2.81-2.81c.8-.78.8-2.07 0-2.86zM5.41 20L4 18.59l7.72-7.72 1.47 1.35L5.41 20z\"/>\n",
              "  </svg>\n",
              "      </button>\n",
              "      \n",
              "  <style>\n",
              "    .colab-df-container {\n",
              "      display:flex;\n",
              "      flex-wrap:wrap;\n",
              "      gap: 12px;\n",
              "    }\n",
              "\n",
              "    .colab-df-convert {\n",
              "      background-color: #E8F0FE;\n",
              "      border: none;\n",
              "      border-radius: 50%;\n",
              "      cursor: pointer;\n",
              "      display: none;\n",
              "      fill: #1967D2;\n",
              "      height: 32px;\n",
              "      padding: 0 0 0 0;\n",
              "      width: 32px;\n",
              "    }\n",
              "\n",
              "    .colab-df-convert:hover {\n",
              "      background-color: #E2EBFA;\n",
              "      box-shadow: 0px 1px 2px rgba(60, 64, 67, 0.3), 0px 1px 3px 1px rgba(60, 64, 67, 0.15);\n",
              "      fill: #174EA6;\n",
              "    }\n",
              "\n",
              "    [theme=dark] .colab-df-convert {\n",
              "      background-color: #3B4455;\n",
              "      fill: #D2E3FC;\n",
              "    }\n",
              "\n",
              "    [theme=dark] .colab-df-convert:hover {\n",
              "      background-color: #434B5C;\n",
              "      box-shadow: 0px 1px 3px 1px rgba(0, 0, 0, 0.15);\n",
              "      filter: drop-shadow(0px 1px 2px rgba(0, 0, 0, 0.3));\n",
              "      fill: #FFFFFF;\n",
              "    }\n",
              "  </style>\n",
              "\n",
              "      <script>\n",
              "        const buttonEl =\n",
              "          document.querySelector('#df-e204c448-c0e8-4e13-bc7b-c909f098270e button.colab-df-convert');\n",
              "        buttonEl.style.display =\n",
              "          google.colab.kernel.accessAllowed ? 'block' : 'none';\n",
              "\n",
              "        async function convertToInteractive(key) {\n",
              "          const element = document.querySelector('#df-e204c448-c0e8-4e13-bc7b-c909f098270e');\n",
              "          const dataTable =\n",
              "            await google.colab.kernel.invokeFunction('convertToInteractive',\n",
              "                                                     [key], {});\n",
              "          if (!dataTable) return;\n",
              "\n",
              "          const docLinkHtml = 'Like what you see? Visit the ' +\n",
              "            '<a target=\"_blank\" href=https://colab.research.google.com/notebooks/data_table.ipynb>data table notebook</a>'\n",
              "            + ' to learn more about interactive tables.';\n",
              "          element.innerHTML = '';\n",
              "          dataTable['output_type'] = 'display_data';\n",
              "          await google.colab.output.renderOutput(dataTable, element);\n",
              "          const docLink = document.createElement('div');\n",
              "          docLink.innerHTML = docLinkHtml;\n",
              "          element.appendChild(docLink);\n",
              "        }\n",
              "      </script>\n",
              "    </div>\n",
              "  </div>\n",
              "  "
            ]
          },
          "metadata": {},
          "execution_count": 124
        }
      ]
    },
    {
      "cell_type": "code",
      "source": [
        "Returns.plot(y=[\"SI\", \"TSLA\", \"PortFolio\"])\n",
        "plt.xlabel(\"DATE\")\n",
        "plt.ylabel(\"Retuns\")\n",
        "plt.title(\"GOLD, BTC and PORTFOLIO RETURN\")\n",
        "plt.figure(figsize=(15, 25))\n"
      ],
      "metadata": {
        "colab": {
          "base_uri": "https://localhost:8080/",
          "height": 328
        },
        "id": "XGRo611VHvw2",
        "outputId": "588a82f2-73e7-46e2-da55-7bcdcb94ccf8"
      },
      "execution_count": null,
      "outputs": [
        {
          "output_type": "execute_result",
          "data": {
            "text/plain": [
              "<Figure size 1080x1800 with 0 Axes>"
            ]
          },
          "metadata": {},
          "execution_count": 127
        },
        {
          "output_type": "display_data",
          "data": {
            "text/plain": [
              "<Figure size 432x288 with 1 Axes>"
            ],
            "image/png": "[encoded data removed]"
          },
          "metadata": {
            "needs_background": "light"
          }
        },
        {
          "output_type": "display_data",
          "data": {
            "text/plain": [
              "<Figure size 1080x1800 with 0 Axes>"
            ]
          },
          "metadata": {}
        }
      ]
    },
    {
      "cell_type": "code",
      "source": [
        "# Returns Average\n",
        "Returns.mean().round(5)"
      ],
      "metadata": {
        "colab": {
          "base_uri": "https://localhost:8080/"
        },
        "id": "oF4NJzWOIHDU",
        "outputId": "2dfa91a9-1c66-44e5-f4a5-158bec8f95c7"
      },
      "execution_count": null,
      "outputs": [
        {
          "output_type": "execute_result",
          "data": {
            "text/plain": [
              "SI           0.00196\n",
              "TSLA         0.00332\n",
              "PortFolio    0.00303\n",
              "dtype: float64"
            ]
          },
          "metadata": {},
          "execution_count": 129
        }
      ]
    },
    {
      "cell_type": "code",
      "source": [
        "# Returns Std Dev\n",
        "Returns.std().round(5)"
      ],
      "metadata": {
        "colab": {
          "base_uri": "https://localhost:8080/"
        },
        "id": "4JIgFETSIieD",
        "outputId": "0dbc49cd-056a-4c17-a11f-12034b568109"
      },
      "execution_count": null,
      "outputs": [
        {
          "output_type": "execute_result",
          "data": {
            "text/plain": [
              "SI           0.06615\n",
              "TSLA         0.04584\n",
              "PortFolio    0.04326\n",
              "dtype: float64"
            ]
          },
          "metadata": {},
          "execution_count": 130
        }
      ]
    },
    {
      "cell_type": "markdown",
      "source": [
        "The volatility has been reduced significantly due to diversification\n",
        "## Side by Side Comparison"
      ],
      "metadata": {
        "id": "i7Jgn5enI1ex"
      }
    },
    {
      "cell_type": "code",
      "source": [
        "fig, axes = plt.subplots(1, 2)\n",
        "Returns.hist('SI', bins=10, ax=axes[0])\n",
        "Returns.hist('TSLA', bins=10, ax=axes[1])"
      ],
      "metadata": {
        "colab": {
          "base_uri": "https://localhost:8080/",
          "height": 316
        },
        "id": "2wsz98-bIuCl",
        "outputId": "0687dce7-a627-4b10-f724-58abf9d025ae"
      },
      "execution_count": null,
      "outputs": [
        {
          "output_type": "execute_result",
          "data": {
            "text/plain": [
              "array([<matplotlib.axes._subplots.AxesSubplot object at 0x7f1d57ff5c10>],\n",
              "      dtype=object)"
            ]
          },
          "metadata": {},
          "execution_count": 135
        },
        {
          "output_type": "display_data",
          "data": {
            "text/plain": [
              "<Figure size 432x288 with 2 Axes>"
            ],
            "image/png": "[encoded data removed]"
          },
          "metadata": {
            "needs_background": "light"
          }
        }
      ]
    },
    {
      "cell_type": "code",
      "source": [
        "fig, axes = plt.subplots(1, 2)\n",
        "Returns.hist('SI', bins=10, ax=axes[0])\n",
        "Returns.hist('PortFolio', bins=10, ax=axes[1])"
      ],
      "metadata": {
        "colab": {
          "base_uri": "https://localhost:8080/",
          "height": 316
        },
        "id": "lkxKa9VmJYOq",
        "outputId": "a003be3d-9762-414a-fdce-9cb17cca2485"
      },
      "execution_count": null,
      "outputs": [
        {
          "output_type": "execute_result",
          "data": {
            "text/plain": [
              "array([<matplotlib.axes._subplots.AxesSubplot object at 0x7f1d57ecc250>],\n",
              "      dtype=object)"
            ]
          },
          "metadata": {},
          "execution_count": 136
        },
        {
          "output_type": "display_data",
          "data": {
            "text/plain": [
              "<Figure size 432x288 with 2 Axes>"
            ],
            "image/png": "[encoded data removed]"
          },
          "metadata": {
            "needs_background": "light"
          }
        }
      ]
    },
    {
      "cell_type": "code",
      "source": [
        "fig, axes = plt.subplots(1, 2)\n",
        "Returns.hist('TSLA', bins=10, ax=axes[0])\n",
        "Returns.hist('PortFolio', bins=10, ax=axes[1])"
      ],
      "metadata": {
        "colab": {
          "base_uri": "https://localhost:8080/",
          "height": 316
        },
        "id": "y4_5GSHpJvos",
        "outputId": "80a513df-7869-4442-90fc-61ab8ba2f1a2"
      },
      "execution_count": null,
      "outputs": [
        {
          "output_type": "execute_result",
          "data": {
            "text/plain": [
              "array([<matplotlib.axes._subplots.AxesSubplot object at 0x7f1d57e23280>],\n",
              "      dtype=object)"
            ]
          },
          "metadata": {},
          "execution_count": 137
        },
        {
          "output_type": "display_data",
          "data": {
            "text/plain": [
              "<Figure size 432x288 with 2 Axes>"
            ],
            "image/png": "[encoded data removed]"
          },
          "metadata": {
            "needs_background": "light"
          }
        }
      ]
    }
  ],
  "metadata": {
    "kernelspec": {
      "display_name": "Python 3",
      "language": "python",
      "name": "python3"
    },
    "language_info": {
      "codemirror_mode": {
        "name": "ipython",
        "version": 3
      },
      "file_extension": ".py",
      "mimetype": "text/x-python",
      "name": "python",
      "nbconvert_exporter": "python",
      "pygments_lexer": "ipython3",
      "version": "3.7.3"
    },
    "colab": {
      "provenance": [],
      "include_colab_link": true
    }
  },
  "nbformat": 4,
  "nbformat_minor": 0
}