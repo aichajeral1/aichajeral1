{
  "cells": [
    {
      "cell_type": "markdown",
      "metadata": {
        "id": "view-in-github",
        "colab_type": "text"
      },
      "source": [
        "<a href=\"https://colab.research.google.com/github/aichajeral1/aichajeral1/blob/main/GWP_1_MScFE622_Stochastic_Modeling_Group_3588_rev02.ipynb\" target=\"_parent\"><img src=\"https://colab.research.google.com/assets/colab-badge.svg\" alt=\"Open In Colab\"/></a>"
      ]
    },
    {
      "cell_type": "markdown",
      "metadata": {
        "id": "TKdPChdyTrgt"
      },
      "source": [
        "# MScFE 622 Stochastic Modeling Group Work Project # 1\n",
        "Authors: Jatin Patni, Olabode Samuel James and Eugene Aicha\n",
        "\n",
        "Group No:  3588"
      ]
    },
    {
      "cell_type": "markdown",
      "metadata": {
        "id": "sv_Iwz37T2Pz"
      },
      "source": [
        "## Summary -"
      ]
    },
    {
      "cell_type": "markdown",
      "metadata": {
        "id": "xtvRhV9x9ALJ"
      },
      "source": [
        "As needed for pricing of options under various assumptions to achieve near real-market result, this project focused on modeling Stochastic Volatility under Heston(1993) Model and Lewis(2001) pricing approach, Combining Stochastic Volatility with Jump Diffusion under the Bates(1996) under Lewis(2001) and Carr-Madan(1999) pricing approaches.\n",
        "\n",
        "Euribor 12-month Interest rates was also modeled and calibrated under CIR(1985) to the observed real world interest rate.\n",
        "\n",
        "Bates(1996) Jump component was accomplished through the adjusted Merton Methods.\n",
        "\n",
        "Accompanying codes, plots and deductions have been well enumerated in this report."
      ]
    },
    {
      "cell_type": "markdown",
      "metadata": {
        "id": "tk9jgujuUnxh"
      },
      "source": [
        "## Import Libraries"
      ]
    },
    {
      "cell_type": "code",
      "execution_count": null,
      "metadata": {
        "id": "s9ZSespa7bu-"
      },
      "outputs": [],
      "source": [
        "#Standard Python Library for Tabular data\n",
        "import pandas as pd\n",
        "import numpy as np\n",
        "\n",
        "#library for optimization\n",
        "from scipy.optimize import brute, fmin\n",
        "from scipy.optimize import minimize\n",
        "\n",
        "#library for Lewis 2001 Quadrature - summation of integral\n",
        "from scipy.integrate import quad\n",
        "\n",
        "\n",
        "#library for Ploting the Charts\n",
        "import matplotlib.pyplot as plt\n",
        "\n",
        "#Access to the Math Library in Python\n",
        "import math"
      ]
    },
    {
      "cell_type": "code",
      "execution_count": null,
      "metadata": {
        "id": "JO_h2UiWcKou"
      },
      "outputs": [],
      "source": [
        "import warnings\n",
        "\n",
        "# Ignore all warnings\n",
        "warnings.filterwarnings(\"ignore\")\n"
      ]
    },
    {
      "cell_type": "markdown",
      "metadata": {
        "id": "NwA1OXVo3_ec"
      },
      "source": [
        "### Common Parameters"
      ]
    },
    {
      "cell_type": "code",
      "execution_count": null,
      "metadata": {
        "id": "hmZlXurH4REu"
      },
      "outputs": [],
      "source": [
        "#Parameters\n",
        "\n",
        "S0 = 232.90\n",
        "num_days_year = 250 # assume trading days in a year\n",
        "r = 1.5/100 # constant annual risk-free rate of 1.50%"
      ]
    },
    {
      "cell_type": "markdown",
      "metadata": {
        "id": "9FRwlLkU7TL3"
      },
      "source": [
        "## Options Data"
      ]
    },
    {
      "cell_type": "markdown",
      "metadata": {
        "id": "YCeARtJC3x16"
      },
      "source": [
        "\n",
        "### Importing the Dataset from excel"
      ]
    },
    {
      "cell_type": "code",
      "execution_count": null,
      "metadata": {
        "id": "yhaZXqEo23J5"
      },
      "outputs": [],
      "source": [
        "data = pd.read_excel(\"MScFE 622_Stochastic Modeling_GWP1_Option data.xlsx\")"
      ]
    },
    {
      "cell_type": "code",
      "execution_count": null,
      "metadata": {
        "colab": {
          "base_uri": "https://localhost:8080/",
          "height": 206
        },
        "id": "XKJc8wQ55yey",
        "outputId": "b50bc77e-5eaf-4db4-82d7-2d5bcab8904c"
      },
      "outputs": [
        {
          "output_type": "execute_result",
          "data": {
            "text/plain": [
              "   Days to maturity  Strike  Price Type\n",
              "0                15   227.5  10.52    C\n",
              "1                15   230.0  10.05    C\n",
              "2                15   232.5   7.75    C\n",
              "3                15   235.0   6.01    C\n",
              "4                15   237.5   4.75    C"
            ],
            "text/html": [
              "\n",
              "\n",
              "  <div id=\"df-9f06d77e-f799-4ca6-a085-7ba28fef9557\">\n",
              "    <div class=\"colab-df-container\">\n",
              "      <div>\n",
              "<style scoped>\n",
              "    .dataframe tbody tr th:only-of-type {\n",
              "        vertical-align: middle;\n",
              "    }\n",
              "\n",
              "    .dataframe tbody tr th {\n",
              "        vertical-align: top;\n",
              "    }\n",
              "\n",
              "    .dataframe thead th {\n",
              "        text-align: right;\n",
              "    }\n",
              "</style>\n",
              "<table border=\"1\" class=\"dataframe\">\n",
              "  <thead>\n",
              "    <tr style=\"text-align: right;\">\n",
              "      <th></th>\n",
              "      <th>Days to maturity</th>\n",
              "      <th>Strike</th>\n",
              "      <th>Price</th>\n",
              "      <th>Type</th>\n",
              "    </tr>\n",
              "  </thead>\n",
              "  <tbody>\n",
              "    <tr>\n",
              "      <th>0</th>\n",
              "      <td>15</td>\n",
              "      <td>227.5</td>\n",
              "      <td>10.52</td>\n",
              "      <td>C</td>\n",
              "    </tr>\n",
              "    <tr>\n",
              "      <th>1</th>\n",
              "      <td>15</td>\n",
              "      <td>230.0</td>\n",
              "      <td>10.05</td>\n",
              "      <td>C</td>\n",
              "    </tr>\n",
              "    <tr>\n",
              "      <th>2</th>\n",
              "      <td>15</td>\n",
              "      <td>232.5</td>\n",
              "      <td>7.75</td>\n",
              "      <td>C</td>\n",
              "    </tr>\n",
              "    <tr>\n",
              "      <th>3</th>\n",
              "      <td>15</td>\n",
              "      <td>235.0</td>\n",
              "      <td>6.01</td>\n",
              "      <td>C</td>\n",
              "    </tr>\n",
              "    <tr>\n",
              "      <th>4</th>\n",
              "      <td>15</td>\n",
              "      <td>237.5</td>\n",
              "      <td>4.75</td>\n",
              "      <td>C</td>\n",
              "    </tr>\n",
              "  </tbody>\n",
              "</table>\n",
              "</div>\n",
              "      <button class=\"colab-df-convert\" onclick=\"convertToInteractive('df-9f06d77e-f799-4ca6-a085-7ba28fef9557')\"\n",
              "              title=\"Convert this dataframe to an interactive table.\"\n",
              "              style=\"display:none;\">\n",
              "\n",
              "  <svg xmlns=\"http://www.w3.org/2000/svg\" height=\"24px\"viewBox=\"0 0 24 24\"\n",
              "       width=\"24px\">\n",
              "    <path d=\"M0 0h24v24H0V0z\" fill=\"none\"/>\n",
              "    <path d=\"M18.56 5.44l.94 2.06.94-2.06 2.06-.94-2.06-.94-.94-2.06-.94 2.06-2.06.94zm-11 1L8.5 8.5l.94-2.06 2.06-.94-2.06-.94L8.5 2.5l-.94 2.06-2.06.94zm10 10l.94 2.06.94-2.06 2.06-.94-2.06-.94-.94-2.06-.94 2.06-2.06.94z\"/><path d=\"M17.41 7.96l-1.37-1.37c-.4-.4-.92-.59-1.43-.59-.52 0-1.04.2-1.43.59L10.3 9.45l-7.72 7.72c-.78.78-.78 2.05 0 2.83L4 21.41c.39.39.9.59 1.41.59.51 0 1.02-.2 1.41-.59l7.78-7.78 2.81-2.81c.8-.78.8-2.07 0-2.86zM5.41 20L4 18.59l7.72-7.72 1.47 1.35L5.41 20z\"/>\n",
              "  </svg>\n",
              "      </button>\n",
              "\n",
              "\n",
              "\n",
              "    <div id=\"df-2d28d69e-46ca-434d-af88-8978ea5793b3\">\n",
              "      <button class=\"colab-df-quickchart\" onclick=\"quickchart('df-2d28d69e-46ca-434d-af88-8978ea5793b3')\"\n",
              "              title=\"Suggest charts.\"\n",
              "              style=\"display:none;\">\n",
              "\n",
              "<svg xmlns=\"http://www.w3.org/2000/svg\" height=\"24px\"viewBox=\"0 0 24 24\"\n",
              "     width=\"24px\">\n",
              "    <g>\n",
              "        <path d=\"M19 3H5c-1.1 0-2 .9-2 2v14c0 1.1.9 2 2 2h14c1.1 0 2-.9 2-2V5c0-1.1-.9-2-2-2zM9 17H7v-7h2v7zm4 0h-2V7h2v10zm4 0h-2v-4h2v4z\"/>\n",
              "    </g>\n",
              "</svg>\n",
              "      </button>\n",
              "    </div>\n",
              "\n",
              "<style>\n",
              "  .colab-df-quickchart {\n",
              "    background-color: #E8F0FE;\n",
              "    border: none;\n",
              "    border-radius: 50%;\n",
              "    cursor: pointer;\n",
              "    display: none;\n",
              "    fill: #1967D2;\n",
              "    height: 32px;\n",
              "    padding: 0 0 0 0;\n",
              "    width: 32px;\n",
              "  }\n",
              "\n",
              "  .colab-df-quickchart:hover {\n",
              "    background-color: #E2EBFA;\n",
              "    box-shadow: 0px 1px 2px rgba(60, 64, 67, 0.3), 0px 1px 3px 1px rgba(60, 64, 67, 0.15);\n",
              "    fill: #174EA6;\n",
              "  }\n",
              "\n",
              "  [theme=dark] .colab-df-quickchart {\n",
              "    background-color: #3B4455;\n",
              "    fill: #D2E3FC;\n",
              "  }\n",
              "\n",
              "  [theme=dark] .colab-df-quickchart:hover {\n",
              "    background-color: #434B5C;\n",
              "    box-shadow: 0px 1px 3px 1px rgba(0, 0, 0, 0.15);\n",
              "    filter: drop-shadow(0px 1px 2px rgba(0, 0, 0, 0.3));\n",
              "    fill: #FFFFFF;\n",
              "  }\n",
              "</style>\n",
              "\n",
              "    <script>\n",
              "      async function quickchart(key) {\n",
              "        const containerElement = document.querySelector('#' + key);\n",
              "        const charts = await google.colab.kernel.invokeFunction(\n",
              "            'suggestCharts', [key], {});\n",
              "      }\n",
              "    </script>\n",
              "\n",
              "      <script>\n",
              "\n",
              "function displayQuickchartButton(domScope) {\n",
              "  let quickchartButtonEl =\n",
              "    domScope.querySelector('#df-2d28d69e-46ca-434d-af88-8978ea5793b3 button.colab-df-quickchart');\n",
              "  quickchartButtonEl.style.display =\n",
              "    google.colab.kernel.accessAllowed ? 'block' : 'none';\n",
              "}\n",
              "\n",
              "        displayQuickchartButton(document);\n",
              "      </script>\n",
              "      <style>\n",
              "    .colab-df-container {\n",
              "      display:flex;\n",
              "      flex-wrap:wrap;\n",
              "      gap: 12px;\n",
              "    }\n",
              "\n",
              "    .colab-df-convert {\n",
              "      background-color: #E8F0FE;\n",
              "      border: none;\n",
              "      border-radius: 50%;\n",
              "      cursor: pointer;\n",
              "      display: none;\n",
              "      fill: #1967D2;\n",
              "      height: 32px;\n",
              "      padding: 0 0 0 0;\n",
              "      width: 32px;\n",
              "    }\n",
              "\n",
              "    .colab-df-convert:hover {\n",
              "      background-color: #E2EBFA;\n",
              "      box-shadow: 0px 1px 2px rgba(60, 64, 67, 0.3), 0px 1px 3px 1px rgba(60, 64, 67, 0.15);\n",
              "      fill: #174EA6;\n",
              "    }\n",
              "\n",
              "    [theme=dark] .colab-df-convert {\n",
              "      background-color: #3B4455;\n",
              "      fill: #D2E3FC;\n",
              "    }\n",
              "\n",
              "    [theme=dark] .colab-df-convert:hover {\n",
              "      background-color: #434B5C;\n",
              "      box-shadow: 0px 1px 3px 1px rgba(0, 0, 0, 0.15);\n",
              "      filter: drop-shadow(0px 1px 2px rgba(0, 0, 0, 0.3));\n",
              "      fill: #FFFFFF;\n",
              "    }\n",
              "  </style>\n",
              "\n",
              "      <script>\n",
              "        const buttonEl =\n",
              "          document.querySelector('#df-9f06d77e-f799-4ca6-a085-7ba28fef9557 button.colab-df-convert');\n",
              "        buttonEl.style.display =\n",
              "          google.colab.kernel.accessAllowed ? 'block' : 'none';\n",
              "\n",
              "        async function convertToInteractive(key) {\n",
              "          const element = document.querySelector('#df-9f06d77e-f799-4ca6-a085-7ba28fef9557');\n",
              "          const dataTable =\n",
              "            await google.colab.kernel.invokeFunction('convertToInteractive',\n",
              "                                                     [key], {});\n",
              "          if (!dataTable) return;\n",
              "\n",
              "          const docLinkHtml = 'Like what you see? Visit the ' +\n",
              "            '<a target=\"_blank\" href=https://colab.research.google.com/notebooks/data_table.ipynb>data table notebook</a>'\n",
              "            + ' to learn more about interactive tables.';\n",
              "          element.innerHTML = '';\n",
              "          dataTable['output_type'] = 'display_data';\n",
              "          await google.colab.output.renderOutput(dataTable, element);\n",
              "          const docLink = document.createElement('div');\n",
              "          docLink.innerHTML = docLinkHtml;\n",
              "          element.appendChild(docLink);\n",
              "        }\n",
              "      </script>\n",
              "    </div>\n",
              "  </div>\n"
            ]
          },
          "metadata": {},
          "execution_count": 181
        }
      ],
      "source": [
        "data.head()"
      ]
    },
    {
      "cell_type": "code",
      "execution_count": null,
      "metadata": {
        "id": "W1_BAXpZ5Mt-"
      },
      "outputs": [],
      "source": [
        "# Required for calibration in this format\n",
        "options_df = data.pivot(index=[\"Days to maturity\", \"Strike\"], columns=\"Type\", values=\"Price\").reset_index()\n",
        "options_df.columns = [\"Maturity\", \"Strike\", \"Call\", \"Put\"]"
      ]
    },
    {
      "cell_type": "code",
      "execution_count": null,
      "metadata": {
        "id": "5U0JTepO6sZB"
      },
      "outputs": [],
      "source": [
        "# Adding Time-to-Maturity and constant short-rates\n",
        "for row, option in options_df.iterrows():\n",
        "    T = option[\"Maturity\"] / num_days_year\n",
        "    options_df.loc[row, \"T\"] = T\n",
        "    options_df.loc[row, \"r\"] = r  # ECB base rate"
      ]
    },
    {
      "cell_type": "code",
      "execution_count": null,
      "metadata": {
        "id": "iGaPUYfG4qBx"
      },
      "outputs": [],
      "source": [
        "options_data = options_df.copy()"
      ]
    },
    {
      "cell_type": "code",
      "execution_count": null,
      "metadata": {
        "colab": {
          "base_uri": "https://localhost:8080/",
          "height": 206
        },
        "id": "TA28vRmS7pqT",
        "outputId": "117b6b1a-ab22-4989-8421-440e45b5bcfe"
      },
      "outputs": [
        {
          "output_type": "execute_result",
          "data": {
            "text/plain": [
              "   Maturity  Strike   Call   Put     T      r\n",
              "0        15   227.5  10.52  4.32  0.06  0.015\n",
              "1        15   230.0  10.05  5.20  0.06  0.015\n",
              "2        15   232.5   7.75  6.45  0.06  0.015\n",
              "3        15   235.0   6.01  7.56  0.06  0.015\n",
              "4        15   237.5   4.75  8.78  0.06  0.015"
            ],
            "text/html": [
              "\n",
              "\n",
              "  <div id=\"df-fea96ead-5701-4d43-9e78-5c02df77d962\">\n",
              "    <div class=\"colab-df-container\">\n",
              "      <div>\n",
              "<style scoped>\n",
              "    .dataframe tbody tr th:only-of-type {\n",
              "        vertical-align: middle;\n",
              "    }\n",
              "\n",
              "    .dataframe tbody tr th {\n",
              "        vertical-align: top;\n",
              "    }\n",
              "\n",
              "    .dataframe thead th {\n",
              "        text-align: right;\n",
              "    }\n",
              "</style>\n",
              "<table border=\"1\" class=\"dataframe\">\n",
              "  <thead>\n",
              "    <tr style=\"text-align: right;\">\n",
              "      <th></th>\n",
              "      <th>Maturity</th>\n",
              "      <th>Strike</th>\n",
              "      <th>Call</th>\n",
              "      <th>Put</th>\n",
              "      <th>T</th>\n",
              "      <th>r</th>\n",
              "    </tr>\n",
              "  </thead>\n",
              "  <tbody>\n",
              "    <tr>\n",
              "      <th>0</th>\n",
              "      <td>15</td>\n",
              "      <td>227.5</td>\n",
              "      <td>10.52</td>\n",
              "      <td>4.32</td>\n",
              "      <td>0.06</td>\n",
              "      <td>0.015</td>\n",
              "    </tr>\n",
              "    <tr>\n",
              "      <th>1</th>\n",
              "      <td>15</td>\n",
              "      <td>230.0</td>\n",
              "      <td>10.05</td>\n",
              "      <td>5.20</td>\n",
              "      <td>0.06</td>\n",
              "      <td>0.015</td>\n",
              "    </tr>\n",
              "    <tr>\n",
              "      <th>2</th>\n",
              "      <td>15</td>\n",
              "      <td>232.5</td>\n",
              "      <td>7.75</td>\n",
              "      <td>6.45</td>\n",
              "      <td>0.06</td>\n",
              "      <td>0.015</td>\n",
              "    </tr>\n",
              "    <tr>\n",
              "      <th>3</th>\n",
              "      <td>15</td>\n",
              "      <td>235.0</td>\n",
              "      <td>6.01</td>\n",
              "      <td>7.56</td>\n",
              "      <td>0.06</td>\n",
              "      <td>0.015</td>\n",
              "    </tr>\n",
              "    <tr>\n",
              "      <th>4</th>\n",
              "      <td>15</td>\n",
              "      <td>237.5</td>\n",
              "      <td>4.75</td>\n",
              "      <td>8.78</td>\n",
              "      <td>0.06</td>\n",
              "      <td>0.015</td>\n",
              "    </tr>\n",
              "  </tbody>\n",
              "</table>\n",
              "</div>\n",
              "      <button class=\"colab-df-convert\" onclick=\"convertToInteractive('df-fea96ead-5701-4d43-9e78-5c02df77d962')\"\n",
              "              title=\"Convert this dataframe to an interactive table.\"\n",
              "              style=\"display:none;\">\n",
              "\n",
              "  <svg xmlns=\"http://www.w3.org/2000/svg\" height=\"24px\"viewBox=\"0 0 24 24\"\n",
              "       width=\"24px\">\n",
              "    <path d=\"M0 0h24v24H0V0z\" fill=\"none\"/>\n",
              "    <path d=\"M18.56 5.44l.94 2.06.94-2.06 2.06-.94-2.06-.94-.94-2.06-.94 2.06-2.06.94zm-11 1L8.5 8.5l.94-2.06 2.06-.94-2.06-.94L8.5 2.5l-.94 2.06-2.06.94zm10 10l.94 2.06.94-2.06 2.06-.94-2.06-.94-.94-2.06-.94 2.06-2.06.94z\"/><path d=\"M17.41 7.96l-1.37-1.37c-.4-.4-.92-.59-1.43-.59-.52 0-1.04.2-1.43.59L10.3 9.45l-7.72 7.72c-.78.78-.78 2.05 0 2.83L4 21.41c.39.39.9.59 1.41.59.51 0 1.02-.2 1.41-.59l7.78-7.78 2.81-2.81c.8-.78.8-2.07 0-2.86zM5.41 20L4 18.59l7.72-7.72 1.47 1.35L5.41 20z\"/>\n",
              "  </svg>\n",
              "      </button>\n",
              "\n",
              "\n",
              "\n",
              "    <div id=\"df-aa33485b-bbfb-48f0-b761-e84ac3ebb51e\">\n",
              "      <button class=\"colab-df-quickchart\" onclick=\"quickchart('df-aa33485b-bbfb-48f0-b761-e84ac3ebb51e')\"\n",
              "              title=\"Suggest charts.\"\n",
              "              style=\"display:none;\">\n",
              "\n",
              "<svg xmlns=\"http://www.w3.org/2000/svg\" height=\"24px\"viewBox=\"0 0 24 24\"\n",
              "     width=\"24px\">\n",
              "    <g>\n",
              "        <path d=\"M19 3H5c-1.1 0-2 .9-2 2v14c0 1.1.9 2 2 2h14c1.1 0 2-.9 2-2V5c0-1.1-.9-2-2-2zM9 17H7v-7h2v7zm4 0h-2V7h2v10zm4 0h-2v-4h2v4z\"/>\n",
              "    </g>\n",
              "</svg>\n",
              "      </button>\n",
              "    </div>\n",
              "\n",
              "<style>\n",
              "  .colab-df-quickchart {\n",
              "    background-color: #E8F0FE;\n",
              "    border: none;\n",
              "    border-radius: 50%;\n",
              "    cursor: pointer;\n",
              "    display: none;\n",
              "    fill: #1967D2;\n",
              "    height: 32px;\n",
              "    padding: 0 0 0 0;\n",
              "    width: 32px;\n",
              "  }\n",
              "\n",
              "  .colab-df-quickchart:hover {\n",
              "    background-color: #E2EBFA;\n",
              "    box-shadow: 0px 1px 2px rgba(60, 64, 67, 0.3), 0px 1px 3px 1px rgba(60, 64, 67, 0.15);\n",
              "    fill: #174EA6;\n",
              "  }\n",
              "\n",
              "  [theme=dark] .colab-df-quickchart {\n",
              "    background-color: #3B4455;\n",
              "    fill: #D2E3FC;\n",
              "  }\n",
              "\n",
              "  [theme=dark] .colab-df-quickchart:hover {\n",
              "    background-color: #434B5C;\n",
              "    box-shadow: 0px 1px 3px 1px rgba(0, 0, 0, 0.15);\n",
              "    filter: drop-shadow(0px 1px 2px rgba(0, 0, 0, 0.3));\n",
              "    fill: #FFFFFF;\n",
              "  }\n",
              "</style>\n",
              "\n",
              "    <script>\n",
              "      async function quickchart(key) {\n",
              "        const containerElement = document.querySelector('#' + key);\n",
              "        const charts = await google.colab.kernel.invokeFunction(\n",
              "            'suggestCharts', [key], {});\n",
              "      }\n",
              "    </script>\n",
              "\n",
              "      <script>\n",
              "\n",
              "function displayQuickchartButton(domScope) {\n",
              "  let quickchartButtonEl =\n",
              "    domScope.querySelector('#df-aa33485b-bbfb-48f0-b761-e84ac3ebb51e button.colab-df-quickchart');\n",
              "  quickchartButtonEl.style.display =\n",
              "    google.colab.kernel.accessAllowed ? 'block' : 'none';\n",
              "}\n",
              "\n",
              "        displayQuickchartButton(document);\n",
              "      </script>\n",
              "      <style>\n",
              "    .colab-df-container {\n",
              "      display:flex;\n",
              "      flex-wrap:wrap;\n",
              "      gap: 12px;\n",
              "    }\n",
              "\n",
              "    .colab-df-convert {\n",
              "      background-color: #E8F0FE;\n",
              "      border: none;\n",
              "      border-radius: 50%;\n",
              "      cursor: pointer;\n",
              "      display: none;\n",
              "      fill: #1967D2;\n",
              "      height: 32px;\n",
              "      padding: 0 0 0 0;\n",
              "      width: 32px;\n",
              "    }\n",
              "\n",
              "    .colab-df-convert:hover {\n",
              "      background-color: #E2EBFA;\n",
              "      box-shadow: 0px 1px 2px rgba(60, 64, 67, 0.3), 0px 1px 3px 1px rgba(60, 64, 67, 0.15);\n",
              "      fill: #174EA6;\n",
              "    }\n",
              "\n",
              "    [theme=dark] .colab-df-convert {\n",
              "      background-color: #3B4455;\n",
              "      fill: #D2E3FC;\n",
              "    }\n",
              "\n",
              "    [theme=dark] .colab-df-convert:hover {\n",
              "      background-color: #434B5C;\n",
              "      box-shadow: 0px 1px 3px 1px rgba(0, 0, 0, 0.15);\n",
              "      filter: drop-shadow(0px 1px 2px rgba(0, 0, 0, 0.3));\n",
              "      fill: #FFFFFF;\n",
              "    }\n",
              "  </style>\n",
              "\n",
              "      <script>\n",
              "        const buttonEl =\n",
              "          document.querySelector('#df-fea96ead-5701-4d43-9e78-5c02df77d962 button.colab-df-convert');\n",
              "        buttonEl.style.display =\n",
              "          google.colab.kernel.accessAllowed ? 'block' : 'none';\n",
              "\n",
              "        async function convertToInteractive(key) {\n",
              "          const element = document.querySelector('#df-fea96ead-5701-4d43-9e78-5c02df77d962');\n",
              "          const dataTable =\n",
              "            await google.colab.kernel.invokeFunction('convertToInteractive',\n",
              "                                                     [key], {});\n",
              "          if (!dataTable) return;\n",
              "\n",
              "          const docLinkHtml = 'Like what you see? Visit the ' +\n",
              "            '<a target=\"_blank\" href=https://colab.research.google.com/notebooks/data_table.ipynb>data table notebook</a>'\n",
              "            + ' to learn more about interactive tables.';\n",
              "          element.innerHTML = '';\n",
              "          dataTable['output_type'] = 'display_data';\n",
              "          await google.colab.output.renderOutput(dataTable, element);\n",
              "          const docLink = document.createElement('div');\n",
              "          docLink.innerHTML = docLinkHtml;\n",
              "          element.appendChild(docLink);\n",
              "        }\n",
              "      </script>\n",
              "    </div>\n",
              "  </div>\n"
            ]
          },
          "metadata": {},
          "execution_count": 185
        }
      ],
      "source": [
        "options_data.head()"
      ]
    },
    {
      "cell_type": "markdown",
      "metadata": {
        "id": "PsvzpiFCDBue"
      },
      "source": [
        "## Helper Classes and Functions"
      ]
    },
    {
      "cell_type": "markdown",
      "metadata": {
        "id": "Lw2Ho11nDNDX"
      },
      "source": [
        "### Heston Model Calibration"
      ]
    },
    {
      "cell_type": "code",
      "execution_count": null,
      "metadata": {
        "id": "Ld4M23uxKk31"
      },
      "outputs": [],
      "source": [
        "#Calibration Parameters\n",
        "i = 0\n",
        "min_MSE = 500"
      ]
    },
    {
      "cell_type": "code",
      "execution_count": null,
      "metadata": {
        "id": "wrCz4a-LDEy-"
      },
      "outputs": [],
      "source": [
        "#Step 1/2\n",
        "def H93_calibration_full():\n",
        "    \"\"\"Calibrates Heston (1993) stochastic volatility model to market quotes.\"\"\"\n",
        "    # First run with brute force\n",
        "    # (scan sensible regions, for faster convergence)\n",
        "    p0 = brute(\n",
        "        H93_error_function,\n",
        "        (\n",
        "            (2.5, 10.6, 5.0),  # kappa_v\n",
        "            (0.01, 0.041, 0.01),  # theta_v\n",
        "            (0.05, 0.251, 0.1),  # sigma_v\n",
        "            (-0.75, 0.01, 0.25),  # rho\n",
        "            (0.01, 0.031, 0.01),\n",
        "        ),  # v0\n",
        "        finish=None,\n",
        "    )\n",
        "\n",
        "    # Second run with local, convex minimization\n",
        "    # (we dig deeper where promising results)\n",
        "    opt = fmin(\n",
        "        H93_error_function, p0, xtol=0.000001, ftol=0.000001, maxiter=750, maxfun=900\n",
        "    )\n",
        "    return opt\n",
        "\n",
        "#Step 2/2\n",
        "def H93_error_function(p0):\n",
        "    \"\"\"Error function for parameter calibration via\n",
        "    Lewis (2001) Fourier approach for Heston (1993).\n",
        "    Parameters\n",
        "    ==========\n",
        "    kappa_v: float\n",
        "        mean-reversion factor\n",
        "    theta_v: float\n",
        "        long-run mean of variance\n",
        "    sigma_v: float\n",
        "        volatility of variance\n",
        "    rho: float\n",
        "        correlation between variance and stock/index level\n",
        "    v0: float\n",
        "        initial, instantaneous variance\n",
        "    Returns\n",
        "    =======\n",
        "    MSE: float\n",
        "        mean squared error\n",
        "    \"\"\"\n",
        "    global i, min_MSE\n",
        "    kappa_v, theta_v, sigma_v, rho, v0 = p0\n",
        "    if kappa_v < 0.0 or theta_v < 0.005 or sigma_v < 0.0 or rho < -1.0 or rho > 1.0:\n",
        "        return 500.0\n",
        "    if 2 * kappa_v * theta_v < sigma_v**2:\n",
        "        return 500.0\n",
        "    se = []\n",
        "\n",
        "    #Here we will be calibrating for the Put and Call Prices at thesame time\n",
        "    for row, option in options_data.iterrows():\n",
        "        model_call_value = H93_call_value(\n",
        "            S0,\n",
        "            option[\"Strike\"],\n",
        "            option[\"T\"],\n",
        "            option[\"r\"],\n",
        "            kappa_v,\n",
        "            theta_v,\n",
        "            sigma_v,\n",
        "            rho,\n",
        "            v0,\n",
        "        )\n",
        "        #We use Put Call Parity to Obtain the Comparative put value for model evaluation\n",
        "        model_put_value = calculate_put_price(model_call_value, S0, option[\"Strike\"], option[\"r\"], option[\"T\"])\n",
        "        se.append((model_call_value - option[\"Call\"]) ** 2)\n",
        "        se.append((model_put_value - option[\"Put\"]) ** 2)\n",
        "\n",
        "    MSE = sum(se) / len(se)\n",
        "    min_MSE = min(min_MSE, MSE)\n",
        "    if i % 25 == 0:\n",
        "        print(\"%4d |\" % i, np.array(p0), \"| %7.3f | %7.3f\" % (MSE, min_MSE))\n",
        "    i += 1\n",
        "    return MSE"
      ]
    },
    {
      "cell_type": "markdown",
      "metadata": {
        "id": "WSeDGzHUgu1j"
      },
      "source": [
        "Step 2 - Modified for Carr Madan"
      ]
    },
    {
      "cell_type": "code",
      "execution_count": null,
      "metadata": {
        "id": "HuGUiqzigyIW"
      },
      "outputs": [],
      "source": [
        "#Step 1/2\n",
        "def H93_calibration_carr_madan_full():\n",
        "    \"\"\"Calibrates Heston (1993) stochastic volatility model to market quotes.\"\"\"\n",
        "    # First run with brute force\n",
        "    # (scan sensible regions, for faster convergence)\n",
        "    p0 = brute(\n",
        "        H93_error_function,\n",
        "        (\n",
        "            (2.5, 10.6, 5.0),  # kappa_v\n",
        "            (0.01, 0.041, 0.01),  # theta_v\n",
        "            (0.05, 0.251, 0.1),  # sigma_v\n",
        "            (-0.75, 0.01, 0.25),  # rho\n",
        "            (0.01, 0.031, 0.01),\n",
        "        ),  # v0\n",
        "        finish=None,\n",
        "    )\n",
        "\n",
        "    # Second run with local, convex minimization\n",
        "    # (we dig deeper where promising results)\n",
        "    opt = fmin(\n",
        "        H93_error_function, p0, xtol=0.000001, ftol=0.000001, maxiter=750, maxfun=900\n",
        "    )\n",
        "    return opt\n",
        "\n",
        "#Step 2/2\n",
        "def H93_error_function(p0):\n",
        "    \"\"\"Error function for parameter calibration via\n",
        "    Lewis (2001) Fourier approach for Heston (1993).\n",
        "    Parameters\n",
        "    ==========\n",
        "    kappa_v: float\n",
        "        mean-reversion factor\n",
        "    theta_v: float\n",
        "        long-run mean of variance\n",
        "    sigma_v: float\n",
        "        volatility of variance\n",
        "    rho: float\n",
        "        correlation between variance and stock/index level\n",
        "    v0: float\n",
        "        initial, instantaneous variance\n",
        "    Returns\n",
        "    =======\n",
        "    MSE: float\n",
        "        mean squared error\n",
        "    \"\"\"\n",
        "    global i, min_MSE\n",
        "    kappa_v, theta_v, sigma_v, rho, v0 = p0\n",
        "    if kappa_v < 0.0 or theta_v < 0.005 or sigma_v < 0.0 or rho < -1.0 or rho > 1.0:\n",
        "        return 500.0\n",
        "    if 2 * kappa_v * theta_v < sigma_v**2:\n",
        "        return 500.0\n",
        "    se = []\n",
        "\n",
        "    #Here we will be calibrating for the Put and Call Prices at thesame time\n",
        "    for row, option in options_data.iterrows():\n",
        "        model_call_value = H93_call_FFT( #links to the FFT Approach under Carr-Madan\n",
        "            S0,\n",
        "            option[\"Strike\"],\n",
        "            option[\"T\"],\n",
        "            option[\"r\"],\n",
        "            kappa_v,\n",
        "            theta_v,\n",
        "            sigma_v,\n",
        "            rho,\n",
        "            v0,\n",
        "        )\n",
        "        #We use Put Call Parity to Obtain the Comparative put value for model evaluation\n",
        "        model_put_value = calculate_put_price(model_call_value, S0, option[\"Strike\"], option[\"r\"], option[\"T\"])\n",
        "        se.append((model_call_value - option[\"Call\"]) ** 2)\n",
        "        se.append((model_put_value - option[\"Put\"]) ** 2)\n",
        "\n",
        "    MSE = sum(se) / len(se)\n",
        "    min_MSE = min(min_MSE, MSE)\n",
        "    if i % 25 == 0:\n",
        "        print(\"%4d |\" % i, np.array(p0), \"| %7.3f | %7.3f\" % (MSE, min_MSE))\n",
        "    i += 1\n",
        "    return MSE"
      ]
    },
    {
      "cell_type": "markdown",
      "metadata": {
        "id": "jilgg6GnDGAp"
      },
      "source": [
        "###Bates(1996)"
      ]
    },
    {
      "cell_type": "markdown",
      "source": [
        "#### Bates Calibrator"
      ],
      "metadata": {
        "id": "CkJe9iehsb_J"
      }
    },
    {
      "cell_type": "markdown",
      "source": [
        "Under Lewis 2001"
      ],
      "metadata": {
        "id": "ZadsRRssUIzd"
      }
    },
    {
      "cell_type": "code",
      "source": [
        "def B96_calibration_full():\n",
        "    opt = fmin(\n",
        "        B96_full_error_function, p0, xtol=0.001, ftol=0.001, maxiter=1250, maxfun=650\n",
        "    )\n",
        "    return opt"
      ],
      "metadata": {
        "id": "-GcVA_JYsfig"
      },
      "execution_count": null,
      "outputs": []
    },
    {
      "cell_type": "code",
      "source": [
        "i = 0\n",
        "min_MSE = 5000.0\n",
        "local_opt = False\n",
        "\n",
        "def B96_full_error_function(p0):\n",
        "    global i, min_MSE\n",
        "    kappa_v, theta_v, sigma_v, rho, v0, lamb, mu, delta = p0\n",
        "\n",
        "    if (\n",
        "        kappa_v < 0.0\n",
        "        or theta_v < 0.005\n",
        "        or sigma_v < 0.0\n",
        "        or rho < -1.0\n",
        "        or rho > 1.0\n",
        "        or v0 < 0.0\n",
        "        or lamb < 0.0\n",
        "        or mu < -0.6\n",
        "        or mu > 0.0\n",
        "        or delta < 0.0\n",
        "    ):\n",
        "        return 5000.0\n",
        "\n",
        "    if 2 * kappa_v * theta_v < sigma_v**2:\n",
        "        return 5000.0\n",
        "\n",
        "    se = []\n",
        "    for row, option in options_data.iterrows():\n",
        "        model_call_value = B96_call_value(\n",
        "            S0,\n",
        "            option[\"Strike\"],\n",
        "            option[\"T\"],\n",
        "            option[\"r\"],\n",
        "            kappa_v,\n",
        "            theta_v,\n",
        "            sigma_v,\n",
        "            rho,\n",
        "            v0,\n",
        "            lamb,\n",
        "            mu,\n",
        "            delta,\n",
        "        )\n",
        "\n",
        "        model_put_value = calculate_put_price(model_call_value, S0, option[\"Strike\"], option[\"r\"], option[\"T\"])\n",
        "\n",
        "        #To allow for calibration for both call and put values at thesame time\n",
        "        se.append((model_call_value - option[\"Call\"]) ** 2)\n",
        "        se.append((model_put_value - option[\"Put\"]) ** 2)\n",
        "\n",
        "    MSE = sum(se) / len(se)\n",
        "    min_MSE = min(min_MSE, MSE)\n",
        "    if i % 25 == 0:\n",
        "        print(\"%4d |\" % i, np.array(p0), \"| %7.3f | %7.3f\" % (MSE, min_MSE))\n",
        "    i += 1\n",
        "    return MSE"
      ],
      "metadata": {
        "id": "SvBCX7Gms34S"
      },
      "execution_count": null,
      "outputs": []
    },
    {
      "cell_type": "markdown",
      "source": [
        "Under Carr-Madan"
      ],
      "metadata": {
        "id": "OWFEyyDmUNH-"
      }
    },
    {
      "cell_type": "code",
      "source": [
        "def B96_calibration_full_carr_madan():\n",
        "    opt = fmin(\n",
        "        B96_full_error_function_carr, p0, xtol=0.001, ftol=0.001, maxiter=1250, maxfun=650\n",
        "    )\n",
        "    return opt"
      ],
      "metadata": {
        "id": "M5VNQKzHUPXG"
      },
      "execution_count": null,
      "outputs": []
    },
    {
      "cell_type": "code",
      "source": [
        "i = 0\n",
        "min_MSE = 5000.0\n",
        "local_opt = False\n",
        "\n",
        "def B96_full_error_function_carr(p0):\n",
        "    global i, min_MSE\n",
        "    kappa_v, theta_v, sigma_v, rho, v0, lamb, mu, delta = p0\n",
        "\n",
        "    if (\n",
        "        kappa_v < 0.0\n",
        "        or theta_v < 0.005\n",
        "        or sigma_v < 0.0\n",
        "        or rho < -1.0\n",
        "        or rho > 1.0\n",
        "        or v0 < 0.0\n",
        "        or lamb < 0.0\n",
        "        or mu < -0.6\n",
        "        or mu > 0.0\n",
        "        or delta < 0.0\n",
        "    ):\n",
        "        return 5000.0\n",
        "\n",
        "    if 2 * kappa_v * theta_v < sigma_v**2:\n",
        "        return 5000.0\n",
        "\n",
        "    se = []\n",
        "    for row, option in options_data.iterrows():\n",
        "        model_call_value = B96_call_FFT(\n",
        "            S0,\n",
        "            option[\"Strike\"],\n",
        "            option[\"T\"],\n",
        "            option[\"r\"],\n",
        "            kappa_v,\n",
        "            theta_v,\n",
        "            sigma_v,\n",
        "            rho,\n",
        "            v0,\n",
        "            lamb,\n",
        "            mu,\n",
        "            delta,\n",
        "        )\n",
        "\n",
        "        model_put_value = calculate_put_price(model_call_value, S0, option[\"Strike\"], option[\"r\"], option[\"T\"])\n",
        "\n",
        "        #To allow for calibration for both call and put values at thesame time\n",
        "        se.append((model_call_value - option[\"Call\"]) ** 2)\n",
        "        se.append((model_put_value - option[\"Put\"]) ** 2)\n",
        "\n",
        "    MSE = sum(se) / len(se)\n",
        "    min_MSE = min(min_MSE, MSE)\n",
        "    if i % 25 == 0:\n",
        "        print(\"%4d |\" % i, np.array(p0), \"| %7.3f | %7.3f\" % (MSE, min_MSE))\n",
        "    i += 1\n",
        "    return MSE"
      ],
      "metadata": {
        "id": "UDHr6PrZUXO2"
      },
      "execution_count": null,
      "outputs": []
    },
    {
      "cell_type": "markdown",
      "source": [
        "##### Bates Short Calibrator"
      ],
      "metadata": {
        "id": "rtkVyRrGw99a"
      }
    },
    {
      "cell_type": "code",
      "source": [
        "def B96_calibration_short():\n",
        "    \"\"\"\n",
        "    Calibrates jump component of Bates (1996) model to market prices\n",
        "    \"\"\"\n",
        "    # First, we run with brute force\n",
        "    # (scan sensible regions)\n",
        "    opt1 = 0.0\n",
        "    opt1 = brute(\n",
        "        B96_error_function,\n",
        "        (\n",
        "            (0.0, 0.51, 0.1),  # lambda\n",
        "            (-0.5, -0.11, 0.1),  # mu\n",
        "            (0.0, 0.51, 0.25),\n",
        "        ),  # delta\n",
        "        finish=None,\n",
        "    )\n",
        "\n",
        "    # Second, we run with local, convex minimization\n",
        "    # (dig deeper where promising)\n",
        "    opt2 = fmin(\n",
        "        B96_error_function,\n",
        "        opt1,\n",
        "        xtol=0.0000001,\n",
        "        ftol=0.0000001,\n",
        "        maxiter=550,\n",
        "        maxfun=750,\n",
        "    )\n",
        "    return opt2\n",
        "\n",
        "def B96_error_function(p0):\n",
        "    \"\"\"\n",
        "    Error function for Bates (1996) model\n",
        "\n",
        "    Parameters:\n",
        "    -------------\n",
        "    lamb: float\n",
        "        jump intensity\n",
        "    mu: float\n",
        "        expected jump size\n",
        "    delta: float\n",
        "        standard deviation of jump\n",
        "    Returns\n",
        "    -------------\n",
        "    MSE: float\n",
        "        mean squared error\n",
        "    \"\"\"\n",
        "\n",
        "    global i, min_MSE, local_opt, opt1\n",
        "    lamb, mu, delta = p0\n",
        "    if lamb < 0.0 or mu < -0.6 or mu > 0.0 or delta < 0.0:\n",
        "        return 5000.0\n",
        "    se = []\n",
        "    for row, option in options_data.iterrows():\n",
        "        model_call_value = B96_call_value( #Under Lewis 2001\n",
        "            S0,\n",
        "            option[\"Strike\"],\n",
        "            option[\"T\"],\n",
        "            option[\"r\"],\n",
        "            kappa_v,\n",
        "            theta_v,\n",
        "            sigma_v,\n",
        "            rho,\n",
        "            v0,\n",
        "            lamb,\n",
        "            mu,\n",
        "            delta,\n",
        "        )\n",
        "\n",
        "        model_put_value = calculate_put_price(model_call_value, S0, option[\"Strike\"], option[\"r\"], option[\"T\"])\n",
        "\n",
        "        #To allow for calibration for both call and put values at thesame time\n",
        "        se.append((model_call_value - option[\"Call\"]) ** 2)\n",
        "        se.append((model_put_value - option[\"Put\"]) ** 2)\n",
        "\n",
        "    MSE = sum(se) / len(se)\n",
        "    min_MSE = min(min_MSE, MSE)\n",
        "    if i % 25 == 0:\n",
        "        print(\"%4d |\" % i, np.array(p0), \"| %7.3f | %7.3f\" % (MSE, min_MSE))\n",
        "    i += 1\n",
        "    if local_opt:\n",
        "        penalty = np.sqrt(np.sum((p0 - opt1) ** 2)) * 1\n",
        "        return MSE + penalty\n",
        "    return MSE"
      ],
      "metadata": {
        "id": "40AvKlE8xBz2"
      },
      "execution_count": null,
      "outputs": []
    },
    {
      "cell_type": "code",
      "source": [
        "#Bates Short Calibrator under Carr_madan_FFT\n",
        "def B96_calibration_short_carr_madan():\n",
        "    \"\"\"\n",
        "    Calibrates jump component of Bates (1996) model to market prices\n",
        "    \"\"\"\n",
        "    # First, we run with brute force\n",
        "    # (scan sensible regions)\n",
        "    opt1 = 0.0\n",
        "    opt1 = brute(\n",
        "        B96_error_function,\n",
        "        (\n",
        "            (0.0, 0.51, 0.1),  # lambda\n",
        "            (-0.5, -0.11, 0.1),  # mu\n",
        "            (0.0, 0.51, 0.25),\n",
        "        ),  # delta\n",
        "        finish=None,\n",
        "    )\n",
        "\n",
        "    # Second, we run with local, convex minimization\n",
        "    # (dig deeper where promising)\n",
        "    opt2 = fmin(\n",
        "        B96_error_function,\n",
        "        opt1,\n",
        "        xtol=0.0000001,\n",
        "        ftol=0.0000001,\n",
        "        maxiter=550,\n",
        "        maxfun=750,\n",
        "    )\n",
        "    return opt2\n",
        "\n",
        "def B96_error_function(p0):\n",
        "    \"\"\"\n",
        "    Error function for Bates (1996) model\n",
        "\n",
        "    Parameters:\n",
        "    -------------\n",
        "    lamb: float\n",
        "        jump intensity\n",
        "    mu: float\n",
        "        expected jump size\n",
        "    delta: float\n",
        "        standard deviation of jump\n",
        "    Returns\n",
        "    -------------\n",
        "    MSE: float\n",
        "        mean squared error\n",
        "    \"\"\"\n",
        "\n",
        "    global i, min_MSE, local_opt, opt1\n",
        "    lamb, mu, delta = p0\n",
        "    if lamb < 0.0 or mu < -0.6 or mu > 0.0 or delta < 0.0:\n",
        "        return 5000.0\n",
        "    se = []\n",
        "    for row, option in options_data.iterrows():\n",
        "        model_call_value = B96_call_FFT( #Under Lewis 2001\n",
        "            S0,\n",
        "            option[\"Strike\"],\n",
        "            option[\"T\"],\n",
        "            option[\"r\"],\n",
        "            kappa_v,\n",
        "            theta_v,\n",
        "            sigma_v,\n",
        "            rho,\n",
        "            v0,\n",
        "            lamb,\n",
        "            mu,\n",
        "            delta,\n",
        "        )\n",
        "\n",
        "        model_put_value = calculate_put_price(model_call_value, S0, option[\"Strike\"], option[\"r\"], option[\"T\"])\n",
        "\n",
        "        #To allow for calibration for both call and put values at thesame time\n",
        "        se.append((model_call_value - option[\"Call\"]) ** 2)\n",
        "        se.append((model_put_value - option[\"Put\"]) ** 2)\n",
        "\n",
        "    MSE = sum(se) / len(se)\n",
        "    min_MSE = min(min_MSE, MSE)\n",
        "    if i % 25 == 0:\n",
        "        print(\"%4d |\" % i, np.array(p0), \"| %7.3f | %7.3f\" % (MSE, min_MSE))\n",
        "    i += 1\n",
        "    if local_opt:\n",
        "        penalty = np.sqrt(np.sum((p0 - opt1) ** 2)) * 1\n",
        "        return MSE + penalty\n",
        "    return MSE"
      ],
      "metadata": {
        "id": "TR6PeRtERnB3"
      },
      "execution_count": null,
      "outputs": []
    },
    {
      "cell_type": "markdown",
      "source": [
        "Defining the Bates Characteristic function as\n",
        "\n",
        "Bates = Heston * adjusted Merton"
      ],
      "metadata": {
        "id": "ifdzd-e6q5jL"
      }
    },
    {
      "cell_type": "code",
      "source": [
        "def H93_char_func(u, T, r, kappa_v, theta_v, sigma_v, rho, v0):\n",
        "    \"\"\"Valuation of European call option in H93 model via Lewis (2001)\n",
        "    Fourier-based approach: characteristic function.\n",
        "    Parameter definitions see function BCC_call_value.\"\"\"\n",
        "    c1 = kappa_v * theta_v\n",
        "    c2 = -np.sqrt(\n",
        "        (rho * sigma_v * u * 1j - kappa_v) ** 2 - sigma_v**2 * (-u * 1j - u**2)\n",
        "    )\n",
        "    c3 = (kappa_v - rho * sigma_v * u * 1j + c2) / (\n",
        "        kappa_v - rho * sigma_v * u * 1j - c2\n",
        "    )\n",
        "    H1 = r * u * 1j * T + (c1 / sigma_v**2) * (\n",
        "        (kappa_v - rho * sigma_v * u * 1j + c2) * T\n",
        "        - 2 * np.log((1 - c3 * np.exp(c2 * T)) / (1 - c3))\n",
        "    )\n",
        "    H2 = (\n",
        "        (kappa_v - rho * sigma_v * u * 1j + c2)\n",
        "        / sigma_v**2\n",
        "        * ((1 - np.exp(c2 * T)) / (1 - c3 * np.exp(c2 * T)))\n",
        "    )\n",
        "    char_func_value = np.exp(H1 + H2 * v0)\n",
        "    return char_func_value\n",
        "\n",
        "def M76J_char_func(u, T, lamb, mu, delta):\n",
        "    \"\"\"\n",
        "    Adjusted Characteristic function for Merton '76 model: Only jump component\n",
        "    \"\"\"\n",
        "\n",
        "    omega = -lamb * (np.exp(mu + 0.5 * delta**2) - 1)\n",
        "    char_func_value = np.exp(\n",
        "        (1j * u * omega + lamb * (np.exp(1j * u * mu - u**2 * delta**2 * 0.5) - 1))\n",
        "        * T\n",
        "    )\n",
        "    return char_func_value\n",
        "\n",
        "def B96_char_func(u, T, r, kappa_v, theta_v, sigma_v, rho, v0, lamb, mu, delta):\n",
        "    \"\"\"\n",
        "    Bates (1996) characteristic function\n",
        "    \"\"\"\n",
        "    H93 = H93_char_func(u, T, r, kappa_v, theta_v, sigma_v, rho, v0)\n",
        "    M76J = M76J_char_func(u, T, lamb, mu, delta)\n",
        "    return H93 * M76J"
      ],
      "metadata": {
        "id": "jpR7CHBepiqF"
      },
      "execution_count": null,
      "outputs": []
    },
    {
      "cell_type": "code",
      "source": [
        "def B96_call_value(S0, K, T, r, kappa_v, theta_v, sigma_v, rho, v0, lamb, mu, delta):\n",
        "    \"\"\"\n",
        "    Valuation of European call option in B96 Model via Lewis (2001)\n",
        "    Parameters:\n",
        "    ==========\n",
        "    S0: float\n",
        "        initial stock/index level\n",
        "    K: float\n",
        "        strike price\n",
        "    T: float\n",
        "        time-to-maturity (for t=0)\n",
        "    r: float\n",
        "        constant risk-free short rate\n",
        "    kappa_v: float\n",
        "        mean-reversion factor\n",
        "    theta_v: float\n",
        "        long-run mean of variance\n",
        "    sigma_v: float\n",
        "        volatility of variance\n",
        "    rho: float\n",
        "        correlation between variance and stock/index level\n",
        "    v0: float\n",
        "        initial level of variance\n",
        "    lamb: float\n",
        "        jump intensity\n",
        "    mu: float\n",
        "        expected jump size\n",
        "    delta: float\n",
        "        standard deviation of jump\n",
        "    ==========\n",
        "    \"\"\"\n",
        "    int_value = quad(\n",
        "        lambda u: B96_int_func(\n",
        "            u, S0, K, T, r, kappa_v, theta_v, sigma_v, rho, v0, lamb, mu, delta\n",
        "        ),\n",
        "        0,\n",
        "        np.inf,\n",
        "        limit=250,\n",
        "    )[0]\n",
        "    call_value = max(0, S0 - np.exp(-r * T) * np.sqrt(S0 * K) / np.pi * int_value)\n",
        "    return call_value"
      ],
      "metadata": {
        "id": "LObH767FrhGI"
      },
      "execution_count": null,
      "outputs": []
    },
    {
      "cell_type": "markdown",
      "source": [
        "#### Bates under Lewis(2001) Approach"
      ],
      "metadata": {
        "id": "ihMjd6aUpVnV"
      }
    },
    {
      "cell_type": "markdown",
      "source": [
        "Specifying the Bates Integral"
      ],
      "metadata": {
        "id": "1Gm4CKEtrQwg"
      }
    },
    {
      "cell_type": "code",
      "source": [
        "def B96_int_func(u, S0, K, T, r, kappa_v, theta_v, sigma_v, rho, v0, lamb, mu, delta):\n",
        "    \"\"\"\n",
        "    Lewis (2001) integral value for Bates (1996) characteristic function\n",
        "    \"\"\"\n",
        "    char_func_value = B96_char_func(\n",
        "        u - 1j * 0.5, T, r, kappa_v, theta_v, sigma_v, rho, v0, lamb, mu, delta\n",
        "    )\n",
        "    int_func_value = (\n",
        "        1 / (u**2 + 0.25) * (np.exp(1j * u * np.log(S0 / K)) * char_func_value).real\n",
        "    )\n",
        "    return int_func_value"
      ],
      "metadata": {
        "id": "ubwTrpECrQBS"
      },
      "execution_count": null,
      "outputs": []
    },
    {
      "cell_type": "markdown",
      "source": [
        "#### Bates under Carr-madan(1999) Approach"
      ],
      "metadata": {
        "id": "42LmkK2wpZsc"
      }
    },
    {
      "cell_type": "code",
      "execution_count": null,
      "metadata": {
        "id": "S1m7M259hvXc"
      },
      "outputs": [],
      "source": [
        "def B96_call_FFT(S0, K, T, r, kappa_v, theta_v, sigma_v, rho, v0, lamb, mu, delta):\n",
        "    \"\"\"\n",
        "    Call option price in Bates (1996) under FFT\n",
        "    \"\"\"\n",
        "\n",
        "    k = np.log(K / S0)\n",
        "    g = 1  # Factor to increase accuracy\n",
        "    N = g * 4096\n",
        "    eps = (g * 150) ** -1\n",
        "    eta = 2 * np.pi / (N * eps)\n",
        "    b = 0.5 * N * eps - k\n",
        "    u = np.arange(1, N + 1, 1)\n",
        "    vo = eta * (u - 1)\n",
        "\n",
        "    # Modifications to ensure integrability\n",
        "    if S0 >= 0.95 * K:  # ITM Case\n",
        "        alpha = 1.5\n",
        "        v = vo - (alpha + 1) * 1j\n",
        "        modcharFunc = np.exp(-r * T) * (\n",
        "            B96_char_func(v, T, r, kappa_v, theta_v, sigma_v, rho, v0, lamb, mu, delta)\n",
        "            / (alpha**2 + alpha - vo**2 + 1j * (2 * alpha + 1) * vo)\n",
        "        )\n",
        "\n",
        "    else:\n",
        "        alpha = 1.1\n",
        "        v = (vo - 1j * alpha) - 1j\n",
        "        modcharFunc1 = np.exp(-r * T) * (\n",
        "            1 / (1 + 1j * (vo - 1j * alpha))\n",
        "            - np.exp(r * T) / (1j * (vo - 1j * alpha))\n",
        "            - B96_char_func(\n",
        "                v, T, r, kappa_v, theta_v, sigma_v, rho, v0, lamb, mu, delta\n",
        "            )\n",
        "            / ((vo - 1j * alpha) ** 2 - 1j * (vo - 1j * alpha))\n",
        "        )\n",
        "\n",
        "        v = (vo + 1j * alpha) - 1j\n",
        "\n",
        "        modcharFunc2 = np.exp(-r * T) * (\n",
        "            1 / (1 + 1j * (vo + 1j * alpha))\n",
        "            - np.exp(r * T) / (1j * (vo + 1j * alpha))\n",
        "            - B96_char_func(\n",
        "                v, T, r, kappa_v, theta_v, sigma_v, rho, v0, lamb, mu, delta\n",
        "            )\n",
        "            / ((vo + 1j * alpha) ** 2 - 1j * (vo + 1j * alpha))\n",
        "        )\n",
        "\n",
        "    # Numerical FFT Routine\n",
        "    delt = np.zeros(N)\n",
        "    delt[0] = 1\n",
        "    j = np.arange(1, N + 1, 1)\n",
        "    SimpsonW = (3 + (-1) ** j - delt) / 3\n",
        "    if S0 >= 0.95 * K:\n",
        "        FFTFunc = np.exp(1j * b * vo) * modcharFunc * eta * SimpsonW\n",
        "        payoff = (np.fft.fft(FFTFunc)).real\n",
        "        CallValueM = np.exp(-alpha * k) / np.pi * payoff\n",
        "    else:\n",
        "        FFTFunc = (\n",
        "            np.exp(1j * b * vo) * (modcharFunc1 - modcharFunc2) * 0.5 * eta * SimpsonW\n",
        "        )\n",
        "        payoff = (np.fft.fft(FFTFunc)).real\n",
        "        CallValueM = payoff / (np.sinh(alpha * k) * np.pi)\n",
        "\n",
        "    pos = int((k + b) / eps)\n",
        "    CallValue = CallValueM[pos] * S0\n",
        "\n",
        "    return CallValue"
      ]
    },
    {
      "cell_type": "markdown",
      "source": [
        "### Visualizer"
      ],
      "metadata": {
        "id": "qOfOHJhN9Fj9"
      }
    },
    {
      "cell_type": "markdown",
      "source": [
        "Graphical Plot of Heston under Lewis"
      ],
      "metadata": {
        "id": "38ZwutsSCPEw"
      }
    },
    {
      "cell_type": "code",
      "source": [
        "# H93_call_FFT(S0, K, r, T, kappa, theta, sigma, rho, v0)\n",
        "\n",
        "def generate_plot_HESTON_Lewis(options):\n",
        "\n",
        "    # First, we calculate model prices\n",
        "    options[\"Model Call Price\"] = 0.0\n",
        "    options[\"Model Put Price\"] = 0.0\n",
        "\n",
        "    for row, option in options.iterrows():\n",
        "        call_price = H93_call_FFT(\n",
        "            S0, option[\"Strike\"], option[\"r\"], option[\"T\"], kappa_v, theta_v, sigma_v, rho, v0)\n",
        "\n",
        "        options.loc[row, \"Model Call Price\"] = call_price\n",
        "        options.loc[row, \"Model Put Price\"] = calculate_put_price(call_price, S0, option[\"Strike\"], option[\"r\"], option[\"T\"])\n",
        "\n",
        "    # Second, we plot\n",
        "    plt.figure(figsize=(10, 6))\n",
        "    plt.rcParams['axes.facecolor'] = 'lightblue'\n",
        "    plt.plot(options[\"Strike\"], options[\"Model Call Price\"], label='Model Call Prices')\n",
        "    plt.plot(options[\"Strike\"], options[\"Model Put Price\"], label='Model Put Prices')\n",
        "    plt.scatter(options['Strike'], options['Call'], color='red', label='Actual Call Prices')\n",
        "    plt.scatter(options['Strike'], options['Put'], color='blue', label='Actual Put Prices')\n",
        "    plt.xlabel('Strike Price')\n",
        "    plt.ylabel('Option Price')\n",
        "    plt.title('Calibrated Heston Model - Carr-Madan Prices vs. Observed Prices for 15 Day Maturity')\n",
        "    plt.legend()\n",
        "    plt.grid(True)\n",
        "    plt.show()"
      ],
      "metadata": {
        "id": "3VMGioPeCUBD"
      },
      "execution_count": null,
      "outputs": []
    },
    {
      "cell_type": "markdown",
      "source": [
        "Graphical Plot for Bates under Carr-Madan"
      ],
      "metadata": {
        "id": "7X7OQU2TV28S"
      }
    },
    {
      "cell_type": "code",
      "source": [
        "def generate_plot_bates_carr(options, parameters):\n",
        "\n",
        "    # First, we calculate model prices\n",
        "    options[\"Model Call Price\"] = 0.0\n",
        "    options[\"Model Put Price\"] = 0.0\n",
        "\n",
        "    kappa_v, theta_v, sigma_v, rho, v0, lamb, mu, delta = parameters\n",
        "\n",
        "\n",
        "    for row, option in options.iterrows():\n",
        "        call_price = B96_call_FFT(\n",
        "            S0, option[\"Strike\"], option[\"T\"], option[\"r\"], kappa_v, theta_v, sigma_v, rho, v0, lamb, mu, delta)\n",
        "\n",
        "        options.loc[row, \"Model Call Price\"] = call_price\n",
        "        options.loc[row, \"Model Put Price\"] = calculate_put_price(call_price, S0, option[\"Strike\"], option[\"r\"], option[\"T\"])\n",
        "\n",
        "    # Second, we plot\n",
        "    plt.figure(figsize=(10, 6))\n",
        "    plt.rcParams['axes.facecolor'] = 'lightblue'\n",
        "    plt.plot(options[\"Strike\"], options[\"Model Call Price\"], label='Model Call Prices')\n",
        "    plt.plot(options[\"Strike\"], options[\"Model Put Price\"], label='Model Put Prices')\n",
        "    plt.scatter(options['Strike'], options['Call'], color='red', label='Actual Call Prices')\n",
        "    plt.scatter(options['Strike'], options['Put'], color='blue', label='Actual Put Prices')\n",
        "    plt.xlabel('Strike Price')\n",
        "    plt.ylabel('Option Price')\n",
        "    plt.title('Calibrated Bates Model Prices vs. Observed Prices for 60 Day Maturity')\n",
        "    plt.legend()\n",
        "    plt.grid(True)\n",
        "    plt.show()"
      ],
      "metadata": {
        "id": "Aj0xm--t9IPh"
      },
      "execution_count": null,
      "outputs": []
    },
    {
      "cell_type": "markdown",
      "source": [
        "Graphical Plot for Bates under Lewis"
      ],
      "metadata": {
        "id": "v5SjVKFXV8dO"
      }
    },
    {
      "cell_type": "code",
      "source": [
        "def generate_plot_BATES_Lewis(options, parameters):\n",
        "\n",
        "    # First, we calculate model prices\n",
        "    options[\"Model Call Price\"] = 0.0\n",
        "    options[\"Model Put Price\"] = 0.0\n",
        "\n",
        "    kappa_v, theta_v, sigma_v, rho, v0, lamb, mu, delta = parameters\n",
        "\n",
        "\n",
        "    for row, option in options.iterrows():\n",
        "        call_price = B96_call_value(\n",
        "            S0, option[\"Strike\"], option[\"T\"], option[\"r\"], kappa_v, theta_v, sigma_v, rho, v0, lamb, mu, delta)\n",
        "\n",
        "        options.loc[row, \"Model Call Price\"] = call_price\n",
        "        options.loc[row, \"Model Put Price\"] = calculate_put_price(call_price, S0, option[\"Strike\"], option[\"r\"], option[\"T\"])\n",
        "\n",
        "    # Second, we plot\n",
        "    plt.figure(figsize=(10, 6))\n",
        "    plt.rcParams['axes.facecolor'] = 'lightblue'\n",
        "    plt.plot(options[\"Strike\"], options[\"Model Call Price\"], label='Model Call Prices')\n",
        "    plt.plot(options[\"Strike\"], options[\"Model Put Price\"], label='Model Put Prices')\n",
        "    plt.scatter(options['Strike'], options['Call'], color='red', label='Actual Call Prices')\n",
        "    plt.scatter(options['Strike'], options['Put'], color='blue', label='Actual Put Prices')\n",
        "    plt.xlabel('Strike Price')\n",
        "    plt.ylabel('Option Price')\n",
        "    plt.title('Calibrated Bates Model Prices vs. Observed Prices for 60 Day Maturity')\n",
        "    plt.legend()\n",
        "    plt.grid(True)\n",
        "    plt.show()"
      ],
      "metadata": {
        "id": "muuCgiKoWHmS"
      },
      "execution_count": null,
      "outputs": []
    },
    {
      "cell_type": "markdown",
      "source": [
        "CIR Calibration"
      ],
      "metadata": {
        "id": "DF1G0yNih8jX"
      }
    },
    {
      "cell_type": "code",
      "source": [
        "def plot_calibrated_frc(opt):\n",
        "    \"\"\"Plots market and calibrated forward rate curves.\"\"\"\n",
        "    forward_rates = CIR_forward_rate(opt)\n",
        "    plt.figure(figsize=(12, 8))\n",
        "    plt.subplot(211)\n",
        "    plt.title(\"CIR model calibration\")\n",
        "    plt.ylabel(\"Forward rate $f(0,T)$\")\n",
        "    plt.plot(mat_list_n, f, \"ro\", label=\"market\")\n",
        "    plt.plot(mat_list_n, forward_rates, \"b--\", label=\"model\")\n",
        "    plt.legend(loc=0)\n",
        "    plt.axis(\n",
        "        [min(mat_list_n) - 0.05, max(mat_list_n) + 0.05, min(f) - 0.005, max(f) * 1.1]\n",
        "    )\n",
        "    plt.subplot(212)\n",
        "    wi = 0.02\n",
        "    plt.bar(mat_list_n - wi / 2, forward_rates - f, width=wi)\n",
        "    plt.xlabel(\"Time horizon\")\n",
        "    plt.ylabel(\"Difference\")\n",
        "    plt.axis(\n",
        "        [\n",
        "            min(mat_list_n) - 0.05,\n",
        "            max(mat_list_n) + 0.05,\n",
        "            min(forward_rates - f) * 1.1,\n",
        "            max(forward_rates - f) * 1.1,\n",
        "        ]\n",
        "    )\n",
        "    plt.tight_layout()\n",
        "\n",
        "def CIR_forward_rate(alpha):\n",
        "    \"\"\"\n",
        "    Forward rates in CIR (1985) model\n",
        "    The set of parameters is called alpha and include Kappa_r, Theta_r and Sigma_r\n",
        "    \"\"\"\n",
        "\n",
        "    kappa_r, theta_r, sigma_r = alpha\n",
        "\n",
        "    t = mat_list_n\n",
        "    g = np.sqrt(kappa_r**2 + 2 * sigma_r**2)\n",
        "\n",
        "    s1 = (kappa_r * theta_r * (np.exp(g * t) - 1)) / (\n",
        "        2 * g + (kappa_r + g) * (np.exp(g * t) - 1)\n",
        "    )\n",
        "\n",
        "    s2 = r0 * (\n",
        "        (4 * g**2 * np.exp(g * t)) / (2 * g + (kappa_r + g) * (np.exp(g * t)) ** 2)\n",
        "    )\n",
        "\n",
        "    return s1 + s2"
      ],
      "metadata": {
        "id": "GHNkFjnfh_jZ"
      },
      "execution_count": null,
      "outputs": []
    },
    {
      "cell_type": "markdown",
      "metadata": {
        "id": "f2lMiXmyDHIn"
      },
      "source": [
        "###Lewis (2001) - Fourier pricing method"
      ]
    },
    {
      "cell_type": "code",
      "execution_count": null,
      "metadata": {
        "id": "5at_73LvJTzr"
      },
      "outputs": [],
      "source": [
        "#Step 1/3\n",
        "def H93_call_value(S0, K, T, r, kappa_v, theta_v, sigma_v, rho, v0):\n",
        "    \"\"\"Valuation of European call option in H93 model via Lewis (2001)\n",
        "\n",
        "    Parameter definition:\n",
        "    ==========\n",
        "    S0: float\n",
        "        initial stock/index level\n",
        "    K: float\n",
        "        strike price\n",
        "    T: float\n",
        "        time-to-maturity (for t=0)\n",
        "    r: float\n",
        "        constant risk-free short rate\n",
        "    kappa_v: float\n",
        "        mean-reversion factor\n",
        "    theta_v: float\n",
        "        long-run mean of variance\n",
        "    sigma_v: float\n",
        "        volatility of variance\n",
        "    rho: float\n",
        "        correlation between variance and stock/index level\n",
        "    v0: float\n",
        "        initial level of variance\n",
        "    Returns\n",
        "    =======\n",
        "    call_value: float\n",
        "        present value of European call option\n",
        "    \"\"\"\n",
        "    int_value = quad(\n",
        "        lambda u: H93_int_func(u, S0, K, T, r, kappa_v, theta_v, sigma_v, rho, v0),\n",
        "        0,\n",
        "        np.inf,\n",
        "        limit=250,\n",
        "    )[0]\n",
        "    call_value = max(0, S0 - np.exp(-r * T) * np.sqrt(S0 * K) / np.pi * int_value)\n",
        "    return call_value\n",
        "\n",
        "#Step 2/3\n",
        "def H93_int_func(u, S0, K, T, r, kappa_v, theta_v, sigma_v, rho, v0):\n",
        "    \"\"\"\n",
        "    Fourier-based approach for Lewis (2001): Integration function.\n",
        "    \"\"\"\n",
        "    char_func_value = H93_char_func(\n",
        "        u - 1j * 0.5, T, r, kappa_v, theta_v, sigma_v, rho, v0\n",
        "    )\n",
        "    int_func_value = (\n",
        "        1 / (u**2 + 0.25) * (np.exp(1j * u * np.log(S0 / K)) * char_func_value).real\n",
        "    )\n",
        "    return int_func_value\n",
        "\n",
        "\n",
        "#Step3/3\n",
        "def H93_char_func(u, T, r, kappa_v, theta_v, sigma_v, rho, v0):\n",
        "    \"\"\"Valuation of European call option in H93 model via Lewis (2001)\n",
        "    Fourier-based approach: characteristic function.\n",
        "    Parameter definitions see function BCC_call_value.\"\"\"\n",
        "    c1 = kappa_v * theta_v\n",
        "    c2 = -np.sqrt(\n",
        "        (rho * sigma_v * u * 1j - kappa_v) ** 2 - sigma_v**2 * (-u * 1j - u**2)\n",
        "    )\n",
        "    c3 = (kappa_v - rho * sigma_v * u * 1j + c2) / (\n",
        "        kappa_v - rho * sigma_v * u * 1j - c2\n",
        "    )\n",
        "    H1 = r * u * 1j * T + (c1 / sigma_v**2) * (\n",
        "        (kappa_v - rho * sigma_v * u * 1j + c2) * T\n",
        "        - 2 * np.log((1 - c3 * np.exp(c2 * T)) / (1 - c3))\n",
        "    )\n",
        "    H2 = (\n",
        "        (kappa_v - rho * sigma_v * u * 1j + c2)\n",
        "        / sigma_v**2\n",
        "        * ((1 - np.exp(c2 * T)) / (1 - c3 * np.exp(c2 * T)))\n",
        "    )\n",
        "    char_func_value = np.exp(H1 + H2 * v0)\n",
        "    return char_func_value\n",
        "\n"
      ]
    },
    {
      "cell_type": "markdown",
      "metadata": {
        "id": "Q3jJRbLjDIaW"
      },
      "source": [
        "### Carr-Madan(1999) - FFT Approach"
      ]
    },
    {
      "cell_type": "code",
      "execution_count": null,
      "metadata": {
        "id": "rwmOZ4tjCLuB"
      },
      "outputs": [],
      "source": [
        "#Modelling just Stochastic Volatility with no Jump\n",
        "#Step 1/1 - Under Carr Madan\n",
        "def H93_call_FFT(S0, K, T, r, kappa_v, theta_v, sigma_v, rho, v0):\n",
        "    \"\"\"\n",
        "    Modified from the Call option price in Bates (1996) under FFT\n",
        "    \"\"\"\n",
        "\n",
        "    k = np.log(K / S0)\n",
        "    g = 1  # Factor to increase accuracy\n",
        "    N = g * 4096\n",
        "    eps = (g * 150) ** -1\n",
        "    eta = 2 * np.pi / (N * eps)\n",
        "    b = 0.5 * N * eps - k\n",
        "    u = np.arange(1, N + 1, 1)\n",
        "    vo = eta * (u - 1)\n",
        "\n",
        "    # Modifications to ensure integrability\n",
        "    if S0 >= 0.95 * K:  # ITM Case\n",
        "        alpha = 1.5\n",
        "        v = vo - (alpha + 1) * 1j\n",
        "        modcharFunc = np.exp(-r * T) * (\n",
        "            H93_char_func(v, T, r, kappa_v, theta_v, sigma_v, rho, v0)\n",
        "            / (alpha**2 + alpha - vo**2 + 1j * (2 * alpha + 1) * vo)\n",
        "        )\n",
        "\n",
        "    else:\n",
        "        alpha = 1.1\n",
        "        v = (vo - 1j * alpha) - 1j\n",
        "        modcharFunc1 = np.exp(-r * T) * (\n",
        "            1 / (1 + 1j * (vo - 1j * alpha))\n",
        "            - np.exp(r * T) / (1j * (vo - 1j * alpha))\n",
        "            - H93_char_func(\n",
        "                v, T, r, kappa_v, theta_v, sigma_v, rho, v0)\n",
        "            / ((vo - 1j * alpha) ** 2 - 1j * (vo - 1j * alpha))\n",
        "        )\n",
        "\n",
        "        v = (vo + 1j * alpha) - 1j\n",
        "\n",
        "        modcharFunc2 = np.exp(-r * T) * (\n",
        "            1 / (1 + 1j * (vo + 1j * alpha))\n",
        "            - np.exp(r * T) / (1j * (vo + 1j * alpha))\n",
        "            - H93_char_func(\n",
        "                v, T, r, kappa_v, theta_v, sigma_v, rho, v0)\n",
        "            / ((vo + 1j * alpha) ** 2 - 1j * (vo + 1j * alpha))\n",
        "        )\n",
        "\n",
        "    # Numerical FFT Routine\n",
        "    delt = np.zeros(N)\n",
        "    delt[0] = 1\n",
        "    j = np.arange(1, N + 1, 1)\n",
        "    SimpsonW = (3 + (-1) ** j - delt) / 3\n",
        "    if S0 >= 0.95 * K:\n",
        "        FFTFunc = np.exp(1j * b * vo) * modcharFunc * eta * SimpsonW\n",
        "        payoff = (np.fft.fft(FFTFunc)).real\n",
        "        CallValueM = np.exp(-alpha * k) / np.pi * payoff\n",
        "    else:\n",
        "        FFTFunc = (\n",
        "            np.exp(1j * b * vo) * (modcharFunc1 - modcharFunc2) * 0.5 * eta * SimpsonW\n",
        "        )\n",
        "        payoff = (np.fft.fft(FFTFunc)).real\n",
        "        CallValueM = payoff / (np.sinh(alpha * k) * np.pi)\n",
        "\n",
        "    pos = int((k + b) / eps)\n",
        "    CallValue = CallValueM[pos] * S0\n",
        "\n",
        "    return CallValue\n",
        "\n",
        "def H93_char_func(u, T, r, kappa_v, theta_v, sigma_v, rho, v0):\n",
        "    \"\"\"Valuation of European call option in H93 model via Lewis (2001)\n",
        "    Fourier-based approach: characteristic function.\n",
        "    Parameter definitions see function BCC_call_value.\"\"\"\n",
        "    c1 = kappa_v * theta_v\n",
        "    c2 = -np.sqrt(\n",
        "        (rho * sigma_v * u * 1j - kappa_v) ** 2 - sigma_v**2 * (-u * 1j - u**2)\n",
        "    )\n",
        "    c3 = (kappa_v - rho * sigma_v * u * 1j + c2) / (\n",
        "        kappa_v - rho * sigma_v * u * 1j - c2\n",
        "    )\n",
        "    H1 = r * u * 1j * T + (c1 / sigma_v**2) * (\n",
        "        (kappa_v - rho * sigma_v * u * 1j + c2) * T\n",
        "        - 2 * np.log((1 - c3 * np.exp(c2 * T)) / (1 - c3))\n",
        "    )\n",
        "    H2 = (\n",
        "        (kappa_v - rho * sigma_v * u * 1j + c2)\n",
        "        / sigma_v**2\n",
        "        * ((1 - np.exp(c2 * T)) / (1 - c3 * np.exp(c2 * T)))\n",
        "    )\n",
        "    char_func_value = np.exp(H1 + H2 * v0)\n",
        "    return char_func_value"
      ]
    },
    {
      "cell_type": "markdown",
      "source": [
        "### CIR Calibration"
      ],
      "metadata": {
        "id": "OB158WadlGnz"
      }
    },
    {
      "cell_type": "code",
      "source": [
        "def CIR_calibration():\n",
        "    opt = fmin(\n",
        "        CIR_error_function,\n",
        "        [1.0, 0.02, 0.1],\n",
        "        xtol=0.00001,\n",
        "        ftol=0.00001,\n",
        "        maxiter=300,\n",
        "        maxfun=500,\n",
        "    )\n",
        "\n",
        "    return opt\n",
        "\n",
        "def CIR_error_function(alpha):\n",
        "    \"\"\"\n",
        "    Error function to calibrate CIR (1985) model\n",
        "    \"\"\"\n",
        "\n",
        "    kappa_r, theta_r, sigma_r = alpha\n",
        "\n",
        "    # Few remarks to avoid problems for certain values of parameters:\n",
        "    if 2 * kappa_r * theta_r < sigma_r**2:\n",
        "        return 100\n",
        "    if kappa_r < 0 or theta_r < 0 or sigma_r < 0.001:\n",
        "        return 100\n",
        "\n",
        "    forward_rates = CIR_forward_rate(alpha)\n",
        "    MSE = np.sum((f - forward_rates) ** 2) / len(f)\n",
        "\n",
        "    return MSE"
      ],
      "metadata": {
        "id": "fBNWnne1lJiC"
      },
      "execution_count": null,
      "outputs": []
    },
    {
      "cell_type": "markdown",
      "metadata": {
        "id": "U49Gh09YDKmx"
      },
      "source": [
        "### Put-Call Parity\n",
        "- For obtaining the put price from the call price"
      ]
    },
    {
      "cell_type": "code",
      "execution_count": null,
      "metadata": {
        "id": "_OucQpUqNEf0"
      },
      "outputs": [],
      "source": [
        "def calculate_put_price(call_price, S, K, r, T):\n",
        "    \"\"\"Calculate the price of a put option using put-call parity.\"\"\"\n",
        "    put_price = call_price - S + K * np.exp(-r * T)\n",
        "    return put_price"
      ]
    },
    {
      "cell_type": "markdown",
      "metadata": {
        "id": "J9EqzD3qDO_3"
      },
      "source": [
        "### Option Pricer - Vanilla - American, European and Asian\n",
        "- This Class is just for purpose of testing and comparing model results"
      ]
    },
    {
      "cell_type": "code",
      "execution_count": null,
      "metadata": {
        "id": "9qvvh8IPNPd6"
      },
      "outputs": [],
      "source": [
        "from scipy.stats import norm\n",
        "\n",
        "class OptionPricer:\n",
        "    def __init__(self, S, K, r, sigma, T):\n",
        "        self.S = S  # Current stock price\n",
        "        self.K = K  # Strike price\n",
        "        self.r = r  # Risk-free interest rate\n",
        "        self.sigma = sigma  # Volatility of the underlying asset\n",
        "        self.T = T  # Time to maturity (in years)\n",
        "\n",
        "    def european_option(self, option_type):\n",
        "        d1 = (np.log(self.S / self.K) + (self.r + 0.5 * self.sigma**2) * self.T) / (self.sigma * np.sqrt(self.T))\n",
        "        d2 = d1 - self.sigma * np.sqrt(self.T)\n",
        "\n",
        "        if option_type == 'call':\n",
        "            price = self.S * norm.cdf(d1) - self.K * np.exp(-self.r * self.T) * norm.cdf(d2)\n",
        "        elif option_type == 'put':\n",
        "            price = self.K * np.exp(-self.r * self.T) * norm.cdf(-d2) - self.S * norm.cdf(-d1)\n",
        "        else:\n",
        "            raise ValueError(\"Invalid option type. Choose 'call' or 'put'.\")\n",
        "\n",
        "        return price\n",
        "\n",
        "    def asian_option(self, option_type, num_simulations):\n",
        "        np.random.seed(0)  # Set random seed for reproducibility\n",
        "\n",
        "        S_paths = np.zeros((num_simulations, self.T+1))\n",
        "        S_paths[:, 0] = self.S\n",
        "\n",
        "        for t in range(1, self.T+1):\n",
        "            z = np.random.standard_normal(num_simulations)\n",
        "            S_paths[:, t] = S_paths[:, t-1] * np.exp((self.r - 0.5 * self.sigma**2) + self.sigma * np.sqrt(1/self.T) * z)\n",
        "\n",
        "        avg_price = np.mean(S_paths[:, 1:], axis=1)\n",
        "\n",
        "        if option_type == 'call':\n",
        "            payoff = np.maximum(avg_price - self.K, 0)\n",
        "        elif option_type == 'put':\n",
        "            payoff = np.maximum(self.K - avg_price, 0)\n",
        "        else:\n",
        "            raise ValueError(\"Invalid option type. Choose 'call' or 'put'.\")\n",
        "\n",
        "        price = np.exp(-self.r * self.T) * np.mean(payoff)\n",
        "\n",
        "        return price\n",
        "\n",
        "    def american_option(self, option_type, num_steps):\n",
        "        dt = self.T / num_steps\n",
        "        discount_factor = np.exp(-self.r * dt)\n",
        "\n",
        "        # Initialize arrays for stock prices and option values\n",
        "        S_paths = np.zeros((num_steps+1,))\n",
        "        V = np.zeros((num_steps+1,))\n",
        "\n",
        "        # Set initial values\n",
        "        S_paths[0] = self.S\n",
        "\n",
        "        for i in range(1, num_steps+1):\n",
        "            z = np.random.standard_normal()\n",
        "            S_paths[i] = S_paths[i-1] * np.exp((self.r - 0.5 * self.sigma**2) * dt + self.sigma * np.sqrt(dt) * z)\n",
        "\n",
        "        if option_type == 'call':\n",
        "            V[-1] = np.maximum(S_paths[-1] - self.K, 0)\n",
        "        elif option_type == 'put':\n",
        "            V[-1] = np.maximum(self.K - S_paths[-1], 0)\n",
        "        else:\n",
        "            raise ValueError(\"Invalid option type. Choose 'call' or 'put'.\")\n",
        "\n",
        "        for j in range(num_steps-1, -1, -1):\n",
        "            z = np.random.standard_normal()\n",
        "            S_t = S_paths[j]\n",
        "            intrinsic_value = np.maximum(S_t - self.K, 0) if option_type == 'call' else np.maximum(self.K - S_t, 0)\n",
        "            continuation_value = discount_factor * ((1 / num_simulations) * np.sum(V[j+1]) if j != num_steps-1 else np.sum(V[j+1]))\n",
        "            V[j] = np.maximum(intrinsic_value, continuation_value)\n",
        "\n",
        "        price = V[0] * np.exp(-self.r * self.T)\n",
        "\n",
        "        return price\n"
      ]
    },
    {
      "cell_type": "code",
      "execution_count": null,
      "metadata": {
        "colab": {
          "base_uri": "https://localhost:8080/"
        },
        "id": "37c4_1UfNZw3",
        "outputId": "e67f83d2-68c3-4f4f-8b8e-019e700a52a1"
      },
      "outputs": [
        {
          "output_type": "stream",
          "name": "stdout",
          "text": [
            "European Call Price: 0.0048\n",
            "European Put Price: 90.25068\n",
            "Asian Call Price: 0.00237\n",
            "Asian Put Price: 90.66232\n",
            "American Call Price: 0.0\n",
            "American Put Price: 95.12294\n"
          ]
        }
      ],
      "source": [
        "# Example usage\n",
        "S = 100  # Current stock price\n",
        "K = 200  # Strike price\n",
        "r = 0.05  # Risk-free interest rate\n",
        "sigma = 0.2  # Volatility of the underlying asset\n",
        "T = 1  # Time to maturity (in years)\n",
        "num_simulations = 10000  # Number of simulations for Asian option\n",
        "num_steps = 100  # Number of steps for American option\n",
        "\n",
        "option_pricer = OptionPricer(S, K, r, sigma, T)\n",
        "european_call_price = option_pricer.european_option('call')\n",
        "european_put_price = option_pricer.european_option('put')\n",
        "asian_call_price = option_pricer.asian_option('call', num_simulations)\n",
        "asian_put_price = option_pricer.asian_option('put', num_simulations)\n",
        "american_call_price = option_pricer.american_option('call', num_steps)\n",
        "american_put_price = option_pricer.american_option('put', num_steps)\n",
        "\n",
        "print(\"European Call Price:\", round(european_call_price,5))\n",
        "print(\"European Put Price:\", round(european_put_price,5))\n",
        "print(\"Asian Call Price:\", round(asian_call_price,5))\n",
        "print(\"Asian Put Price:\", round(asian_put_price,5))\n",
        "print(\"American Call Price:\", round(american_call_price,5))\n",
        "print(\"American Put Price:\", round(american_put_price,5))"
      ]
    },
    {
      "cell_type": "markdown",
      "metadata": {
        "id": "9Qb0eFXGwgCF"
      },
      "source": [
        "#### Pricing Asian Option Under Monte Carlo"
      ]
    },
    {
      "cell_type": "code",
      "execution_count": null,
      "metadata": {
        "id": "edOpDbWTwfYm"
      },
      "outputs": [],
      "source": [
        "import numpy as np\n",
        "from scipy.special import erf\n",
        "\n",
        "\n",
        "class AsianOptionMC_MC(object):\n",
        "    \"\"\" Class for Asian options pricing using control variate and monte carlo simulations\n",
        "    S0 : float : initial stock/index level\n",
        "    strike : float : strike price\n",
        "    T : float : time to maturity (in year fractions)\n",
        "    M : int : grid or granularity for time (in number of total points)\n",
        "    r : float : constant risk-free short rate\n",
        "    div :    float : dividend yield\n",
        "    sigma :  float : volatility factor in diffusion term\n",
        "\n",
        "    Unitest (doctest):\n",
        "    >>> myAsianCall = AsianOptionMC_MC('call', 4., 4., 1., 100., .03, 0, .25, 10000)\n",
        "    >>> myAsianCall.value\n",
        "    (0.26141622329842962, 0.25359138249114327, 0.26924106410571597)\n",
        "    >>> myAsianCall.value_with_control_variate\n",
        "    (0.25813771282805958, 0.25771678775128265, 0.25855863790483652)\n",
        "\n",
        "    \"\"\"\n",
        "\n",
        "    def __init__(self, option_type, S0, strike, T, M, r, div, sigma, simulations):\n",
        "        try:\n",
        "            self.option_type = option_type\n",
        "            assert isinstance(option_type, str)\n",
        "            self.S0 = float(S0)\n",
        "            self.strike = float(strike)\n",
        "            self.T = float(T)\n",
        "            self.M = int(M)\n",
        "            self.r = float(r)\n",
        "            self.div = float(div)\n",
        "            self.sigma = float(sigma)\n",
        "            self.simulations = int(simulations)\n",
        "        except ValueError:\n",
        "            print('Error passing Options parameters')\n",
        "\n",
        "        if option_type != 'call' and option_type != 'put':\n",
        "            raise ValueError(\"Error: option type not valid. Enter 'call' or 'put'\")\n",
        "        if S0 < 0 or strike < 0 or T <= 0 or r < 0 or div < 0 or sigma < 0:\n",
        "            raise ValueError('Error: Negative inputs not allowed')\n",
        "\n",
        "        self.time_unit = self.T / float(self.M)\n",
        "        self.discount = np.exp(- self.r * self.T)\n",
        "\n",
        "    @property\n",
        "    def GeometricAsianOption(self):\n",
        "        sigsqT = ((self.sigma ** 2 * self.T * (self.M + 1) * (2 * self.M + 1))\n",
        "                  / (6 * self.M * self.M))\n",
        "        muT = (0.5 * sigsqT + (self.r - 0.5 * self.sigma ** 2)\n",
        "               * self.T * (self.M + 1) / (2 * self.M))\n",
        "        d1 = ((np.log(self.S0 / self.strike) + (muT + 0.5 * sigsqT))\n",
        "              / np.sqrt(sigsqT))\n",
        "        d2 = d1 - np.sqrt(sigsqT)\n",
        "        N1 = 0.5 * (1 + erf(d1 / np.sqrt(2)))\n",
        "        N2 = 0.5 * (1 + erf(d2 / np.sqrt(2)))\n",
        "        geometric_value = self.discount * (self.S0 * np.exp(muT) * N1 - self.strike * N2)\n",
        "        return geometric_value\n",
        "\n",
        "    @property\n",
        "    def price_path(self, seed = 100):\n",
        "        np.random.seed(seed)\n",
        "        price_path = (self.S0 *\n",
        "                      np.cumprod (np.exp ((self.r - 0.5 * self.sigma ** 2) * self.time_unit +\n",
        "                                    self.sigma * np.sqrt(self.time_unit)\n",
        "                                          * np.random.randn(self.simulations, self.M)), 1))\n",
        "        return price_path\n",
        "\n",
        "    @property\n",
        "    def MCPayoff(self):\n",
        "        if self.option_type == 'call':\n",
        "            MCpayoff = self.discount \\\n",
        "                              * np.maximum(np.mean(self.price_path,1)-self.strike, 0)\n",
        "        else:\n",
        "            MCpayoff = self.discount \\\n",
        "                              * np.maximum(self.strike - np.mean(self.price_path,1), 0)\n",
        "        return MCpayoff\n",
        "\n",
        "    @property\n",
        "    def value(self):\n",
        "        MCvalue = np.mean(self.MCPayoff)\n",
        "        MCValue_std = np.std(self.MCPayoff)\n",
        "        upper_bound = MCvalue + 1.96 * MCValue_std/np.sqrt(self.simulations)\n",
        "        lower_bound = MCvalue - 1.96 * MCValue_std/np.sqrt(self.simulations)\n",
        "        return [MCvalue, lower_bound, upper_bound]\n",
        "\n",
        "    @property\n",
        "    def value_with_control_variate(self):\n",
        "\n",
        "        geometric_average = np.exp( (1/float(self.M)) * np.sum(np.log(self.price_path), 1) )\n",
        "        if self.option_type == 'call':\n",
        "            MCpayoff_geometric = self.discount * np.maximum(geometric_average - self.strike, 0)\n",
        "        else:\n",
        "            MCpayoff_geometric = self.discount * np.maximum(self.strike - geometric_average, 0)\n",
        "        value_with_CV = self.MCPayoff + self.GeometricAsianOption - MCpayoff_geometric\n",
        "        value_with_control_variate = np.mean(value_with_CV , 0)\n",
        "        value_with_control_variate_std = np.std(value_with_CV, 0)\n",
        "        upper_bound_CV = value_with_control_variate + 1.96 * value_with_control_variate_std/np.sqrt(self.simulations)\n",
        "        lower_bound_CV = value_with_control_variate - 1.96 * value_with_control_variate_std/np.sqrt(self.simulations)\n",
        "        return value_with_control_variate, lower_bound_CV, upper_bound_CV"
      ]
    },
    {
      "cell_type": "markdown",
      "source": [
        "#### Pricing Asian Option Under Heston"
      ],
      "metadata": {
        "id": "J8oppjrzg2-g"
      }
    },
    {
      "cell_type": "code",
      "source": [
        "#This is to generate the price for an Asian Call Option under Heston Assumptions\n",
        "#Step 1/2 - Monte-Carlo Simulation\n",
        "def heston_model_asian_call_simulation(S0, T, r, kappa, theta, sigma, rho, v0, num_paths, num_steps):\n",
        "    dt = T / num_steps\n",
        "    sqrt_dt = np.sqrt(dt)\n",
        "\n",
        "    # Initialize arrays to store the simulated stock prices and volatilities\n",
        "    S = np.zeros((num_paths, num_steps + 1))\n",
        "    v = np.zeros((num_paths, num_steps + 1))\n",
        "\n",
        "    # Set initial values\n",
        "    S[:, 0] = S0\n",
        "    v[:, 0] = v0\n",
        "\n",
        "    # Perform Monte Carlo simulation\n",
        "    for i in range(num_steps):\n",
        "        z1 = np.random.normal(size=num_paths)\n",
        "        z2 = rho * z1 + np.sqrt(1 - rho**2) * np.random.normal(size=num_paths)\n",
        "\n",
        "        # Update stock price and volatility using the Heston model equations\n",
        "        S[:, i + 1] = S[:, i] * np.exp((r - 0.5 * v[:, i]) * dt + np.sqrt(v[:, i]) * np.sqrt(dt) * z1)\n",
        "        v[:, i + 1] = np.maximum(0, v[:, i] + kappa * (theta - v[:, i]) * dt + sigma * np.sqrt(v[:, i]) * np.sqrt(dt) * z2)\n",
        "\n",
        "    # Calculate the average of the stock prices along each path\n",
        "    average_S = np.mean(S, axis=1)\n",
        "\n",
        "    return average_S\n",
        "\n",
        "#Step 2/2 - Payoff deduction and return value\n",
        "def asian_option_price(S0, K, T, r, kappa, theta, sigma, rho, v0, num_paths, num_steps):\n",
        "    average_S = heston_model_asian_call_simulation(S0, T, r, kappa, theta, sigma, rho, v0, num_paths, num_steps)\n",
        "\n",
        "    # Calculate the Asian option payoff\n",
        "    asian_payoff = np.maximum(0, average_S - K)\n",
        "\n",
        "    # Discount the payoff to present value\n",
        "    discount_factor = np.exp(-r * T)\n",
        "    asian_option_price = np.mean(asian_payoff) * discount_factor\n",
        "\n",
        "    return asian_option_price\n"
      ],
      "metadata": {
        "id": "nNRNX-wpg2n2"
      },
      "execution_count": null,
      "outputs": []
    },
    {
      "cell_type": "markdown",
      "source": [
        "#### Pricing Asian Option Under Bates"
      ],
      "metadata": {
        "id": "MQ__LnHYg-lR"
      }
    },
    {
      "cell_type": "code",
      "source": [
        "# Define the Bates (Heston model with jumps) pricing formula for Asian Put options\n",
        "def bates_asian_option_put_price(params, moneyness):\n",
        "    kappa, theta, sigma, rho, v0, lam, delta, gamma = params\n",
        "\n",
        "    # Simulate the stock price paths using the Bates model\n",
        "    dt = T / 100\n",
        "    sqrt_dt = np.sqrt(dt)\n",
        "\n",
        "    s_paths = np.zeros((num_simulations, 101))\n",
        "    v_paths = np.zeros((num_simulations, 101))\n",
        "    s_paths[:, 0] = S0\n",
        "    v_paths[:, 0] = v0\n",
        "\n",
        "    for i in range(1, 101):\n",
        "        zv = rho * np.random.normal(size=(num_simulations,))\n",
        "        zv_j = np.random.normal(size=(num_simulations,))\n",
        "\n",
        "        v_paths[:, i] = v_paths[:, i - 1] + kappa * (theta - v_paths[:, i - 1]) * dt \\\n",
        "                         + sigma * np.sqrt(v_paths[:, i - 1]) * sqrt_dt * zv \\\n",
        "                         + gamma * np.sqrt(v_paths[:, i - 1]) * sqrt_dt * zv_j\n",
        "\n",
        "        s_paths[:, i] = s_paths[:, i - 1] * np.exp((r - lam * delta - 0.5 * v_paths[:, i - 1]) * dt \\\n",
        "                                                  + np.sqrt(v_paths[:, i - 1]) * np.sqrt(dt) * np.random.normal(size=(num_simulations,)) \\\n",
        "                                                  + delta * np.sqrt(v_paths[:, i - 1]) * np.sqrt(dt) * np.random.normal(size=(num_simulations,)))\n",
        "\n",
        "    # Compute the average stock price at each time step\n",
        "    avg_s_paths = np.mean(s_paths, axis=1)\n",
        "\n",
        "    # Compute the discounted payoff for Asian Put options\n",
        "    strike = moneyness * S0\n",
        "    payoff = np.maximum(strike - avg_s_paths, 0)\n",
        "    discounted_payoff = np.exp(-r * T) * payoff\n",
        "\n",
        "    # Compute the Asian Put option price using Monte Carlo simulation\n",
        "    asian_put_price = np.mean(discounted_payoff)\n",
        "\n",
        "    return asian_put_price"
      ],
      "metadata": {
        "id": "GC_Y7gR6hKnV"
      },
      "execution_count": null,
      "outputs": []
    },
    {
      "cell_type": "markdown",
      "metadata": {
        "id": "EqkJDbWwUMVB"
      },
      "source": [
        "## Step 1 -\n",
        "\n"
      ]
    },
    {
      "cell_type": "markdown",
      "metadata": {
        "id": "D-gilbDazkAJ"
      },
      "source": [
        "### a. Calibration of Heston model (without jumps) under Lewis(2001) for Call and Put options."
      ]
    },
    {
      "cell_type": "markdown",
      "metadata": {
        "id": "6UZ4vyj--aIR"
      },
      "source": [
        "The objective of model calibration is to adjust the parameters of an option pricing model to fit observed market prices, in using the Heston model(without jump) we are attempting to derive the best parameters with the best match to the prices of Call and Put options traded in the market, with emphasis on modeling effectively the Stochastic volatility component.\n",
        "\n",
        "Steven Heston created the Heston model in 1993 herein referred as Heston(1993) Model, and it is a stochastic volatility model that is commonly used in option pricing. It posits that the underlying asset's volatility follows a stochastic process and incorporates the idea of mean reversion. The model contains various parameters that must be calibrated in order to appropriately reflect market conditions.\n",
        "\n",
        "We are able to price options using this model, as long as we have the Characteristic function which is the nearest summarization to achieve a closed-form solution, given by:\n",
        "\n",
        "$$\n",
        "\\\n",
        "\\begin{equation*}\n",
        "  \\varphi^{H} (u, T) = e^{H_1(u, T)+H_2(u,T)\\nu_0}\n",
        "\\end{equation*}\n",
        "$$\n",
        "\\\n",
        "where\n",
        "\n",
        "$$\n",
        "\\\n",
        "\\begin{equation*}\n",
        "  H_1 (u, T) \\equiv r_0 uiT + \\frac{c_1}{\\sigma_\\nu^2}\\Biggl\\{ (\\kappa_\\nu - \\rho \\sigma_\\nu ui+c_2) T - 2 log \\left[ \\frac{1-c_3e^{c_2T}}{1-c_3} \\right] \\Biggl\\}\n",
        "\\end{equation*}\n",
        "$$\n",
        "$$\n",
        "\\\n",
        "\\begin{equation*}\n",
        "  H_2 (u, T) \\equiv \\frac{\\kappa_\\nu - \\rho \\sigma_\\nu ui + c_2}{\\sigma_\\nu^2} \\left[ \\frac{1-e^{c_2T}}{1-c_3e^{c_2T}} \\right]\n",
        "\\end{equation*}\n",
        "$$\n",
        "$$\n",
        "\\\n",
        "\\begin{equation*}\n",
        "  c_1 \\equiv \\kappa_\\nu \\theta_\\nu\n",
        "\\end{equation*}\n",
        "$$\n",
        "$$\n",
        "\\\n",
        "\\begin{equation*}\n",
        "  c_2 \\equiv - \\sqrt{(\\rho \\sigma_\\nu ui - \\kappa_\\nu)^2 - \\sigma_\\nu^2(-ui-u^2) }\n",
        "\\end{equation*}\n",
        "$$\n",
        "$$\n",
        "\\\n",
        "\\begin{equation*}\n",
        "  c_3 \\equiv \\frac{\\kappa_\\nu - \\rho \\sigma_\\nu ui + c_2}{\\kappa_\\nu - \\rho \\sigma_\\nu ui - c_2}\n",
        "\\end{equation*}\n",
        "$$\n",
        "\n",
        "\\\n",
        "\n",
        "Herein:\n",
        "\n",
        "    S0:\n",
        "        initial stock/index level\n",
        "    K:\n",
        "        strike price\n",
        "    T:\n",
        "        time-to-maturity (for t=0)\n",
        "    r:\n",
        "        constant risk-free short rate\n",
        "    kappa_v:\n",
        "        mean-reversion factor\n",
        "    theta_v:\n",
        "        long-run mean of variance\n",
        "    sigma_v:\n",
        "        volatility of variance\n",
        "    rho:\n",
        "        correlation between variance and stock/index level\n",
        "    v0:\n",
        "        initial level of variance\n",
        "\n"
      ]
    },
    {
      "cell_type": "markdown",
      "metadata": {
        "id": "WH2pVSS3S2ac"
      },
      "source": [
        "We also need to get a value for the integral in Lewis (2001):\n",
        "\n",
        "$$\n",
        "\\\n",
        "\\begin{equation*}\n",
        "    C_0 = S_0 - \\frac{\\sqrt{S_0 K} e^{-rT}}{\\pi} \\int_{0}^{\\infty} \\mathbf{Re}[e^{izk} \\varphi(z-i/2)] \\frac{dz}{z^2+1/4}\n",
        "\\end{equation*}\n",
        "$$\n",
        "\n",
        "Where all parameters - same as previously"
      ]
    },
    {
      "cell_type": "markdown",
      "metadata": {
        "id": "ONHBfgBEEjxx"
      },
      "source": [
        "In order to calibrate, the following broad procedures are commonly used to calibrate the Heston model using the Lewis (2001) approach:\n",
        "\n",
        "1. Data Preparation\n",
        "\n",
        "2. Selection of Calibration Objective and Method - in this case, we can use Mean Square Error. This guides the minimization/optimization process\n",
        "\n",
        "3. Parameter initialization\n",
        "\n",
        "4. Optimization process to reduce the gap between observed values and actual values - It optimizes model parameters in order to minimize the error function in relation to market data.\n",
        "\n",
        "5. Iterate until the best sets of parameters is achieved which fits the market data as accurately as possible."
      ]
    },
    {
      "cell_type": "markdown",
      "metadata": {
        "id": "DLlcvBROIcrq"
      },
      "source": [
        "We will follow the follow functions call Map to achieve the Heston Model Calibration herein, all the stated functions are in the Helper Classes and Function Sub-Section -\n",
        "\n",
        "Heston Model under Lewis -->  Call/Put Options --> H93_Calibration_full\n",
        " ---> H93_error_function ---> Based on Put/Call(Put_Call_Parity function intermediates here) ---> H93_Call_Value ---> H93_int_function(Lewis 2001 introduction for the integral function) --> H93_char_func"
      ]
    },
    {
      "cell_type": "markdown",
      "metadata": {
        "id": "sZWxv3TouVkB"
      },
      "source": [
        "Using Lewis 2001 approach Under Heston(1993) to calibrate the model with regular MSE error function.\n",
        "\n",
        "$S_0 = \\$232.9 $"
      ]
    },
    {
      "cell_type": "markdown",
      "metadata": {
        "id": "yAT_VNhlRzZw"
      },
      "source": [
        "#### Data Preparation for Model Calibration"
      ]
    },
    {
      "cell_type": "code",
      "execution_count": null,
      "metadata": {
        "colab": {
          "base_uri": "https://localhost:8080/"
        },
        "id": "HCtuQz4YQE_-",
        "outputId": "d36b0773-4acf-45c7-c1a7-02b20d003abd"
      },
      "outputs": [
        {
          "output_type": "execute_result",
          "data": {
            "text/plain": [
              "((15, 6), (5, 6))"
            ]
          },
          "metadata": {},
          "execution_count": 210
        }
      ],
      "source": [
        "#Allowing for short maturity\n",
        "maturity = 15 #short maturity for her derivative(around 15 days)\n",
        "\n",
        "options_data = options_df[options_df['Maturity'] == maturity]\n",
        "options_df.shape, options_data.shape"
      ]
    },
    {
      "cell_type": "code",
      "execution_count": null,
      "metadata": {
        "colab": {
          "base_uri": "https://localhost:8080/",
          "height": 206
        },
        "id": "VYtzUcZqREnb",
        "outputId": "ec677ece-a9df-418d-b409-2b934957096e"
      },
      "outputs": [
        {
          "output_type": "execute_result",
          "data": {
            "text/plain": [
              "   Maturity  Strike   Call   Put     T      r\n",
              "0        15   227.5  10.52  4.32  0.06  0.015\n",
              "1        15   230.0  10.05  5.20  0.06  0.015\n",
              "2        15   232.5   7.75  6.45  0.06  0.015\n",
              "3        15   235.0   6.01  7.56  0.06  0.015\n",
              "4        15   237.5   4.75  8.78  0.06  0.015"
            ],
            "text/html": [
              "\n",
              "\n",
              "  <div id=\"df-f6b9d2b0-57e8-4b74-b2ac-33aaa1134c46\">\n",
              "    <div class=\"colab-df-container\">\n",
              "      <div>\n",
              "<style scoped>\n",
              "    .dataframe tbody tr th:only-of-type {\n",
              "        vertical-align: middle;\n",
              "    }\n",
              "\n",
              "    .dataframe tbody tr th {\n",
              "        vertical-align: top;\n",
              "    }\n",
              "\n",
              "    .dataframe thead th {\n",
              "        text-align: right;\n",
              "    }\n",
              "</style>\n",
              "<table border=\"1\" class=\"dataframe\">\n",
              "  <thead>\n",
              "    <tr style=\"text-align: right;\">\n",
              "      <th></th>\n",
              "      <th>Maturity</th>\n",
              "      <th>Strike</th>\n",
              "      <th>Call</th>\n",
              "      <th>Put</th>\n",
              "      <th>T</th>\n",
              "      <th>r</th>\n",
              "    </tr>\n",
              "  </thead>\n",
              "  <tbody>\n",
              "    <tr>\n",
              "      <th>0</th>\n",
              "      <td>15</td>\n",
              "      <td>227.5</td>\n",
              "      <td>10.52</td>\n",
              "      <td>4.32</td>\n",
              "      <td>0.06</td>\n",
              "      <td>0.015</td>\n",
              "    </tr>\n",
              "    <tr>\n",
              "      <th>1</th>\n",
              "      <td>15</td>\n",
              "      <td>230.0</td>\n",
              "      <td>10.05</td>\n",
              "      <td>5.20</td>\n",
              "      <td>0.06</td>\n",
              "      <td>0.015</td>\n",
              "    </tr>\n",
              "    <tr>\n",
              "      <th>2</th>\n",
              "      <td>15</td>\n",
              "      <td>232.5</td>\n",
              "      <td>7.75</td>\n",
              "      <td>6.45</td>\n",
              "      <td>0.06</td>\n",
              "      <td>0.015</td>\n",
              "    </tr>\n",
              "    <tr>\n",
              "      <th>3</th>\n",
              "      <td>15</td>\n",
              "      <td>235.0</td>\n",
              "      <td>6.01</td>\n",
              "      <td>7.56</td>\n",
              "      <td>0.06</td>\n",
              "      <td>0.015</td>\n",
              "    </tr>\n",
              "    <tr>\n",
              "      <th>4</th>\n",
              "      <td>15</td>\n",
              "      <td>237.5</td>\n",
              "      <td>4.75</td>\n",
              "      <td>8.78</td>\n",
              "      <td>0.06</td>\n",
              "      <td>0.015</td>\n",
              "    </tr>\n",
              "  </tbody>\n",
              "</table>\n",
              "</div>\n",
              "      <button class=\"colab-df-convert\" onclick=\"convertToInteractive('df-f6b9d2b0-57e8-4b74-b2ac-33aaa1134c46')\"\n",
              "              title=\"Convert this dataframe to an interactive table.\"\n",
              "              style=\"display:none;\">\n",
              "\n",
              "  <svg xmlns=\"http://www.w3.org/2000/svg\" height=\"24px\"viewBox=\"0 0 24 24\"\n",
              "       width=\"24px\">\n",
              "    <path d=\"M0 0h24v24H0V0z\" fill=\"none\"/>\n",
              "    <path d=\"M18.56 5.44l.94 2.06.94-2.06 2.06-.94-2.06-.94-.94-2.06-.94 2.06-2.06.94zm-11 1L8.5 8.5l.94-2.06 2.06-.94-2.06-.94L8.5 2.5l-.94 2.06-2.06.94zm10 10l.94 2.06.94-2.06 2.06-.94-2.06-.94-.94-2.06-.94 2.06-2.06.94z\"/><path d=\"M17.41 7.96l-1.37-1.37c-.4-.4-.92-.59-1.43-.59-.52 0-1.04.2-1.43.59L10.3 9.45l-7.72 7.72c-.78.78-.78 2.05 0 2.83L4 21.41c.39.39.9.59 1.41.59.51 0 1.02-.2 1.41-.59l7.78-7.78 2.81-2.81c.8-.78.8-2.07 0-2.86zM5.41 20L4 18.59l7.72-7.72 1.47 1.35L5.41 20z\"/>\n",
              "  </svg>\n",
              "      </button>\n",
              "\n",
              "\n",
              "\n",
              "    <div id=\"df-b4de38f6-b644-449f-bfe1-97d3d7dcf3bf\">\n",
              "      <button class=\"colab-df-quickchart\" onclick=\"quickchart('df-b4de38f6-b644-449f-bfe1-97d3d7dcf3bf')\"\n",
              "              title=\"Suggest charts.\"\n",
              "              style=\"display:none;\">\n",
              "\n",
              "<svg xmlns=\"http://www.w3.org/2000/svg\" height=\"24px\"viewBox=\"0 0 24 24\"\n",
              "     width=\"24px\">\n",
              "    <g>\n",
              "        <path d=\"M19 3H5c-1.1 0-2 .9-2 2v14c0 1.1.9 2 2 2h14c1.1 0 2-.9 2-2V5c0-1.1-.9-2-2-2zM9 17H7v-7h2v7zm4 0h-2V7h2v10zm4 0h-2v-4h2v4z\"/>\n",
              "    </g>\n",
              "</svg>\n",
              "      </button>\n",
              "    </div>\n",
              "\n",
              "<style>\n",
              "  .colab-df-quickchart {\n",
              "    background-color: #E8F0FE;\n",
              "    border: none;\n",
              "    border-radius: 50%;\n",
              "    cursor: pointer;\n",
              "    display: none;\n",
              "    fill: #1967D2;\n",
              "    height: 32px;\n",
              "    padding: 0 0 0 0;\n",
              "    width: 32px;\n",
              "  }\n",
              "\n",
              "  .colab-df-quickchart:hover {\n",
              "    background-color: #E2EBFA;\n",
              "    box-shadow: 0px 1px 2px rgba(60, 64, 67, 0.3), 0px 1px 3px 1px rgba(60, 64, 67, 0.15);\n",
              "    fill: #174EA6;\n",
              "  }\n",
              "\n",
              "  [theme=dark] .colab-df-quickchart {\n",
              "    background-color: #3B4455;\n",
              "    fill: #D2E3FC;\n",
              "  }\n",
              "\n",
              "  [theme=dark] .colab-df-quickchart:hover {\n",
              "    background-color: #434B5C;\n",
              "    box-shadow: 0px 1px 3px 1px rgba(0, 0, 0, 0.15);\n",
              "    filter: drop-shadow(0px 1px 2px rgba(0, 0, 0, 0.3));\n",
              "    fill: #FFFFFF;\n",
              "  }\n",
              "</style>\n",
              "\n",
              "    <script>\n",
              "      async function quickchart(key) {\n",
              "        const containerElement = document.querySelector('#' + key);\n",
              "        const charts = await google.colab.kernel.invokeFunction(\n",
              "            'suggestCharts', [key], {});\n",
              "      }\n",
              "    </script>\n",
              "\n",
              "      <script>\n",
              "\n",
              "function displayQuickchartButton(domScope) {\n",
              "  let quickchartButtonEl =\n",
              "    domScope.querySelector('#df-b4de38f6-b644-449f-bfe1-97d3d7dcf3bf button.colab-df-quickchart');\n",
              "  quickchartButtonEl.style.display =\n",
              "    google.colab.kernel.accessAllowed ? 'block' : 'none';\n",
              "}\n",
              "\n",
              "        displayQuickchartButton(document);\n",
              "      </script>\n",
              "      <style>\n",
              "    .colab-df-container {\n",
              "      display:flex;\n",
              "      flex-wrap:wrap;\n",
              "      gap: 12px;\n",
              "    }\n",
              "\n",
              "    .colab-df-convert {\n",
              "      background-color: #E8F0FE;\n",
              "      border: none;\n",
              "      border-radius: 50%;\n",
              "      cursor: pointer;\n",
              "      display: none;\n",
              "      fill: #1967D2;\n",
              "      height: 32px;\n",
              "      padding: 0 0 0 0;\n",
              "      width: 32px;\n",
              "    }\n",
              "\n",
              "    .colab-df-convert:hover {\n",
              "      background-color: #E2EBFA;\n",
              "      box-shadow: 0px 1px 2px rgba(60, 64, 67, 0.3), 0px 1px 3px 1px rgba(60, 64, 67, 0.15);\n",
              "      fill: #174EA6;\n",
              "    }\n",
              "\n",
              "    [theme=dark] .colab-df-convert {\n",
              "      background-color: #3B4455;\n",
              "      fill: #D2E3FC;\n",
              "    }\n",
              "\n",
              "    [theme=dark] .colab-df-convert:hover {\n",
              "      background-color: #434B5C;\n",
              "      box-shadow: 0px 1px 3px 1px rgba(0, 0, 0, 0.15);\n",
              "      filter: drop-shadow(0px 1px 2px rgba(0, 0, 0, 0.3));\n",
              "      fill: #FFFFFF;\n",
              "    }\n",
              "  </style>\n",
              "\n",
              "      <script>\n",
              "        const buttonEl =\n",
              "          document.querySelector('#df-f6b9d2b0-57e8-4b74-b2ac-33aaa1134c46 button.colab-df-convert');\n",
              "        buttonEl.style.display =\n",
              "          google.colab.kernel.accessAllowed ? 'block' : 'none';\n",
              "\n",
              "        async function convertToInteractive(key) {\n",
              "          const element = document.querySelector('#df-f6b9d2b0-57e8-4b74-b2ac-33aaa1134c46');\n",
              "          const dataTable =\n",
              "            await google.colab.kernel.invokeFunction('convertToInteractive',\n",
              "                                                     [key], {});\n",
              "          if (!dataTable) return;\n",
              "\n",
              "          const docLinkHtml = 'Like what you see? Visit the ' +\n",
              "            '<a target=\"_blank\" href=https://colab.research.google.com/notebooks/data_table.ipynb>data table notebook</a>'\n",
              "            + ' to learn more about interactive tables.';\n",
              "          element.innerHTML = '';\n",
              "          dataTable['output_type'] = 'display_data';\n",
              "          await google.colab.output.renderOutput(dataTable, element);\n",
              "          const docLink = document.createElement('div');\n",
              "          docLink.innerHTML = docLinkHtml;\n",
              "          element.appendChild(docLink);\n",
              "        }\n",
              "      </script>\n",
              "    </div>\n",
              "  </div>\n"
            ]
          },
          "metadata": {},
          "execution_count": 211
        }
      ],
      "source": [
        "options_data.head(10) #Displaying the data set meeting the stipulated conditions"
      ]
    },
    {
      "cell_type": "markdown",
      "metadata": {
        "id": "Wsof9P-dR77P"
      },
      "source": [
        "#### Model Calibration and Obtaining Parameters"
      ]
    },
    {
      "cell_type": "code",
      "execution_count": null,
      "metadata": {
        "colab": {
          "base_uri": "https://localhost:8080/"
        },
        "id": "hQvgykq9RwlH",
        "outputId": "8dcd7ee5-f0c3-40c9-b8c2-29e82a736f78"
      },
      "outputs": [
        {
          "output_type": "stream",
          "name": "stdout",
          "text": [
            "   0 | [ 2.5   0.01  0.05 -0.75  0.01] |  20.086 |  20.086\n",
            "  25 | [ 2.5   0.02  0.05 -0.75  0.02] |  13.406 |   9.546\n",
            "  50 | [ 2.5   0.02  0.25 -0.75  0.03] |   9.308 |   9.277\n",
            "  75 | [ 2.5   0.03  0.15 -0.5   0.01] |  18.948 |   9.015\n",
            " 100 | [ 2.5   0.04  0.05 -0.5   0.02] |  12.679 |   8.761\n",
            " 125 | [ 2.5   0.04  0.25 -0.5   0.03] |   8.810 |   8.759\n",
            " 150 | [ 7.5   0.01  0.15 -0.25  0.01] |  20.129 |   8.759\n",
            " 175 | [ 7.5   0.02  0.05 -0.25  0.02] |  13.421 |   8.759\n",
            " 200 | [ 7.5   0.02  0.25 -0.25  0.03] |   9.815 |   8.759\n",
            " 225 | [7.5  0.03 0.15 0.   0.01] |  17.160 |   8.759\n",
            " 250 | [7.5  0.04 0.05 0.   0.02] |  11.515 |   8.336\n",
            " 275 | [7.5  0.04 0.25 0.   0.03] |   8.413 |   8.332\n",
            " 300 | [ 7.10037179  0.05742843  0.11352214 -0.46596154  0.04611934] |   4.121 |   4.121\n",
            " 325 | [4.9974734  0.12010183 0.03182302 0.72664073 0.09991528] |   0.429 |   0.348\n",
            " 350 | [5.26301157 0.10921079 0.03854832 0.50754679 0.09195685] |   0.348 |   0.348\n",
            " 375 | [5.44795767 0.11591707 0.01350021 0.50960795 0.0906757 ] |   0.346 |   0.345\n",
            " 400 | [5.50586718e+00 1.19665034e-01 1.04253404e-04 5.11531255e-01\n",
            " 9.02377801e-02] |   0.345 |   0.345\n",
            " 425 | [5.52828991e+00 1.19744083e-01 5.86598556e-05 5.14841411e-01\n",
            " 9.02433249e-02] |   0.345 |   0.345\n",
            " 450 | [5.53789099e+00 1.19785409e-01 6.05306547e-06 5.16181083e-01\n",
            " 9.02407090e-02] |   0.345 |   0.345\n",
            " 475 | [5.53638414e+00 1.19774465e-01 3.10271970e-06 5.15768043e-01\n",
            " 9.02347462e-02] |   0.345 |   0.345\n",
            " 500 | [5.53531237e+00 1.19770203e-01 2.77857129e-06 5.15578751e-01\n",
            " 9.02335225e-02] |   0.345 |   0.345\n",
            " 525 | [5.53552346e+00 1.19771036e-01 2.69856046e-06 5.15614359e-01\n",
            " 9.02336804e-02] |   0.345 |   0.345\n",
            " 550 | [5.53558241e+00 1.19771369e-01 2.75671237e-06 5.15627877e-01\n",
            " 9.02338538e-02] |   0.345 |   0.345\n",
            " 575 | [5.53557778e+00 1.19771367e-01 2.75869415e-06 5.15627524e-01\n",
            " 9.02338632e-02] |   0.345 |   0.345\n",
            " 600 | [5.53557630e+00 1.19771360e-01 2.75764675e-06 5.15627235e-01\n",
            " 9.02338604e-02] |   0.345 |   0.345\n",
            " 625 | [5.53557611e+00 1.19771360e-01 2.75762995e-06 5.15627211e-01\n",
            " 9.02338605e-02] |   0.345 |   0.345\n",
            " 650 | [5.53557611e+00 1.19771360e-01 2.75760892e-06 5.15627209e-01\n",
            " 9.02338605e-02] |   0.345 |   0.345\n",
            " 675 | [5.53557610e+00 1.19771360e-01 2.75760353e-06 5.15627207e-01\n",
            " 9.02338605e-02] |   0.345 |   0.345\n",
            " 700 | [5.53557609e+00 1.19771360e-01 2.75760325e-06 5.15627206e-01\n",
            " 9.02338605e-02] |   0.345 |   0.345\n",
            " 725 | [5.53557609e+00 1.19771360e-01 2.75760333e-06 5.15627206e-01\n",
            " 9.02338605e-02] |   0.345 |   0.345\n",
            " 750 | [5.53557609e+00 1.19771360e-01 2.75760333e-06 5.15627206e-01\n",
            " 9.02338605e-02] |   0.345 |   0.345\n",
            " 775 | [5.53557609e+00 1.19771360e-01 2.75760333e-06 5.15627206e-01\n",
            " 9.02338605e-02] |   0.345 |   0.345\n",
            " 800 | [5.53557609e+00 1.19771360e-01 2.75760333e-06 5.15627206e-01\n",
            " 9.02338605e-02] |   0.345 |   0.345\n",
            " 825 | [5.53557609e+00 1.19771360e-01 2.75760333e-06 5.15627206e-01\n",
            " 9.02338605e-02] |   0.345 |   0.345\n",
            " 850 | [5.53557609e+00 1.19771360e-01 2.75760333e-06 5.15627206e-01\n",
            " 9.02338605e-02] |   0.345 |   0.345\n",
            " 875 | [5.53557609e+00 1.19771360e-01 2.75760333e-06 5.15627206e-01\n",
            " 9.02338605e-02] |   0.345 |   0.345\n",
            " 900 | [5.53557609e+00 1.19771360e-01 2.75760333e-06 5.15627206e-01\n",
            " 9.02338605e-02] |   0.345 |   0.345\n",
            "Optimization terminated successfully.\n",
            "         Current function value: 0.344546\n",
            "         Iterations: 301\n",
            "         Function evaluations: 670\n"
          ]
        }
      ],
      "source": [
        "params = H93_calibration_full()"
      ]
    },
    {
      "cell_type": "code",
      "execution_count": null,
      "metadata": {
        "colab": {
          "base_uri": "https://localhost:8080/"
        },
        "id": "dTKC6p8pSmjI",
        "outputId": "4920b3e6-9a8a-4f01-b845-054e32806fff"
      },
      "outputs": [
        {
          "output_type": "stream",
          "name": "stdout",
          "text": [
            "Heston(1993) Model Parameters under Lewis 2001\n",
            "--------------------\n",
            "mean-reversion factor κᵥ = 5.535576092437131\n",
            "long-run mean of variance θᵥ = 0.11977135992073158\n",
            "volatility of variance σᵥ = 2.757603326262676e-06\n",
            "correlation between variance and stock/index level ρ  = 0.515627205882661\n",
            "initial, instantaneous variance υᵥ = 0.09023386045689327\n",
            "--------------------\n"
          ]
        }
      ],
      "source": [
        "kappa_v = params[0]\n",
        "theta_v = params[1]\n",
        "sigma_v = params[2]\n",
        "rho = params[3]\n",
        "v0 = params[4]\n",
        "\n",
        "#Outputing the parameters from the previous calibration process\n",
        "print(\"Heston(1993) Model Parameters under Lewis 2001\")\n",
        "print(\"--------------------\")\n",
        "print(\"mean-reversion factor \\u03BA\\u1D65 = {}\".format(kappa_v))\n",
        "print(\"long-run mean of variance \\u03B8\\u1D65 = {}\".format(theta_v))\n",
        "print(\"volatility of variance \\u03C3\\u1D65 = {}\".format(sigma_v))\n",
        "print(\"correlation between variance and stock/index level \\u03C1  = {}\".format(rho))\n",
        "print(\"initial, instantaneous variance \\u03C5\\u1D65 = {}\".format(v0))\n",
        "print(\"--------------------\")\n"
      ]
    },
    {
      "cell_type": "markdown",
      "metadata": {
        "id": "FUBFcP16V1f4"
      },
      "source": [
        "#### Calibration Process Overview:"
      ]
    },
    {
      "cell_type": "markdown",
      "metadata": {
        "id": "Kvujn9X-D2mR"
      },
      "source": [
        "\n",
        "We have market data available for vanilla options and used it to calibrate the heston model parameters:\n",
        "$\\kappa_\\nu$ , $\\theta_\\nu$ , $\\sigma_\\nu$, $\\rho$ and $\\nu_0$\n",
        "\n",
        "We found two set of parameters calibrated on:\n",
        "1.   Call options with maturity of 15 days (this maturity selection is based on investors interest).\n",
        "2.   Put options with maturity of 15 days (this maturity selection is based on investors interest).\n",
        "\n",
        "The following functions, and based on the notes from WQU(2023) were used to perform the calibration:\n",
        "1.   Functions related to Pricing of Call/Put options:\n",
        "  * H93_char_func (Characteristic function of Heston)\n",
        "  * H93_int_func (Calculate integral values)\n",
        "  * H93_call_value (Calculate Call option price)\n",
        "  * Put_value (Calculated Put option price using put call parity)\n",
        "2.   Functions related to Calibration:\n",
        "  * H93_error_function (This is based on mean squared error which we are trying to minimize)\n",
        "  * H93_calibration_full (Optimize the parameters using a combination of brute force search and fmin functions from scipy.optimize module)\n",
        "\n",
        "Calibration plots show reasonable fit for both call and put options"
      ]
    },
    {
      "cell_type": "markdown",
      "metadata": {
        "id": "o70kUhE4XJxF"
      },
      "source": [
        "#### Visualising Model Fit"
      ]
    },
    {
      "cell_type": "code",
      "execution_count": null,
      "metadata": {
        "id": "LWXj7F8o-EPL"
      },
      "outputs": [],
      "source": [
        "def generate_plot(options):\n",
        "\n",
        "    # First, we calculate model prices\n",
        "    options[\"Model Call Price\"] = 0.0\n",
        "    options[\"Model Put Price\"] = 0.0\n",
        "\n",
        "    for row, option in options.iterrows():\n",
        "        call_price = H93_call_value(\n",
        "            S0, option[\"Strike\"], option[\"T\"], option[\"r\"], kappa_v, theta_v, sigma_v, rho, v0)\n",
        "\n",
        "        options.loc[row, \"Model Call Price\"] = call_price\n",
        "        options.loc[row, \"Model Put Price\"] = calculate_put_price(call_price, S0, option[\"Strike\"], option[\"r\"], option[\"T\"])\n",
        "\n",
        "    # Second, we plot\n",
        "    plt.figure(figsize=(10, 6))\n",
        "    plt.rcParams['axes.facecolor'] = 'lightblue'\n",
        "    plt.plot(options[\"Strike\"], options[\"Model Call Price\"], label='Model Call Prices')\n",
        "    plt.plot(options[\"Strike\"], options[\"Model Put Price\"], label='Model Put Prices')\n",
        "    plt.scatter(options['Strike'], options['Call'], color='red', label='Actual Call Prices')\n",
        "    plt.scatter(options['Strike'], options['Put'], color='blue', label='Actual Put Prices')\n",
        "    plt.xlabel('Strike Price')\n",
        "    plt.ylabel('Option Price')\n",
        "    plt.title('Calibrated Heston Model Prices vs. Observed Prices for 15 Day Maturity')\n",
        "    plt.legend()\n",
        "    plt.grid(True)\n",
        "    plt.show()"
      ]
    },
    {
      "cell_type": "code",
      "execution_count": null,
      "metadata": {
        "colab": {
          "base_uri": "https://localhost:8080/",
          "height": 564
        },
        "id": "jFwplJelYD3O",
        "outputId": "cf34dee8-78b9-449a-8d0e-984caacbee4a"
      },
      "outputs": [
        {
          "output_type": "display_data",
          "data": {
            "text/plain": [
              "<Figure size 1000x600 with 1 Axes>"
            ],
            "image/png": "[encoded data removed]"
          },
          "metadata": {}
        }
      ],
      "source": [
        "options_viz = options_data.copy()\n",
        "generate_plot(options_viz)"
      ]
    },
    {
      "cell_type": "markdown",
      "metadata": {
        "id": "sLFYTQ4e7Cuf"
      },
      "source": [
        "###b. Heston Model Calibration under Carr-Madan(1999)"
      ]
    },
    {
      "cell_type": "markdown",
      "metadata": {
        "id": "EbdydSmni2QE"
      },
      "source": [
        "Carr-Madan(1999) is a Fast Fourier Transform algorithm which is an alternative to Lewis (2001). Essentially, we can apply FFT to the integral in the call option price derived by Carr and Madan (1999), represented below:\n",
        "$$\n",
        "\\\n",
        "\\begin{equation*}\n",
        "    C_0 = \\frac{e^{-\\alpha \\kappa}}{\\pi} \\int_{0}^{\\infty} e^{-i\\nu \\kappa} \\frac{e^{-rT} \\varphi^{H93} (\\nu - (\\alpha + 1)i, T)}{\\alpha^2 + \\alpha - \\nu^2 + i(2\\alpha + 1)\\nu} d\\nu\n",
        "\\end{equation*}\n",
        "$$\n",
        "\n",
        "\n",
        "\n",
        "Where:  all parameters maintain notations as stated previously"
      ]
    },
    {
      "cell_type": "markdown",
      "metadata": {
        "id": "OzaJnERydFT_"
      },
      "source": [
        "#### Data Preparation for Model Calibration"
      ]
    },
    {
      "cell_type": "code",
      "execution_count": null,
      "metadata": {
        "colab": {
          "base_uri": "https://localhost:8080/",
          "height": 206
        },
        "id": "JKhv8sTOdbM8",
        "outputId": "f43c325f-956c-46e7-c10e-b0db934bdf62"
      },
      "outputs": [
        {
          "output_type": "execute_result",
          "data": {
            "text/plain": [
              "   Maturity  Strike   Call   Put     T      r\n",
              "0        15   227.5  10.52  4.32  0.06  0.015\n",
              "1        15   230.0  10.05  5.20  0.06  0.015\n",
              "2        15   232.5   7.75  6.45  0.06  0.015\n",
              "3        15   235.0   6.01  7.56  0.06  0.015\n",
              "4        15   237.5   4.75  8.78  0.06  0.015"
            ],
            "text/html": [
              "\n",
              "\n",
              "  <div id=\"df-673a3a2e-d2a7-42d1-acea-9341fe69d406\">\n",
              "    <div class=\"colab-df-container\">\n",
              "      <div>\n",
              "<style scoped>\n",
              "    .dataframe tbody tr th:only-of-type {\n",
              "        vertical-align: middle;\n",
              "    }\n",
              "\n",
              "    .dataframe tbody tr th {\n",
              "        vertical-align: top;\n",
              "    }\n",
              "\n",
              "    .dataframe thead th {\n",
              "        text-align: right;\n",
              "    }\n",
              "</style>\n",
              "<table border=\"1\" class=\"dataframe\">\n",
              "  <thead>\n",
              "    <tr style=\"text-align: right;\">\n",
              "      <th></th>\n",
              "      <th>Maturity</th>\n",
              "      <th>Strike</th>\n",
              "      <th>Call</th>\n",
              "      <th>Put</th>\n",
              "      <th>T</th>\n",
              "      <th>r</th>\n",
              "    </tr>\n",
              "  </thead>\n",
              "  <tbody>\n",
              "    <tr>\n",
              "      <th>0</th>\n",
              "      <td>15</td>\n",
              "      <td>227.5</td>\n",
              "      <td>10.52</td>\n",
              "      <td>4.32</td>\n",
              "      <td>0.06</td>\n",
              "      <td>0.015</td>\n",
              "    </tr>\n",
              "    <tr>\n",
              "      <th>1</th>\n",
              "      <td>15</td>\n",
              "      <td>230.0</td>\n",
              "      <td>10.05</td>\n",
              "      <td>5.20</td>\n",
              "      <td>0.06</td>\n",
              "      <td>0.015</td>\n",
              "    </tr>\n",
              "    <tr>\n",
              "      <th>2</th>\n",
              "      <td>15</td>\n",
              "      <td>232.5</td>\n",
              "      <td>7.75</td>\n",
              "      <td>6.45</td>\n",
              "      <td>0.06</td>\n",
              "      <td>0.015</td>\n",
              "    </tr>\n",
              "    <tr>\n",
              "      <th>3</th>\n",
              "      <td>15</td>\n",
              "      <td>235.0</td>\n",
              "      <td>6.01</td>\n",
              "      <td>7.56</td>\n",
              "      <td>0.06</td>\n",
              "      <td>0.015</td>\n",
              "    </tr>\n",
              "    <tr>\n",
              "      <th>4</th>\n",
              "      <td>15</td>\n",
              "      <td>237.5</td>\n",
              "      <td>4.75</td>\n",
              "      <td>8.78</td>\n",
              "      <td>0.06</td>\n",
              "      <td>0.015</td>\n",
              "    </tr>\n",
              "  </tbody>\n",
              "</table>\n",
              "</div>\n",
              "      <button class=\"colab-df-convert\" onclick=\"convertToInteractive('df-673a3a2e-d2a7-42d1-acea-9341fe69d406')\"\n",
              "              title=\"Convert this dataframe to an interactive table.\"\n",
              "              style=\"display:none;\">\n",
              "\n",
              "  <svg xmlns=\"http://www.w3.org/2000/svg\" height=\"24px\"viewBox=\"0 0 24 24\"\n",
              "       width=\"24px\">\n",
              "    <path d=\"M0 0h24v24H0V0z\" fill=\"none\"/>\n",
              "    <path d=\"M18.56 5.44l.94 2.06.94-2.06 2.06-.94-2.06-.94-.94-2.06-.94 2.06-2.06.94zm-11 1L8.5 8.5l.94-2.06 2.06-.94-2.06-.94L8.5 2.5l-.94 2.06-2.06.94zm10 10l.94 2.06.94-2.06 2.06-.94-2.06-.94-.94-2.06-.94 2.06-2.06.94z\"/><path d=\"M17.41 7.96l-1.37-1.37c-.4-.4-.92-.59-1.43-.59-.52 0-1.04.2-1.43.59L10.3 9.45l-7.72 7.72c-.78.78-.78 2.05 0 2.83L4 21.41c.39.39.9.59 1.41.59.51 0 1.02-.2 1.41-.59l7.78-7.78 2.81-2.81c.8-.78.8-2.07 0-2.86zM5.41 20L4 18.59l7.72-7.72 1.47 1.35L5.41 20z\"/>\n",
              "  </svg>\n",
              "      </button>\n",
              "\n",
              "\n",
              "\n",
              "    <div id=\"df-70a7558a-f40a-4b73-942b-54e888a74821\">\n",
              "      <button class=\"colab-df-quickchart\" onclick=\"quickchart('df-70a7558a-f40a-4b73-942b-54e888a74821')\"\n",
              "              title=\"Suggest charts.\"\n",
              "              style=\"display:none;\">\n",
              "\n",
              "<svg xmlns=\"http://www.w3.org/2000/svg\" height=\"24px\"viewBox=\"0 0 24 24\"\n",
              "     width=\"24px\">\n",
              "    <g>\n",
              "        <path d=\"M19 3H5c-1.1 0-2 .9-2 2v14c0 1.1.9 2 2 2h14c1.1 0 2-.9 2-2V5c0-1.1-.9-2-2-2zM9 17H7v-7h2v7zm4 0h-2V7h2v10zm4 0h-2v-4h2v4z\"/>\n",
              "    </g>\n",
              "</svg>\n",
              "      </button>\n",
              "    </div>\n",
              "\n",
              "<style>\n",
              "  .colab-df-quickchart {\n",
              "    background-color: #E8F0FE;\n",
              "    border: none;\n",
              "    border-radius: 50%;\n",
              "    cursor: pointer;\n",
              "    display: none;\n",
              "    fill: #1967D2;\n",
              "    height: 32px;\n",
              "    padding: 0 0 0 0;\n",
              "    width: 32px;\n",
              "  }\n",
              "\n",
              "  .colab-df-quickchart:hover {\n",
              "    background-color: #E2EBFA;\n",
              "    box-shadow: 0px 1px 2px rgba(60, 64, 67, 0.3), 0px 1px 3px 1px rgba(60, 64, 67, 0.15);\n",
              "    fill: #174EA6;\n",
              "  }\n",
              "\n",
              "  [theme=dark] .colab-df-quickchart {\n",
              "    background-color: #3B4455;\n",
              "    fill: #D2E3FC;\n",
              "  }\n",
              "\n",
              "  [theme=dark] .colab-df-quickchart:hover {\n",
              "    background-color: #434B5C;\n",
              "    box-shadow: 0px 1px 3px 1px rgba(0, 0, 0, 0.15);\n",
              "    filter: drop-shadow(0px 1px 2px rgba(0, 0, 0, 0.3));\n",
              "    fill: #FFFFFF;\n",
              "  }\n",
              "</style>\n",
              "\n",
              "    <script>\n",
              "      async function quickchart(key) {\n",
              "        const containerElement = document.querySelector('#' + key);\n",
              "        const charts = await google.colab.kernel.invokeFunction(\n",
              "            'suggestCharts', [key], {});\n",
              "      }\n",
              "    </script>\n",
              "\n",
              "      <script>\n",
              "\n",
              "function displayQuickchartButton(domScope) {\n",
              "  let quickchartButtonEl =\n",
              "    domScope.querySelector('#df-70a7558a-f40a-4b73-942b-54e888a74821 button.colab-df-quickchart');\n",
              "  quickchartButtonEl.style.display =\n",
              "    google.colab.kernel.accessAllowed ? 'block' : 'none';\n",
              "}\n",
              "\n",
              "        displayQuickchartButton(document);\n",
              "      </script>\n",
              "      <style>\n",
              "    .colab-df-container {\n",
              "      display:flex;\n",
              "      flex-wrap:wrap;\n",
              "      gap: 12px;\n",
              "    }\n",
              "\n",
              "    .colab-df-convert {\n",
              "      background-color: #E8F0FE;\n",
              "      border: none;\n",
              "      border-radius: 50%;\n",
              "      cursor: pointer;\n",
              "      display: none;\n",
              "      fill: #1967D2;\n",
              "      height: 32px;\n",
              "      padding: 0 0 0 0;\n",
              "      width: 32px;\n",
              "    }\n",
              "\n",
              "    .colab-df-convert:hover {\n",
              "      background-color: #E2EBFA;\n",
              "      box-shadow: 0px 1px 2px rgba(60, 64, 67, 0.3), 0px 1px 3px 1px rgba(60, 64, 67, 0.15);\n",
              "      fill: #174EA6;\n",
              "    }\n",
              "\n",
              "    [theme=dark] .colab-df-convert {\n",
              "      background-color: #3B4455;\n",
              "      fill: #D2E3FC;\n",
              "    }\n",
              "\n",
              "    [theme=dark] .colab-df-convert:hover {\n",
              "      background-color: #434B5C;\n",
              "      box-shadow: 0px 1px 3px 1px rgba(0, 0, 0, 0.15);\n",
              "      filter: drop-shadow(0px 1px 2px rgba(0, 0, 0, 0.3));\n",
              "      fill: #FFFFFF;\n",
              "    }\n",
              "  </style>\n",
              "\n",
              "      <script>\n",
              "        const buttonEl =\n",
              "          document.querySelector('#df-673a3a2e-d2a7-42d1-acea-9341fe69d406 button.colab-df-convert');\n",
              "        buttonEl.style.display =\n",
              "          google.colab.kernel.accessAllowed ? 'block' : 'none';\n",
              "\n",
              "        async function convertToInteractive(key) {\n",
              "          const element = document.querySelector('#df-673a3a2e-d2a7-42d1-acea-9341fe69d406');\n",
              "          const dataTable =\n",
              "            await google.colab.kernel.invokeFunction('convertToInteractive',\n",
              "                                                     [key], {});\n",
              "          if (!dataTable) return;\n",
              "\n",
              "          const docLinkHtml = 'Like what you see? Visit the ' +\n",
              "            '<a target=\"_blank\" href=https://colab.research.google.com/notebooks/data_table.ipynb>data table notebook</a>'\n",
              "            + ' to learn more about interactive tables.';\n",
              "          element.innerHTML = '';\n",
              "          dataTable['output_type'] = 'display_data';\n",
              "          await google.colab.output.renderOutput(dataTable, element);\n",
              "          const docLink = document.createElement('div');\n",
              "          docLink.innerHTML = docLinkHtml;\n",
              "          element.appendChild(docLink);\n",
              "        }\n",
              "      </script>\n",
              "    </div>\n",
              "  </div>\n"
            ]
          },
          "metadata": {},
          "execution_count": 216
        }
      ],
      "source": [
        "options_data.head(10) #Displaying the data set meeting the stipulated conditions"
      ]
    },
    {
      "cell_type": "markdown",
      "metadata": {
        "id": "lTXpJv8vdKJf"
      },
      "source": [
        "#### Model Calibration and Obtaining Parameter"
      ]
    },
    {
      "cell_type": "markdown",
      "metadata": {
        "id": "U3k8D4t8BxDu"
      },
      "source": [
        "Parameters will be"
      ]
    },
    {
      "cell_type": "code",
      "execution_count": null,
      "metadata": {
        "colab": {
          "base_uri": "https://localhost:8080/"
        },
        "id": "2m52QTOoC5kn",
        "outputId": "1f086895-ba92-423a-f3cc-9f53e9f859ba"
      },
      "outputs": [
        {
          "output_type": "stream",
          "name": "stdout",
          "text": [
            " 925 | [2.5  0.01 0.15 0.   0.03] |   9.597 |   0.345\n",
            " 950 | [ 2.5   0.02  0.25 -0.75  0.01] |  19.586 |   0.345\n",
            " 975 | [ 2.5   0.03  0.15 -0.75  0.02] |  13.034 |   0.345\n",
            "1000 | [ 2.5   0.04  0.05 -0.75  0.03] |   8.761 |   0.345\n",
            "1025 | [ 2.5   0.04  0.25 -0.5   0.01] |  18.465 |   0.345\n",
            "1050 | [ 7.5   0.01  0.15 -0.5   0.02] |  14.496 |   0.345\n",
            "1075 | [ 7.5   0.02  0.05 -0.5   0.03] |   9.755 |   0.345\n",
            "1100 | [ 7.5   0.02  0.25 -0.25  0.01] |  18.618 |   0.345\n",
            "1125 | [ 7.5   0.03  0.15 -0.25  0.02] |  12.445 |   0.345\n",
            "1150 | [ 7.5   0.04  0.05 -0.25  0.03] |   8.345 |   0.345\n",
            "1175 | [7.5  0.04 0.25 0.   0.01] |  15.925 |   0.345\n",
            "1200 | [ 7.60049628  0.05227639  0.12944609 -0.46553762  0.04475452] |   4.519 |   0.345\n",
            "1225 | [4.98724122 0.11167779 0.03577665 0.54074403 0.09441751] |   0.353 |   0.345\n",
            "1250 | [5.23466058 0.11086399 0.03517655 0.52485415 0.09258555] |   0.348 |   0.345\n",
            "1275 | [5.40271287 0.11499776 0.01702972 0.50740152 0.09088632] |   0.346 |   0.345\n",
            "1300 | [5.47832513e+00 1.19473193e-01 1.16237825e-03 5.12589047e-01\n",
            " 9.04198509e-02] |   0.345 |   0.345\n",
            "1325 | [5.52471879e+00 1.19730821e-01 8.51656312e-05 5.14454323e-01\n",
            " 9.02478988e-02] |   0.345 |   0.345\n",
            "1350 | [5.53701090e+00 1.19782377e-01 2.16880517e-06 5.16001432e-01\n",
            " 9.02382457e-02] |   0.345 |   0.345\n",
            "1375 | [5.53649575e+00 1.19774903e-01 3.72595427e-06 5.15792951e-01\n",
            " 9.02351077e-02] |   0.345 |   0.345\n",
            "1400 | [5.53532965e+00 1.19770256e-01 2.62724078e-06 5.15579821e-01\n",
            " 9.02334520e-02] |   0.345 |   0.345\n",
            "1425 | [5.53558813e+00 1.19771297e-01 2.75500671e-06 5.15626286e-01\n",
            " 9.02337789e-02] |   0.345 |   0.345\n",
            "1450 | [5.53557930e+00 1.19771352e-01 2.75639469e-06 5.15627188e-01\n",
            " 9.02338459e-02] |   0.345 |   0.345\n",
            "1475 | [5.53557817e+00 1.19771369e-01 2.75859308e-06 5.15627609e-01\n",
            " 9.02338641e-02] |   0.345 |   0.345\n",
            "1500 | [5.53557666e+00 1.19771362e-01 2.75775582e-06 5.15627293e-01\n",
            " 9.02338607e-02] |   0.345 |   0.345\n",
            "1525 | [5.53557621e+00 1.19771360e-01 2.75765664e-06 5.15627226e-01\n",
            " 9.02338606e-02] |   0.345 |   0.345\n",
            "1550 | [5.53557611e+00 1.19771360e-01 2.75760677e-06 5.15627209e-01\n",
            " 9.02338605e-02] |   0.345 |   0.345\n",
            "1575 | [5.53557610e+00 1.19771360e-01 2.75760524e-06 5.15627207e-01\n",
            " 9.02338605e-02] |   0.345 |   0.345\n",
            "1600 | [5.53557609e+00 1.19771360e-01 2.75760324e-06 5.15627206e-01\n",
            " 9.02338605e-02] |   0.345 |   0.345\n",
            "1625 | [5.53557609e+00 1.19771360e-01 2.75760336e-06 5.15627206e-01\n",
            " 9.02338605e-02] |   0.345 |   0.345\n",
            "1650 | [5.53557609e+00 1.19771360e-01 2.75760334e-06 5.15627206e-01\n",
            " 9.02338605e-02] |   0.345 |   0.345\n",
            "1675 | [5.53557609e+00 1.19771360e-01 2.75760333e-06 5.15627206e-01\n",
            " 9.02338605e-02] |   0.345 |   0.345\n",
            "1700 | [5.53557609e+00 1.19771360e-01 2.75760333e-06 5.15627206e-01\n",
            " 9.02338605e-02] |   0.345 |   0.345\n",
            "1725 | [5.53557609e+00 1.19771360e-01 2.75760333e-06 5.15627206e-01\n",
            " 9.02338605e-02] |   0.345 |   0.345\n",
            "1750 | [5.53557609e+00 1.19771360e-01 2.75760333e-06 5.15627206e-01\n",
            " 9.02338605e-02] |   0.345 |   0.345\n",
            "1775 | [5.53557609e+00 1.19771360e-01 2.75760333e-06 5.15627206e-01\n",
            " 9.02338605e-02] |   0.345 |   0.345\n",
            "1800 | [5.53557609e+00 1.19771360e-01 2.75760333e-06 5.15627206e-01\n",
            " 9.02338605e-02] |   0.345 |   0.345\n",
            "Optimization terminated successfully.\n",
            "         Current function value: 0.344546\n",
            "         Iterations: 301\n",
            "         Function evaluations: 670\n"
          ]
        }
      ],
      "source": [
        "# Optimization to the given dataset for the  calibration of the Heston model\n",
        "calibrated_params = H93_calibration_carr_madan_full()"
      ]
    },
    {
      "cell_type": "code",
      "execution_count": null,
      "metadata": {
        "colab": {
          "base_uri": "https://localhost:8080/"
        },
        "id": "pAEkWjCRFE5c",
        "outputId": "0aac71f8-49a7-4c38-87c4-11bb2a91bcda"
      },
      "outputs": [
        {
          "output_type": "stream",
          "name": "stdout",
          "text": [
            "Heston(1993) Model Parameters under Carr Madan 1999\n",
            "--------------------\n",
            "mean-reversion factor κᵥ = 5.535576092437131\n",
            "long-run mean of variance θᵥ = 0.11977135992073158\n",
            "volatility of variance σᵥ = 2.757603326262676e-06\n",
            "correlation between variance and stock/index level ρ  = 0.515627205882661\n",
            "initial, instantaneous variance υᵥ = 0.09023386045689327\n",
            "--------------------\n"
          ]
        }
      ],
      "source": [
        "# Print the calibrated Heston model parameters\n",
        "kappa_v, theta_v, sigma_v, rho, v0 = calibrated_params\n",
        "\n",
        "#Outputing the parameters from the previous calibration process\n",
        "print(\"Heston(1993) Model Parameters under Carr Madan 1999\")\n",
        "print(\"--------------------\")\n",
        "print(\"mean-reversion factor \\u03BA\\u1D65 = {}\".format(kappa_v))\n",
        "print(\"long-run mean of variance \\u03B8\\u1D65 = {}\".format(theta_v))\n",
        "print(\"volatility of variance \\u03C3\\u1D65 = {}\".format(sigma_v))\n",
        "print(\"correlation between variance and stock/index level \\u03C1  = {}\".format(rho))\n",
        "print(\"initial, instantaneous variance \\u03C5\\u1D65 = {}\".format(v0))\n",
        "print(\"--------------------\")"
      ]
    },
    {
      "cell_type": "markdown",
      "metadata": {
        "id": "LhuCQUxZdR7M"
      },
      "source": [
        "#### Visualizing Model Fit"
      ]
    },
    {
      "cell_type": "code",
      "execution_count": null,
      "metadata": {
        "colab": {
          "base_uri": "https://localhost:8080/",
          "height": 564
        },
        "id": "TwQolJ_Cnl-L",
        "outputId": "2f2a7a4e-e1d0-4444-e8e6-a122669c1579"
      },
      "outputs": [
        {
          "output_type": "display_data",
          "data": {
            "text/plain": [
              "<Figure size 1000x600 with 1 Axes>"
            ],
            "image/png": "[encoded data removed]"
          },
          "metadata": {}
        }
      ],
      "source": [
        "options_viz = options_data.copy()\n",
        "generate_plot_HESTON_Lewis(options_viz)"
      ]
    },
    {
      "cell_type": "markdown",
      "metadata": {
        "id": "LXIaYNBeohWl"
      },
      "source": [
        "**Insight:** Lewis 2001 approach seems to show better model fit than the Carr-madan approach, however Carr-madan is significantly faster."
      ]
    },
    {
      "cell_type": "markdown",
      "metadata": {
        "id": "6fPxL8bFVzAg"
      },
      "source": [
        "### c. Pricing Asian ATM Call Option Using Parameters Obtained"
      ]
    },
    {
      "cell_type": "markdown",
      "metadata": {
        "id": "X9-EKpzbqxjr"
      },
      "source": [
        "Here, we will be using the option pricer class in the helper functions and Classes sub-section but will pick obtained from the calibration.\n",
        "\n",
        "We will use parameter estimate from the Lewis(2001) to generate the price for the Asian option due to the obvious better fit of the model"
      ]
    },
    {
      "cell_type": "code",
      "source": [
        "# Example usage:\n",
        "S0 = 232.90  # Current stock price\n",
        "K = 232.90  # Strike price (ATM option)\n",
        "T = 20/num_days_year  # Days to Time to maturity (in years)\n",
        "r = 0.015  # Constant annual risk-free rate (1.5%)\n",
        "\n",
        "# best model parameters\n",
        "kappa, theta, sigma, rho, v0 = params\n",
        "\n",
        "num_paths = 100000  # Number of Monte Carlo paths\n",
        "num_steps = num_days_year  # Number of time steps (daily simulation for 1 year)\n",
        "\n",
        "asian_call_price = asian_option_price(S0, K, T, r, kappa, theta, sigma, rho, v0, num_paths, num_steps)\n",
        "print(\"Asian Call Fair Price:$\", round(asian_call_price,2))"
      ],
      "metadata": {
        "colab": {
          "base_uri": "https://localhost:8080/"
        },
        "id": "uFQRv2A4nOPZ",
        "outputId": "0684eb1a-e3b7-4586-a0a0-229482e35906"
      },
      "execution_count": null,
      "outputs": [
        {
          "output_type": "stream",
          "name": "stdout",
          "text": [
            "Asian Call Fair Price:$ 4.7\n"
          ]
        }
      ]
    },
    {
      "cell_type": "code",
      "execution_count": null,
      "metadata": {
        "id": "GabijSqwyZGJ"
      },
      "outputs": [],
      "source": [
        "fee_percentage = 0.04  # 4% fee charged by the bank\n",
        "final_price = asian_call_price * (1 + fee_percentage)"
      ]
    },
    {
      "cell_type": "markdown",
      "metadata": {
        "id": "BCUfMnTjy081"
      },
      "source": [
        "Final fee to be paid by client after allowance for transaction cost"
      ]
    },
    {
      "cell_type": "code",
      "execution_count": null,
      "metadata": {
        "colab": {
          "base_uri": "https://localhost:8080/"
        },
        "id": "lN57Ez73y6Cf",
        "outputId": "25d355b4-d6ca-414d-8e9e-5fffd160a9dd"
      },
      "outputs": [
        {
          "output_type": "stream",
          "name": "stdout",
          "text": [
            "Fair Price of Asian ATM Call Option (20 days maturity):$ 4.89\n"
          ]
        }
      ],
      "source": [
        "# Print the fair price\n",
        "print(\"Fair Price of Asian ATM Call Option (20 days maturity):$\", round(final_price, 2))"
      ]
    },
    {
      "cell_type": "markdown",
      "metadata": {
        "id": "l1byG34dzTvZ"
      },
      "source": [
        "**Detailed Brief For Client**"
      ]
    },
    {
      "cell_type": "markdown",
      "metadata": {
        "id": "5BzlhXDHzX3l"
      },
      "source": [
        "The following steps were followed in pricing an Asian call option using the Heston model and Monte Carlo simulation, including calibration procedures and important choices:\n",
        "\n",
        "**Step 1.** Heston Model Calibration: -\n",
        "The Heston model is a computational finance model that is useful for describing stock price movements and volatility over time.\n",
        "- The model includes several elements that influence stock price and volatility behavior (kappa, theta, sigma, rho, v0).\n",
        "- The Heston model parameters must be calibrated to fit the observed market pricing of options in order to properly price the Asian call option.\n",
        "- Calibration is the process of changing model parameters in order to lessen the discrepancy between model and observed market prices.\n",
        "- In this case, the Lewis (2001) procedure, which is a commonly used technique for Heston model calibration, was used.\n",
        "\n",
        "**Step 2.** Monte Carlo Simulation for Pricing: -\n",
        "Monte Carlo simulation is a computational technique for determining the value of financial instruments that simulates a huge number of random scenarios.\n",
        "- In the context of pricing the Asian call option, Monte Carlo simulation is utilized to simulate the stock price and volatility trajectories based on the calibrated Heston model. To imitate stock price and volatility variations, the simulation generates associated random variables at random.\n",
        "- By simulating a large number of routes and estimating the average value of the Asian option and discounting it to the present value, we can calculate the option price.\n",
        "\n",
        "**Step 3.** Payoff Considerations: -\n",
        "The Asian call option: Rather than the final price, the payout of an Asian option is decided by the average price of the underlying asset over a specific time period.\n",
        "- Calibration method selection: The Lewis (2001) approach was used to calibrate the Heston model to observed market prices for options. This approach is extensively used and provides a close match to market values.\n",
        "- Choosing simulation parameters: The number of Monte Carlo runs was adjusted at 100,000 to provide a fair trade-off between accuracy and computing efficiency. More simulations can be run to improve accuracy, but the computation time increases.\n",
        "- Option for fee inclusion: A 4% surcharge has been levied on\n",
        "\n",
        "This process discussed above aids in estimating the price of an Asian call option using the Heston model and observed market prices. The calibration stage ensures that the model is market-aware, and the Monte Carlo simulation provides a reliable estimate by considering many scenarios.\n"
      ]
    },
    {
      "cell_type": "markdown",
      "metadata": {
        "id": "274U31o3UOzB"
      },
      "source": [
        "## Step 2 -"
      ]
    },
    {
      "cell_type": "markdown",
      "metadata": {
        "id": "uB5jU9Nq02Hk"
      },
      "source": [
        "### a. Bates(1996) Calibration with Lewis(2001)"
      ]
    },
    {
      "cell_type": "markdown",
      "source": [
        "The Bates (1996) model extends the Heston model by incorporating jumps to account for abrupt and discontinuous changes in asset prices. The Bates model is calibrated by determining the ideal values for its parameters so that the model can reliably capture market pricing for options and other derivatives.\n",
        "\n",
        "An overview of the Bates (1996) calibration process is as follows:\n",
        "\n",
        "**Step 1.** Select Input Data: Gather historical market data, including option prices, underlying asset prices, risk-free rates, and time to maturity.\n",
        "\n",
        "**Step 2.** Define Model Formulation: The Bates model includes several parameters that need to be calibrated. The model consists of the Heston model parameters (kappa, theta, sigma, rho, and v0) for stochastic volatility and additional parameters (lambda, delta, and gamma) for jumps. These parameters influence the dynamics of the underlying asset and its volatility, as well as the frequency and magnitude of jumps.\n",
        "\n",
        "**Step 3.** Objective Function: Define an objective function that measures the difference between the market prices and the prices generated by the Bates model. A common objective function used in calibration is the mean squared error (MSE), which quantifies the overall accuracy of the model compared to the market data.\n",
        "\n",
        "**Step 4.** Optimization: Use an optimization algorithm to minimize the objective function and find the optimal values for the model parameters.\n",
        "\n",
        "**Step 5.** Calibration Procedure: an optimization algorithm is implemented over historical option prices and underlying asset data to find the optimal parameter values that best fit the market data.\n",
        "\n",
        "**Step 6.** Model Validation: Following model calibration, we validate model performance by comparing model-generated option prices to new market data by visually comparing the model predict price and actual market price.\n"
      ],
      "metadata": {
        "id": "XiBZ3dlqOYPw"
      }
    },
    {
      "cell_type": "markdown",
      "source": [
        "Generally, Bates Characteristic function is given by the following expression:\n",
        "\n",
        "\n",
        "Bates =  Heston * Merton(minus stochastic volatility component)\n",
        "\n",
        "Which is simply the product of the Heston and adjust merton characteristics functions shown below.\n",
        "\n",
        "Call Price determination under Lewis(2001) will be defined by the expression below -\n",
        "\n",
        "$$\n",
        "\\begin{equation*}\n",
        "    C_0 = S_0 - \\frac{\\sqrt{S_0 K} e^{-rT}}{\\pi} \\int_{0}^{\\infty} \\mathbf{Re}[e^{izk} \\varphi^{B96}(z-i/2)] \\frac{dz}{z^2+1/4}\n",
        "\\end{equation*}\n",
        "$$\n",
        "\n",
        "\n",
        "where $\\varphi^{B96}( )$ is the characteristic function of the model. In this case, the characteristic function of Bates (1996) was given by:\n",
        "\n",
        "$$\n",
        "\\begin{equation*}\n",
        "        \\varphi^{B96}_0 (u, T) = \\varphi^{H93}_0 \\varphi^{M76J}_0 (u, T)\n",
        "\\end{equation*}\n",
        "$$\n",
        "\n",
        "The characteristic function Heston (1993):\n",
        "\n",
        "$$\n",
        "\\\n",
        "\\begin{equation*}\n",
        "  \\varphi^{H93} (u, T) = e^{H_1(u, T)+H_2(u,T)\\nu_0}\n",
        "\\end{equation*}\n",
        "$$\n",
        "\\\n",
        "where\n",
        "$$\n",
        "\\\n",
        "\\begin{equation*}\n",
        "  H_1 (u, T) \\equiv r_0 uiT + \\frac{c_1}{\\sigma_\\nu^2}\\Biggl\\{ (\\kappa_\\nu - \\rho \\sigma_\\nu ui+c_2) T - 2 log \\left[ \\frac{1-c_3e^{c_2T}}{1-c_3} \\right] \\Biggl\\}\n",
        "\\end{equation*}\n",
        "$$\n",
        "$$\n",
        "\\\n",
        "\\begin{equation*}\n",
        "  H_2 (u, T) \\equiv \\frac{\\kappa_\\nu - \\rho \\sigma_\\nu ui + c_2}{\\sigma_\\nu^2} \\left[ \\frac{1-e^{c_2T}}{1-c_3e^{c_2T}} \\right]\n",
        "\\end{equation*}\n",
        "$$\n",
        "$$\n",
        "\\\n",
        "\\begin{equation*}\n",
        "  c_1 \\equiv \\kappa_\\nu \\theta_\\nu\n",
        "\\end{equation*}\n",
        "$$\n",
        "$$\n",
        "\\\n",
        "\\begin{equation*}\n",
        "  c_2 \\equiv - \\sqrt{(\\rho \\sigma_\\nu ui - \\kappa_\\nu)^2 - \\sigma_\\nu^2(-ui-u^2) }\n",
        "\\end{equation*}\n",
        "$$\n",
        "$$\n",
        "\\\n",
        "\\begin{equation*}\n",
        "  c_3 \\equiv \\frac{\\kappa_\\nu - \\rho \\sigma_\\nu ui + c_2}{\\kappa_\\nu - \\rho \\sigma_\\nu ui - c_2}\n",
        "\\end{equation*}\n",
        "$$\n",
        "\n",
        "And, for the adjusted(only jump) Merton(1976) Characteristic function:\n",
        "$$\n",
        "\\\n",
        "\\begin{equation*}\n",
        "    \\varphi^{M76J}_0 (u, T) = e^{\\left( \\left( i u \\omega + \\lambda ( e^{i u \\mu_j - u^2 \\delta^2/2}-1) \\right) T \\right)}\n",
        "\\end{equation*}\n",
        "$$\n",
        "\n",
        "where,\n",
        "$$\n",
        "\\\n",
        "\\begin{equation*}\n",
        "    \\omega = - \\lambda \\left( e^{\\mu_j + \\delta^2/2}-1 \\right)\n",
        "\\end{equation*}\n",
        "$$\n",
        "\n",
        "\n"
      ],
      "metadata": {
        "id": "UsycWlPKmp7q"
      }
    },
    {
      "cell_type": "markdown",
      "source": [
        "#### Data Preparation for Model Calibration - 60 Day Maturity"
      ],
      "metadata": {
        "id": "cTF7SBmlo54-"
      }
    },
    {
      "cell_type": "code",
      "source": [
        "#Allowing for short maturity\n",
        "maturity = 60 #short maturity for her derivative(around 15 days)\n",
        "\n",
        "options_data = options_df[options_df['Maturity'] == maturity]\n",
        "options_df.shape, options_data.shape"
      ],
      "metadata": {
        "colab": {
          "base_uri": "https://localhost:8080/"
        },
        "id": "SOpFPUyEp4ZK",
        "outputId": "81d3d61a-1e5b-4fbf-ce93-16f626deedcf"
      },
      "execution_count": null,
      "outputs": [
        {
          "output_type": "execute_result",
          "data": {
            "text/plain": [
              "((15, 6), (5, 6))"
            ]
          },
          "metadata": {},
          "execution_count": 223
        }
      ]
    },
    {
      "cell_type": "code",
      "source": [
        "options_data.head(10) #Displaying the data set meeting the stipulated conditions"
      ],
      "metadata": {
        "colab": {
          "base_uri": "https://localhost:8080/",
          "height": 206
        },
        "id": "v9Z6_GUUqBKC",
        "outputId": "ddc4e1d9-f498-4efc-a8ba-5a15e4e51f13"
      },
      "execution_count": null,
      "outputs": [
        {
          "output_type": "execute_result",
          "data": {
            "text/plain": [
              "   Maturity  Strike   Call    Put     T      r\n",
              "5        60   227.5  16.78  11.03  0.24  0.015\n",
              "6        60   230.0  17.65  12.15  0.24  0.015\n",
              "7        60   232.5  16.86  13.37  0.24  0.015\n",
              "8        60   235.0  16.05  14.75  0.24  0.015\n",
              "9        60   237.5  15.10  15.62  0.24  0.015"
            ],
            "text/html": [
              "\n",
              "\n",
              "  <div id=\"df-5e0bb2f2-47ed-4f5d-8db2-a3d5d84c55a7\">\n",
              "    <div class=\"colab-df-container\">\n",
              "      <div>\n",
              "<style scoped>\n",
              "    .dataframe tbody tr th:only-of-type {\n",
              "        vertical-align: middle;\n",
              "    }\n",
              "\n",
              "    .dataframe tbody tr th {\n",
              "        vertical-align: top;\n",
              "    }\n",
              "\n",
              "    .dataframe thead th {\n",
              "        text-align: right;\n",
              "    }\n",
              "</style>\n",
              "<table border=\"1\" class=\"dataframe\">\n",
              "  <thead>\n",
              "    <tr style=\"text-align: right;\">\n",
              "      <th></th>\n",
              "      <th>Maturity</th>\n",
              "      <th>Strike</th>\n",
              "      <th>Call</th>\n",
              "      <th>Put</th>\n",
              "      <th>T</th>\n",
              "      <th>r</th>\n",
              "    </tr>\n",
              "  </thead>\n",
              "  <tbody>\n",
              "    <tr>\n",
              "      <th>5</th>\n",
              "      <td>60</td>\n",
              "      <td>227.5</td>\n",
              "      <td>16.78</td>\n",
              "      <td>11.03</td>\n",
              "      <td>0.24</td>\n",
              "      <td>0.015</td>\n",
              "    </tr>\n",
              "    <tr>\n",
              "      <th>6</th>\n",
              "      <td>60</td>\n",
              "      <td>230.0</td>\n",
              "      <td>17.65</td>\n",
              "      <td>12.15</td>\n",
              "      <td>0.24</td>\n",
              "      <td>0.015</td>\n",
              "    </tr>\n",
              "    <tr>\n",
              "      <th>7</th>\n",
              "      <td>60</td>\n",
              "      <td>232.5</td>\n",
              "      <td>16.86</td>\n",
              "      <td>13.37</td>\n",
              "      <td>0.24</td>\n",
              "      <td>0.015</td>\n",
              "    </tr>\n",
              "    <tr>\n",
              "      <th>8</th>\n",
              "      <td>60</td>\n",
              "      <td>235.0</td>\n",
              "      <td>16.05</td>\n",
              "      <td>14.75</td>\n",
              "      <td>0.24</td>\n",
              "      <td>0.015</td>\n",
              "    </tr>\n",
              "    <tr>\n",
              "      <th>9</th>\n",
              "      <td>60</td>\n",
              "      <td>237.5</td>\n",
              "      <td>15.10</td>\n",
              "      <td>15.62</td>\n",
              "      <td>0.24</td>\n",
              "      <td>0.015</td>\n",
              "    </tr>\n",
              "  </tbody>\n",
              "</table>\n",
              "</div>\n",
              "      <button class=\"colab-df-convert\" onclick=\"convertToInteractive('df-5e0bb2f2-47ed-4f5d-8db2-a3d5d84c55a7')\"\n",
              "              title=\"Convert this dataframe to an interactive table.\"\n",
              "              style=\"display:none;\">\n",
              "\n",
              "  <svg xmlns=\"http://www.w3.org/2000/svg\" height=\"24px\"viewBox=\"0 0 24 24\"\n",
              "       width=\"24px\">\n",
              "    <path d=\"M0 0h24v24H0V0z\" fill=\"none\"/>\n",
              "    <path d=\"M18.56 5.44l.94 2.06.94-2.06 2.06-.94-2.06-.94-.94-2.06-.94 2.06-2.06.94zm-11 1L8.5 8.5l.94-2.06 2.06-.94-2.06-.94L8.5 2.5l-.94 2.06-2.06.94zm10 10l.94 2.06.94-2.06 2.06-.94-2.06-.94-.94-2.06-.94 2.06-2.06.94z\"/><path d=\"M17.41 7.96l-1.37-1.37c-.4-.4-.92-.59-1.43-.59-.52 0-1.04.2-1.43.59L10.3 9.45l-7.72 7.72c-.78.78-.78 2.05 0 2.83L4 21.41c.39.39.9.59 1.41.59.51 0 1.02-.2 1.41-.59l7.78-7.78 2.81-2.81c.8-.78.8-2.07 0-2.86zM5.41 20L4 18.59l7.72-7.72 1.47 1.35L5.41 20z\"/>\n",
              "  </svg>\n",
              "      </button>\n",
              "\n",
              "\n",
              "\n",
              "    <div id=\"df-c8dc8245-f278-4627-937c-1ca143aa9083\">\n",
              "      <button class=\"colab-df-quickchart\" onclick=\"quickchart('df-c8dc8245-f278-4627-937c-1ca143aa9083')\"\n",
              "              title=\"Suggest charts.\"\n",
              "              style=\"display:none;\">\n",
              "\n",
              "<svg xmlns=\"http://www.w3.org/2000/svg\" height=\"24px\"viewBox=\"0 0 24 24\"\n",
              "     width=\"24px\">\n",
              "    <g>\n",
              "        <path d=\"M19 3H5c-1.1 0-2 .9-2 2v14c0 1.1.9 2 2 2h14c1.1 0 2-.9 2-2V5c0-1.1-.9-2-2-2zM9 17H7v-7h2v7zm4 0h-2V7h2v10zm4 0h-2v-4h2v4z\"/>\n",
              "    </g>\n",
              "</svg>\n",
              "      </button>\n",
              "    </div>\n",
              "\n",
              "<style>\n",
              "  .colab-df-quickchart {\n",
              "    background-color: #E8F0FE;\n",
              "    border: none;\n",
              "    border-radius: 50%;\n",
              "    cursor: pointer;\n",
              "    display: none;\n",
              "    fill: #1967D2;\n",
              "    height: 32px;\n",
              "    padding: 0 0 0 0;\n",
              "    width: 32px;\n",
              "  }\n",
              "\n",
              "  .colab-df-quickchart:hover {\n",
              "    background-color: #E2EBFA;\n",
              "    box-shadow: 0px 1px 2px rgba(60, 64, 67, 0.3), 0px 1px 3px 1px rgba(60, 64, 67, 0.15);\n",
              "    fill: #174EA6;\n",
              "  }\n",
              "\n",
              "  [theme=dark] .colab-df-quickchart {\n",
              "    background-color: #3B4455;\n",
              "    fill: #D2E3FC;\n",
              "  }\n",
              "\n",
              "  [theme=dark] .colab-df-quickchart:hover {\n",
              "    background-color: #434B5C;\n",
              "    box-shadow: 0px 1px 3px 1px rgba(0, 0, 0, 0.15);\n",
              "    filter: drop-shadow(0px 1px 2px rgba(0, 0, 0, 0.3));\n",
              "    fill: #FFFFFF;\n",
              "  }\n",
              "</style>\n",
              "\n",
              "    <script>\n",
              "      async function quickchart(key) {\n",
              "        const containerElement = document.querySelector('#' + key);\n",
              "        const charts = await google.colab.kernel.invokeFunction(\n",
              "            'suggestCharts', [key], {});\n",
              "      }\n",
              "    </script>\n",
              "\n",
              "      <script>\n",
              "\n",
              "function displayQuickchartButton(domScope) {\n",
              "  let quickchartButtonEl =\n",
              "    domScope.querySelector('#df-c8dc8245-f278-4627-937c-1ca143aa9083 button.colab-df-quickchart');\n",
              "  quickchartButtonEl.style.display =\n",
              "    google.colab.kernel.accessAllowed ? 'block' : 'none';\n",
              "}\n",
              "\n",
              "        displayQuickchartButton(document);\n",
              "      </script>\n",
              "      <style>\n",
              "    .colab-df-container {\n",
              "      display:flex;\n",
              "      flex-wrap:wrap;\n",
              "      gap: 12px;\n",
              "    }\n",
              "\n",
              "    .colab-df-convert {\n",
              "      background-color: #E8F0FE;\n",
              "      border: none;\n",
              "      border-radius: 50%;\n",
              "      cursor: pointer;\n",
              "      display: none;\n",
              "      fill: #1967D2;\n",
              "      height: 32px;\n",
              "      padding: 0 0 0 0;\n",
              "      width: 32px;\n",
              "    }\n",
              "\n",
              "    .colab-df-convert:hover {\n",
              "      background-color: #E2EBFA;\n",
              "      box-shadow: 0px 1px 2px rgba(60, 64, 67, 0.3), 0px 1px 3px 1px rgba(60, 64, 67, 0.15);\n",
              "      fill: #174EA6;\n",
              "    }\n",
              "\n",
              "    [theme=dark] .colab-df-convert {\n",
              "      background-color: #3B4455;\n",
              "      fill: #D2E3FC;\n",
              "    }\n",
              "\n",
              "    [theme=dark] .colab-df-convert:hover {\n",
              "      background-color: #434B5C;\n",
              "      box-shadow: 0px 1px 3px 1px rgba(0, 0, 0, 0.15);\n",
              "      filter: drop-shadow(0px 1px 2px rgba(0, 0, 0, 0.3));\n",
              "      fill: #FFFFFF;\n",
              "    }\n",
              "  </style>\n",
              "\n",
              "      <script>\n",
              "        const buttonEl =\n",
              "          document.querySelector('#df-5e0bb2f2-47ed-4f5d-8db2-a3d5d84c55a7 button.colab-df-convert');\n",
              "        buttonEl.style.display =\n",
              "          google.colab.kernel.accessAllowed ? 'block' : 'none';\n",
              "\n",
              "        async function convertToInteractive(key) {\n",
              "          const element = document.querySelector('#df-5e0bb2f2-47ed-4f5d-8db2-a3d5d84c55a7');\n",
              "          const dataTable =\n",
              "            await google.colab.kernel.invokeFunction('convertToInteractive',\n",
              "                                                     [key], {});\n",
              "          if (!dataTable) return;\n",
              "\n",
              "          const docLinkHtml = 'Like what you see? Visit the ' +\n",
              "            '<a target=\"_blank\" href=https://colab.research.google.com/notebooks/data_table.ipynb>data table notebook</a>'\n",
              "            + ' to learn more about interactive tables.';\n",
              "          element.innerHTML = '';\n",
              "          dataTable['output_type'] = 'display_data';\n",
              "          await google.colab.output.renderOutput(dataTable, element);\n",
              "          const docLink = document.createElement('div');\n",
              "          docLink.innerHTML = docLinkHtml;\n",
              "          element.appendChild(docLink);\n",
              "        }\n",
              "      </script>\n",
              "    </div>\n",
              "  </div>\n"
            ]
          },
          "metadata": {},
          "execution_count": 224
        }
      ]
    },
    {
      "cell_type": "markdown",
      "source": [
        "#### Model Calibration and Obtaining Parameters"
      ],
      "metadata": {
        "id": "aPFgGJgxqJM2"
      }
    },
    {
      "cell_type": "markdown",
      "source": [
        "Important - this step requires that the Heston Calibration should have been completed, thus we will use the Heston parameters obtained earlier. Generally we follow these sequence of steps\n",
        "\n",
        "1. Obtain parameters for Hestons Stochastic volatility\n",
        "2. Obtain parameters for Bates Short Calibration for Jump Component\n",
        "3. Perform full model calibration with all parameters to obtain final model parameters"
      ],
      "metadata": {
        "id": "qj0xhSV4vxwH"
      }
    },
    {
      "cell_type": "code",
      "source": [
        "#Step 1/3 - Stochastic Volatility Components Parameters\n",
        "params_heston = H93_calibration_full()"
      ],
      "metadata": {
        "colab": {
          "base_uri": "https://localhost:8080/"
        },
        "id": "t9wt8eWD1DMo",
        "outputId": "504d8ef5-ff69-4f75-ba90-c0d778b7f21d"
      },
      "execution_count": null,
      "outputs": [
        {
          "output_type": "stream",
          "name": "stdout",
          "text": [
            "1825 | [2.5  0.01 0.15 0.   0.01] | 106.091 |   0.345\n",
            "1850 | [2.5  0.02 0.15 0.   0.02] |  72.075 |   0.345\n",
            "1875 | [2.5  0.03 0.05 0.   0.03] |  49.802 |   0.345\n",
            "1900 | [ 2.5   0.04  0.05 -0.75  0.01] |  78.425 |   0.345\n",
            "1925 | [ 2.5   0.04  0.25 -0.75  0.02] |  61.079 |   0.345\n",
            "1950 | [ 7.5   0.01  0.15 -0.75  0.03] |  73.604 |   0.345\n",
            "1975 | [ 7.5   0.02  0.05 -0.5   0.01] |  84.810 |   0.345\n",
            "2000 | [ 7.5   0.02  0.25 -0.5   0.02] |  72.257 |   0.345\n",
            "2025 | [ 7.5   0.03  0.15 -0.5   0.03] |  49.997 |   0.345\n",
            "2050 | [ 7.5   0.04  0.05 -0.25  0.01] |  57.264 |   0.345\n",
            "2075 | [ 7.5   0.04  0.25 -0.25  0.02] |  49.066 |   0.345\n",
            "2100 | [ 8.62206474e+00  5.44096125e-02  4.13582746e-02 -4.51791078e-04\n",
            "  3.31947934e-02] |  28.119 |   0.345\n",
            "2125 | [ 1.44948412e+01  1.42928007e-01  2.95583269e-04 -6.31056236e-03\n",
            "  4.66970622e-02] |   1.877 |   0.345\n",
            "2150 | [ 1.38907187e+01  1.32452113e-01  4.17431669e-03 -5.33732184e-03\n",
            "  4.46079574e-02] |   1.539 |   0.345\n",
            "2175 | [ 1.39311400e+01  1.33056220e-01  3.19723463e-03 -5.25453956e-03\n",
            "  4.45094080e-02] |   1.538 |   0.345\n",
            "2200 | [ 1.39198680e+01  1.33017136e-01  3.34721057e-03 -5.28301539e-03\n",
            "  4.46149930e-02] |   1.538 |   0.345\n",
            "2225 | [ 1.39576339e+01  1.33056980e-01  2.91735631e-03 -5.18835922e-03\n",
            "  4.42482454e-02] |   1.538 |   0.345\n",
            "2250 | [ 1.41517110e+01  1.33385928e-01  6.33032753e-04 -4.70660238e-03\n",
            "  4.23550348e-02] |   1.538 |   0.345\n",
            "2275 | [ 1.42011320e+01  1.33463378e-01  6.17592659e-05 -4.58518296e-03\n",
            "  4.18774445e-02] |   1.538 |   0.345\n",
            "2300 | [ 1.42054750e+01  1.33469713e-01  1.09303680e-05 -4.57431750e-03\n",
            "  4.18351259e-02] |   1.538 |   0.345\n",
            "2325 | [ 1.42050412e+01  1.33469088e-01  1.53152181e-05 -4.57525511e-03\n",
            "  4.18390256e-02] |   1.538 |   0.345\n",
            "2350 | [ 1.42050270e+01  1.33469078e-01  1.55584529e-05 -4.57530910e-03\n",
            "  4.18392050e-02] |   1.538 |   0.345\n",
            "2375 | [ 1.42050326e+01  1.33469088e-01  1.54776621e-05 -4.57529215e-03\n",
            "  4.18391446e-02] |   1.538 |   0.345\n",
            "2400 | [ 1.42050309e+01  1.33469086e-01  1.54963791e-05 -4.57529620e-03\n",
            "  4.18391604e-02] |   1.538 |   0.345\n",
            "2425 | [ 1.42050310e+01  1.33469086e-01  1.54943979e-05 -4.57529578e-03\n",
            "  4.18391591e-02] |   1.538 |   0.345\n",
            "2450 | [ 1.42050310e+01  1.33469086e-01  1.54944922e-05 -4.57529580e-03\n",
            "  4.18391593e-02] |   1.538 |   0.345\n",
            "Optimization terminated successfully.\n",
            "         Current function value: 1.538424\n",
            "         Iterations: 190\n",
            "         Function evaluations: 416\n"
          ]
        }
      ]
    },
    {
      "cell_type": "code",
      "source": [
        "#Step 2/3\n",
        "params_bates_short = B96_calibration_short()"
      ],
      "metadata": {
        "colab": {
          "base_uri": "https://localhost:8080/"
        },
        "id": "F5JOu0VjyqII",
        "outputId": "e435fb15-5d78-4906-ffbe-b15c2bf7aa69"
      },
      "execution_count": null,
      "outputs": [
        {
          "output_type": "stream",
          "name": "stdout",
          "text": [
            "2475 | [ 0.  -0.4  0.5] |   1.617 |   0.345\n",
            "2500 | [ 0.2 -0.3  0. ] |   1.913 |   0.345\n",
            "2525 | [ 0.4  -0.3   0.25] |   4.612 |   0.345\n",
            "2550 | [ 0.105 -0.21   0.   ] |   1.547 |   0.345\n",
            "2575 | [ 0.15394368 -0.17119859  0.0010048 ] |   1.546 |   0.345\n",
            "2600 | [ 0.20024023 -0.14188923  0.00255072] |   1.545 |   0.345\n",
            "2625 | [ 0.35458779 -0.11084673  0.00980713] |   1.543 |   0.345\n",
            "2650 | [ 0.60584896 -0.07975054  0.02128769] |   1.542 |   0.345\n",
            "2675 | [ 1.08198323 -0.04750225  0.04005454] |   1.542 |   0.345\n",
            "2700 | [ 1.38628798 -0.02613281  0.05074018] |   1.542 |   0.345\n",
            "2725 | [ 1.40741659e+00 -9.34390300e-04  5.42607781e-02] |   1.538 |   0.345\n",
            "2750 | [ 1.40289739e+00 -3.34640092e-05  5.43883271e-02] |   1.538 |   0.345\n",
            "2775 | [ 1.40407967e+00 -3.62891616e-08  5.44114566e-02] |   1.538 |   0.345\n",
            "2800 | [ 1.40426014e+00 -4.60158776e-09  5.44161308e-02] |   1.538 |   0.345\n",
            "2825 | [ 1.40434892e+00 -3.03146323e-10  5.44194887e-02] |   1.538 |   0.345\n",
            "2850 | [ 1.39668588e+00 -1.70498346e-07  5.45190690e-02] |   1.538 |   0.345\n",
            "2875 | [ 1.31277122e+00 -2.80754221e-06  5.62038222e-02] |   1.538 |   0.345\n",
            "2900 | [ 1.10702844e+00 -1.05607735e-05  6.12321566e-02] |   1.538 |   0.345\n",
            "2925 | [ 8.36328370e-01 -2.54228452e-05  7.12669156e-02] |   1.538 |   0.345\n",
            "2950 | [ 6.24942357e-01 -4.16891651e-05  8.25211192e-02] |   1.538 |   0.345\n",
            "2975 | [ 5.02971422e-01 -5.72273703e-05  9.33052993e-02] |   1.538 |   0.345\n",
            "3000 | [ 4.01392115e-01 -7.33524078e-05  1.04505204e-01] |   1.538 |   0.345\n",
            "3025 | [ 3.12984336e-01 -9.83013722e-05  1.21800252e-01] |   1.538 |   0.345\n",
            "3050 | [ 2.25380550e-01 -1.32469135e-04  1.45447060e-01] |   1.538 |   0.345\n",
            "3075 | [ 0.15065622 -0.00018586  0.18231127] |   1.537 |   0.345\n",
            "3100 | [ 0.08563683 -0.00028544  0.25097272] |   1.537 |   0.345\n",
            "3125 | [ 0.06774739 -0.00036075  0.3030199 ] |   1.536 |   0.345\n",
            "3150 | [ 0.04212158 -0.00051626  0.41045043] |   1.535 |   0.345\n",
            "3175 | [ 0.0206903  -0.00092148  0.69053995] |   1.532 |   0.345\n",
            "3200 | [ 0.00799317 -0.00156956  1.1386975 ] |   1.529 |   0.345\n",
            "3225 | [ 0.00662407 -0.00186129  1.34055229] |   1.524 |   0.345\n"
          ]
        }
      ]
    },
    {
      "cell_type": "code",
      "source": [
        "#Step 3/3 - full calibration of bates model using as input parameters obtained in step 1 and 2\n",
        "\n",
        "kappa_v = params_heston[0]\n",
        "theta_v = params_heston[1]\n",
        "sigma_v = params_heston[2]\n",
        "rho = params_heston[3]\n",
        "v0 = params_heston[4]\n",
        "\n",
        "lamb = params_bates_short[0]\n",
        "mu = params_bates_short[1]\n",
        "delta = params_bates_short[2]\n",
        "\n",
        "p0 = [kappa_v, theta_v, sigma_v, rho, v0, lamb, mu, delta] #Initialized to the global for the functions to use"
      ],
      "metadata": {
        "id": "Kdb-ae6V1w21"
      },
      "execution_count": null,
      "outputs": []
    },
    {
      "cell_type": "code",
      "source": [
        "params_bates_lewis = B96_calibration_full()"
      ],
      "metadata": {
        "colab": {
          "base_uri": "https://localhost:8080/"
        },
        "id": "vg40WNyXqKCH",
        "outputId": "835b3886-d391-4646-91cb-7726ad237d18"
      },
      "execution_count": null,
      "outputs": [
        {
          "output_type": "stream",
          "name": "stdout",
          "text": [
            "3250 | [ 1.44552605e+01  1.25610319e-01  1.60901563e-05 -4.66071367e-03\n",
            "  4.13274797e-02  7.98491764e-03 -1.97705090e-03  1.31531837e+00] |   1.524 |   0.345\n",
            "3275 | [ 1.41219124e+01  1.25743717e-01  1.59281277e-05 -4.64083282e-03\n",
            "  4.19957847e-02  8.02254067e-03 -1.95438062e-03  1.36009361e+00] |   1.522 |   0.345\n",
            "3300 | [ 1.12641173e+01  1.23086981e-01  1.55400747e-05 -4.53667223e-03\n",
            "  4.33527932e-02  8.33812521e-03 -1.89626547e-03  1.70699901e+00] |   1.500 |   0.345\n",
            "3325 | [ 1.03808103e+01  1.20956289e-01  1.53981081e-05 -4.50789732e-03\n",
            "  4.34041995e-02  8.37393828e-03 -1.87363395e-03  1.85719994e+00] |   1.488 |   0.345\n",
            "3350 | [ 9.78758121e+00  1.11006068e-01  1.53418443e-05 -4.39233406e-03\n",
            "  4.53941591e-02  8.44211118e-03 -1.91241464e-03  1.99724691e+00] |   1.466 |   0.345\n",
            "3375 | [ 8.91602804e+00  9.20900501e-02  1.53611683e-05 -4.00022695e-03\n",
            "  5.10585369e-02  8.49940104e-03 -2.00131832e-03  2.22868520e+00] |   1.479 |   0.345\n",
            "3400 | [ 1.03688393e+01  6.71673175e-02  1.58472746e-05 -3.60539160e-03\n",
            "  5.43141750e-02  8.28458447e-03 -2.14822715e-03  2.36683502e+00] |   1.428 |   0.345\n",
            "3425 | [ 1.06978653e+01  5.78963146e-02  1.61370652e-05 -3.40675347e-03\n",
            "  5.69305772e-02  8.06939118e-03 -2.25164967e-03  2.40344204e+00] |   1.383 |   0.345\n",
            "3450 | [ 1.12457915e+01  4.75972011e-02  1.64321038e-05 -3.18982476e-03\n",
            "  5.89011426e-02  7.94078247e-03 -2.33080980e-03  2.45821239e+00] |   1.380 |   0.345\n",
            "3475 | [ 1.12781979e+01  4.46815174e-02  1.64811385e-05 -3.13239859e-03\n",
            "  5.98821803e-02  7.88115171e-03 -2.36781563e-03  2.46844167e+00] |   1.378 |   0.345\n",
            "3500 | [ 1.12035495e+01  4.63561320e-02  1.64382243e-05 -3.16574125e-03\n",
            "  5.94876161e-02  7.90656897e-03 -2.35328349e-03  2.46110356e+00] |   1.378 |   0.345\n",
            "3525 | [ 1.12041315e+01  4.65235894e-02  1.64308461e-05 -3.17155934e-03\n",
            "  5.94233326e-02  7.91131650e-03 -2.35046216e-03  2.45977348e+00] |   1.377 |   0.345\n",
            "3550 | [ 1.12003316e+01  4.66557407e-02  1.64282901e-05 -3.17421723e-03\n",
            "  5.93891788e-02  7.91308805e-03 -2.34924595e-03  2.45910389e+00] |   1.377 |   0.345\n",
            "3575 | [ 1.12011001e+01  4.66450219e-02  1.64287603e-05 -3.17405803e-03\n",
            "  5.93901033e-02  7.91292842e-03 -2.34931380e-03  2.45912751e+00] |   1.377 |   0.345\n",
            "Optimization terminated successfully.\n",
            "         Current function value: 1.377467\n",
            "         Iterations: 207\n",
            "         Function evaluations: 355\n"
          ]
        }
      ]
    },
    {
      "cell_type": "code",
      "source": [
        "params_bates_lewis"
      ],
      "metadata": {
        "colab": {
          "base_uri": "https://localhost:8080/"
        },
        "id": "0lsZeJn-4rPs",
        "outputId": "c33552a4-1bc4-4a13-b34b-0a342b867158"
      },
      "execution_count": null,
      "outputs": [
        {
          "output_type": "execute_result",
          "data": {
            "text/plain": [
              "array([ 1.12017584e+01,  4.66267674e-02,  1.64291121e-05, -3.17369293e-03,\n",
              "        5.93948827e-02,  7.91268749e-03, -2.34947118e-03,  2.45921608e+00])"
            ]
          },
          "metadata": {},
          "execution_count": 229
        }
      ]
    },
    {
      "cell_type": "markdown",
      "source": [
        "#### Visualizing Model Fit"
      ],
      "metadata": {
        "id": "pf7BX0MGqU3F"
      }
    },
    {
      "cell_type": "code",
      "source": [
        "generate_plot_BATES_Lewis(options_data, params_bates_lewis)"
      ],
      "metadata": {
        "colab": {
          "base_uri": "https://localhost:8080/",
          "height": 564
        },
        "id": "5fk14gzm-Q-0",
        "outputId": "cc0b4205-9f5c-482c-88f4-68b66786c415"
      },
      "execution_count": null,
      "outputs": [
        {
          "output_type": "display_data",
          "data": {
            "text/plain": [
              "<Figure size 1000x600 with 1 Axes>"
            ],
            "image/png": "[encoded data removed]"
          },
          "metadata": {}
        }
      ]
    },
    {
      "cell_type": "markdown",
      "metadata": {
        "id": "uUZwCKmsIqR9"
      },
      "source": [
        "###b. Bates(1996) model Calibration under Carr-Madan(1999)"
      ]
    },
    {
      "cell_type": "markdown",
      "source": [
        "Under the Carr-Madan (1999) methodology, the Bates (1996) model calibration comprises two fundamental components: a stochastic volatility model with jumps (Bates) and a Fourier-based pricing mechanism (Carr-Madan). This method uses the flexibility and accuracy of Fourier methods to price complicated derivatives inside the Bates model framework, while also calibrating the model parameters to market prices.\n",
        "\n",
        "Advantages of this Approach is as follows:\n",
        "\n",
        "  - Speed and Accuracy: Using Fourier methods, the Carr-Madan methodology provides for fast and accurate pricing of complicated derivatives under the Bates model, making it appropriate for large-scale applications.\n",
        "\n",
        "  - Versatility: The Bates model with jumps more truly represents the dynamics of asset values and volatility, allowing for better pricing of options with extreme occurrences.\n",
        "\n",
        "  - Robustness: During the calibration process, the model parameters are optimized to fit observed market prices, making the model more resilient and capable of managing varied market conditions.\n",
        "\n",
        "The main drawback of this approach is from the higher complexity of the Bates model and higher price sensitivity due to the jump component, which will always require more carefulness during model validation.\n"
      ],
      "metadata": {
        "id": "p3mji6g8EYME"
      }
    },
    {
      "cell_type": "markdown",
      "source": [
        "#### Data Preparation for Model Calibration"
      ],
      "metadata": {
        "id": "JnTd85T7_f_y"
      }
    },
    {
      "cell_type": "code",
      "source": [
        "#Allowing for short maturity\n",
        "maturity = 60 #short maturity for her derivative(around 15 days)\n",
        "\n",
        "options_data = options_df[options_df['Maturity'] == maturity]\n",
        "options_df.shape, options_data.shape"
      ],
      "metadata": {
        "colab": {
          "base_uri": "https://localhost:8080/"
        },
        "id": "8G7W5ZWCHLx-",
        "outputId": "471df0c9-6544-4c58-c71b-2d99675f7527"
      },
      "execution_count": null,
      "outputs": [
        {
          "output_type": "execute_result",
          "data": {
            "text/plain": [
              "((15, 6), (5, 6))"
            ]
          },
          "metadata": {},
          "execution_count": 231
        }
      ]
    },
    {
      "cell_type": "code",
      "source": [
        "options_data.head(10) #Displaying the data set meeting the stipulated conditions"
      ],
      "metadata": {
        "colab": {
          "base_uri": "https://localhost:8080/",
          "height": 206
        },
        "id": "V7WDSnPdHYqt",
        "outputId": "78b8c51d-109a-4c3f-b1ab-2f329edec857"
      },
      "execution_count": null,
      "outputs": [
        {
          "output_type": "execute_result",
          "data": {
            "text/plain": [
              "   Maturity  Strike   Call    Put     T      r\n",
              "5        60   227.5  16.78  11.03  0.24  0.015\n",
              "6        60   230.0  17.65  12.15  0.24  0.015\n",
              "7        60   232.5  16.86  13.37  0.24  0.015\n",
              "8        60   235.0  16.05  14.75  0.24  0.015\n",
              "9        60   237.5  15.10  15.62  0.24  0.015"
            ],
            "text/html": [
              "\n",
              "\n",
              "  <div id=\"df-693a1e2e-b43a-4a73-b145-73fb7e1a3c62\">\n",
              "    <div class=\"colab-df-container\">\n",
              "      <div>\n",
              "<style scoped>\n",
              "    .dataframe tbody tr th:only-of-type {\n",
              "        vertical-align: middle;\n",
              "    }\n",
              "\n",
              "    .dataframe tbody tr th {\n",
              "        vertical-align: top;\n",
              "    }\n",
              "\n",
              "    .dataframe thead th {\n",
              "        text-align: right;\n",
              "    }\n",
              "</style>\n",
              "<table border=\"1\" class=\"dataframe\">\n",
              "  <thead>\n",
              "    <tr style=\"text-align: right;\">\n",
              "      <th></th>\n",
              "      <th>Maturity</th>\n",
              "      <th>Strike</th>\n",
              "      <th>Call</th>\n",
              "      <th>Put</th>\n",
              "      <th>T</th>\n",
              "      <th>r</th>\n",
              "    </tr>\n",
              "  </thead>\n",
              "  <tbody>\n",
              "    <tr>\n",
              "      <th>5</th>\n",
              "      <td>60</td>\n",
              "      <td>227.5</td>\n",
              "      <td>16.78</td>\n",
              "      <td>11.03</td>\n",
              "      <td>0.24</td>\n",
              "      <td>0.015</td>\n",
              "    </tr>\n",
              "    <tr>\n",
              "      <th>6</th>\n",
              "      <td>60</td>\n",
              "      <td>230.0</td>\n",
              "      <td>17.65</td>\n",
              "      <td>12.15</td>\n",
              "      <td>0.24</td>\n",
              "      <td>0.015</td>\n",
              "    </tr>\n",
              "    <tr>\n",
              "      <th>7</th>\n",
              "      <td>60</td>\n",
              "      <td>232.5</td>\n",
              "      <td>16.86</td>\n",
              "      <td>13.37</td>\n",
              "      <td>0.24</td>\n",
              "      <td>0.015</td>\n",
              "    </tr>\n",
              "    <tr>\n",
              "      <th>8</th>\n",
              "      <td>60</td>\n",
              "      <td>235.0</td>\n",
              "      <td>16.05</td>\n",
              "      <td>14.75</td>\n",
              "      <td>0.24</td>\n",
              "      <td>0.015</td>\n",
              "    </tr>\n",
              "    <tr>\n",
              "      <th>9</th>\n",
              "      <td>60</td>\n",
              "      <td>237.5</td>\n",
              "      <td>15.10</td>\n",
              "      <td>15.62</td>\n",
              "      <td>0.24</td>\n",
              "      <td>0.015</td>\n",
              "    </tr>\n",
              "  </tbody>\n",
              "</table>\n",
              "</div>\n",
              "      <button class=\"colab-df-convert\" onclick=\"convertToInteractive('df-693a1e2e-b43a-4a73-b145-73fb7e1a3c62')\"\n",
              "              title=\"Convert this dataframe to an interactive table.\"\n",
              "              style=\"display:none;\">\n",
              "\n",
              "  <svg xmlns=\"http://www.w3.org/2000/svg\" height=\"24px\"viewBox=\"0 0 24 24\"\n",
              "       width=\"24px\">\n",
              "    <path d=\"M0 0h24v24H0V0z\" fill=\"none\"/>\n",
              "    <path d=\"M18.56 5.44l.94 2.06.94-2.06 2.06-.94-2.06-.94-.94-2.06-.94 2.06-2.06.94zm-11 1L8.5 8.5l.94-2.06 2.06-.94-2.06-.94L8.5 2.5l-.94 2.06-2.06.94zm10 10l.94 2.06.94-2.06 2.06-.94-2.06-.94-.94-2.06-.94 2.06-2.06.94z\"/><path d=\"M17.41 7.96l-1.37-1.37c-.4-.4-.92-.59-1.43-.59-.52 0-1.04.2-1.43.59L10.3 9.45l-7.72 7.72c-.78.78-.78 2.05 0 2.83L4 21.41c.39.39.9.59 1.41.59.51 0 1.02-.2 1.41-.59l7.78-7.78 2.81-2.81c.8-.78.8-2.07 0-2.86zM5.41 20L4 18.59l7.72-7.72 1.47 1.35L5.41 20z\"/>\n",
              "  </svg>\n",
              "      </button>\n",
              "\n",
              "\n",
              "\n",
              "    <div id=\"df-76e1aa7e-4a0d-4f78-9971-b7ac05680ee3\">\n",
              "      <button class=\"colab-df-quickchart\" onclick=\"quickchart('df-76e1aa7e-4a0d-4f78-9971-b7ac05680ee3')\"\n",
              "              title=\"Suggest charts.\"\n",
              "              style=\"display:none;\">\n",
              "\n",
              "<svg xmlns=\"http://www.w3.org/2000/svg\" height=\"24px\"viewBox=\"0 0 24 24\"\n",
              "     width=\"24px\">\n",
              "    <g>\n",
              "        <path d=\"M19 3H5c-1.1 0-2 .9-2 2v14c0 1.1.9 2 2 2h14c1.1 0 2-.9 2-2V5c0-1.1-.9-2-2-2zM9 17H7v-7h2v7zm4 0h-2V7h2v10zm4 0h-2v-4h2v4z\"/>\n",
              "    </g>\n",
              "</svg>\n",
              "      </button>\n",
              "    </div>\n",
              "\n",
              "<style>\n",
              "  .colab-df-quickchart {\n",
              "    background-color: #E8F0FE;\n",
              "    border: none;\n",
              "    border-radius: 50%;\n",
              "    cursor: pointer;\n",
              "    display: none;\n",
              "    fill: #1967D2;\n",
              "    height: 32px;\n",
              "    padding: 0 0 0 0;\n",
              "    width: 32px;\n",
              "  }\n",
              "\n",
              "  .colab-df-quickchart:hover {\n",
              "    background-color: #E2EBFA;\n",
              "    box-shadow: 0px 1px 2px rgba(60, 64, 67, 0.3), 0px 1px 3px 1px rgba(60, 64, 67, 0.15);\n",
              "    fill: #174EA6;\n",
              "  }\n",
              "\n",
              "  [theme=dark] .colab-df-quickchart {\n",
              "    background-color: #3B4455;\n",
              "    fill: #D2E3FC;\n",
              "  }\n",
              "\n",
              "  [theme=dark] .colab-df-quickchart:hover {\n",
              "    background-color: #434B5C;\n",
              "    box-shadow: 0px 1px 3px 1px rgba(0, 0, 0, 0.15);\n",
              "    filter: drop-shadow(0px 1px 2px rgba(0, 0, 0, 0.3));\n",
              "    fill: #FFFFFF;\n",
              "  }\n",
              "</style>\n",
              "\n",
              "    <script>\n",
              "      async function quickchart(key) {\n",
              "        const containerElement = document.querySelector('#' + key);\n",
              "        const charts = await google.colab.kernel.invokeFunction(\n",
              "            'suggestCharts', [key], {});\n",
              "      }\n",
              "    </script>\n",
              "\n",
              "      <script>\n",
              "\n",
              "function displayQuickchartButton(domScope) {\n",
              "  let quickchartButtonEl =\n",
              "    domScope.querySelector('#df-76e1aa7e-4a0d-4f78-9971-b7ac05680ee3 button.colab-df-quickchart');\n",
              "  quickchartButtonEl.style.display =\n",
              "    google.colab.kernel.accessAllowed ? 'block' : 'none';\n",
              "}\n",
              "\n",
              "        displayQuickchartButton(document);\n",
              "      </script>\n",
              "      <style>\n",
              "    .colab-df-container {\n",
              "      display:flex;\n",
              "      flex-wrap:wrap;\n",
              "      gap: 12px;\n",
              "    }\n",
              "\n",
              "    .colab-df-convert {\n",
              "      background-color: #E8F0FE;\n",
              "      border: none;\n",
              "      border-radius: 50%;\n",
              "      cursor: pointer;\n",
              "      display: none;\n",
              "      fill: #1967D2;\n",
              "      height: 32px;\n",
              "      padding: 0 0 0 0;\n",
              "      width: 32px;\n",
              "    }\n",
              "\n",
              "    .colab-df-convert:hover {\n",
              "      background-color: #E2EBFA;\n",
              "      box-shadow: 0px 1px 2px rgba(60, 64, 67, 0.3), 0px 1px 3px 1px rgba(60, 64, 67, 0.15);\n",
              "      fill: #174EA6;\n",
              "    }\n",
              "\n",
              "    [theme=dark] .colab-df-convert {\n",
              "      background-color: #3B4455;\n",
              "      fill: #D2E3FC;\n",
              "    }\n",
              "\n",
              "    [theme=dark] .colab-df-convert:hover {\n",
              "      background-color: #434B5C;\n",
              "      box-shadow: 0px 1px 3px 1px rgba(0, 0, 0, 0.15);\n",
              "      filter: drop-shadow(0px 1px 2px rgba(0, 0, 0, 0.3));\n",
              "      fill: #FFFFFF;\n",
              "    }\n",
              "  </style>\n",
              "\n",
              "      <script>\n",
              "        const buttonEl =\n",
              "          document.querySelector('#df-693a1e2e-b43a-4a73-b145-73fb7e1a3c62 button.colab-df-convert');\n",
              "        buttonEl.style.display =\n",
              "          google.colab.kernel.accessAllowed ? 'block' : 'none';\n",
              "\n",
              "        async function convertToInteractive(key) {\n",
              "          const element = document.querySelector('#df-693a1e2e-b43a-4a73-b145-73fb7e1a3c62');\n",
              "          const dataTable =\n",
              "            await google.colab.kernel.invokeFunction('convertToInteractive',\n",
              "                                                     [key], {});\n",
              "          if (!dataTable) return;\n",
              "\n",
              "          const docLinkHtml = 'Like what you see? Visit the ' +\n",
              "            '<a target=\"_blank\" href=https://colab.research.google.com/notebooks/data_table.ipynb>data table notebook</a>'\n",
              "            + ' to learn more about interactive tables.';\n",
              "          element.innerHTML = '';\n",
              "          dataTable['output_type'] = 'display_data';\n",
              "          await google.colab.output.renderOutput(dataTable, element);\n",
              "          const docLink = document.createElement('div');\n",
              "          docLink.innerHTML = docLinkHtml;\n",
              "          element.appendChild(docLink);\n",
              "        }\n",
              "      </script>\n",
              "    </div>\n",
              "  </div>\n"
            ]
          },
          "metadata": {},
          "execution_count": 232
        }
      ]
    },
    {
      "cell_type": "markdown",
      "source": [
        "#### Model Calibration and Obtaining Parameter"
      ],
      "metadata": {
        "id": "el_QaUt2_gXo"
      }
    },
    {
      "cell_type": "code",
      "source": [
        "#Step 1/3 - Stochastic Volatility Components Parameters\n",
        "bates_stoc_vol_calibrated_params = H93_calibration_carr_madan_full()"
      ],
      "metadata": {
        "colab": {
          "base_uri": "https://localhost:8080/"
        },
        "id": "4yob3tdhHsRi",
        "outputId": "91831b1d-92ba-4360-d6a9-174bddae5edd"
      },
      "execution_count": null,
      "outputs": [
        {
          "output_type": "stream",
          "name": "stdout",
          "text": [
            "3600 | [ 2.5   0.01  0.15 -0.5   0.02] |  78.874 |   0.345\n",
            "3625 | [ 2.5   0.02  0.15 -0.5   0.03] |  54.906 |   0.345\n",
            "3650 | [ 2.5   0.03  0.05 -0.25  0.01] |  86.179 |   0.345\n",
            "3675 | [ 2.5   0.03  0.25 -0.25  0.02] |  66.848 |   0.345\n",
            "3700 | [ 2.5   0.04  0.15 -0.25  0.03] |  45.947 |   0.345\n",
            "3725 | [7.5  0.01 0.05 0.   0.01] | 105.009 |   0.345\n",
            "3750 | [7.5  0.01 0.25 0.   0.02] |  88.527 |   0.345\n",
            "3775 | [7.5  0.02 0.15 0.   0.03] |  60.623 |   0.345\n",
            "3800 | [ 7.5   0.03  0.15 -0.75  0.01] |  69.722 |   0.345\n",
            "3825 | [ 7.5   0.04  0.05 -0.75  0.02] |  48.488 |   0.345\n",
            "3850 | [ 7.5   0.04  0.25 -0.75  0.03] |  41.667 |   0.345\n",
            "3875 | [ 8.0523360e+00  4.7553792e-02  4.7898400e-02 -2.6537600e-04\n",
            "  3.2425344e-02] |  33.479 |   0.345\n",
            "3900 | [ 1.28892395e+01  1.19575630e-01  1.03108255e-02 -4.38981937e-03\n",
            "  4.32764491e-02] |   2.192 |   0.345\n",
            "3925 | [ 1.39316649e+01  1.33307044e-01  3.63989033e-03 -5.43453013e-03\n",
            "  4.54161302e-02] |   1.539 |   0.345\n",
            "3950 | [ 1.39448084e+01  1.33149315e-01  3.24571816e-03 -5.26785528e-03\n",
            "  4.44517093e-02] |   1.538 |   0.345\n",
            "3975 | [ 1.39324977e+01  1.33023041e-01  3.22845265e-03 -5.25513744e-03\n",
            "  4.45078883e-02] |   1.538 |   0.345\n",
            "4000 | [ 1.39626069e+01  1.33070184e-01  2.86786763e-03 -5.17873405e-03\n",
            "  4.42098038e-02] |   1.538 |   0.345\n",
            "4025 | [ 1.41006806e+01  1.33301434e-01  1.22390908e-03 -4.83178736e-03\n",
            "  4.28484865e-02] |   1.538 |   0.345\n",
            "4050 | [ 1.42030315e+01  1.33467453e-01  3.97939618e-05 -4.58062649e-03\n",
            "  4.18596021e-02] |   1.538 |   0.345\n",
            "4075 | [ 1.42045870e+01  1.33468459e-01  2.00586000e-05 -4.57627410e-03\n",
            "  4.18431927e-02] |   1.538 |   0.345\n",
            "4100 | [ 1.42051420e+01  1.33469243e-01  1.43534550e-05 -4.57505122e-03\n",
            "  4.18381509e-02] |   1.538 |   0.345\n",
            "4125 | [ 1.42050227e+01  1.33469070e-01  1.55910353e-05 -4.57531559e-03\n",
            "  4.18392367e-02] |   1.538 |   0.345\n",
            "4150 | [ 1.42050313e+01  1.33469086e-01  1.54888820e-05 -4.57529452e-03\n",
            "  4.18391551e-02] |   1.538 |   0.345\n",
            "4175 | [ 1.42050313e+01  1.33469087e-01  1.54913937e-05 -4.57529514e-03\n",
            "  4.18391566e-02] |   1.538 |   0.345\n",
            "4200 | [ 1.42050310e+01  1.33469086e-01  1.54943241e-05 -4.57529576e-03\n",
            "  4.18391590e-02] |   1.538 |   0.345\n",
            "4225 | [ 1.42050310e+01  1.33469086e-01  1.54946016e-05 -4.57529582e-03\n",
            "  4.18391593e-02] |   1.538 |   0.345\n",
            "Optimization terminated successfully.\n",
            "         Current function value: 1.538424\n",
            "         Iterations: 190\n",
            "         Function evaluations: 416\n"
          ]
        }
      ]
    },
    {
      "cell_type": "code",
      "source": [
        "#Step 2/3\n",
        "params_bates_short = B96_calibration_short_carr_madan()"
      ],
      "metadata": {
        "id": "2H0Vf75oIHy0",
        "colab": {
          "base_uri": "https://localhost:8080/"
        },
        "outputId": "f9298ed7-bad4-4340-bb78-c6cb7d67fb38"
      },
      "execution_count": null,
      "outputs": [
        {
          "output_type": "stream",
          "name": "stdout",
          "text": [
            "4250 | [ 0.  -0.5  0. ] |   1.538 |   0.345\n",
            "4275 | [ 0.2  -0.5   0.25] |   4.274 |   0.345\n",
            "4300 | [ 0.4 -0.5  0.5] |  15.722 |   0.345\n",
            "4325 | [ 0.0e+00 -5.0e-01  2.5e-04] |   1.538 |   0.345\n",
            "4350 | [ 7.45058060e-12 -5.08333333e-01  8.33333308e-05] |   1.538 |   0.345\n",
            "4375 | [ 3.41060513e-16 -5.03125000e-01  6.25000000e-05] |   1.538 |   0.345\n",
            "4400 | [ 5.03759205e-16 -5.04898798e-01  2.97407265e-05] |   1.538 |   0.345\n",
            "4425 | [ 5.03187950e-16 -5.04731478e-01  2.87734853e-05] |   1.538 |   0.345\n",
            "4450 | [ 5.03170098e-16 -5.04726249e-01  2.87432590e-05] |   1.538 |   0.345\n",
            "Optimization terminated successfully.\n",
            "         Current function value: 1.538424\n",
            "         Iterations: 63\n",
            "         Function evaluations: 178\n"
          ]
        }
      ]
    },
    {
      "cell_type": "code",
      "source": [
        "#Step 3/3 - full calibration of bates model using as input parameters obtained in step 1 and 2\n",
        "\n",
        "kappa_v = bates_stoc_vol_calibrated_params[0]\n",
        "theta_v = bates_stoc_vol_calibrated_params[1]\n",
        "sigma_v = bates_stoc_vol_calibrated_params[2]\n",
        "rho = bates_stoc_vol_calibrated_params[3]\n",
        "v0 = bates_stoc_vol_calibrated_params[4]\n",
        "\n",
        "lamb = params_bates_short[0]\n",
        "mu = params_bates_short[1]\n",
        "delta = params_bates_short[2]\n",
        "\n",
        "p0 = [kappa_v, theta_v, sigma_v, rho, v0, lamb, mu, delta]"
      ],
      "metadata": {
        "id": "2fU-OtNcTA3q"
      },
      "execution_count": null,
      "outputs": []
    },
    {
      "cell_type": "code",
      "source": [
        "params_bates_carr_madan = B96_calibration_full_carr_madan()"
      ],
      "metadata": {
        "colab": {
          "base_uri": "https://localhost:8080/"
        },
        "id": "SjkKwLjBTlY6",
        "outputId": "3eb9d868-0d81-435b-eada-3a3bd232d7d6"
      },
      "execution_count": null,
      "outputs": [
        {
          "output_type": "stream",
          "name": "stdout",
          "text": [
            "4475 | [ 1.42831483e+01  1.32628387e-01  1.56069196e-05 -4.60849908e-03\n",
            "  4.21427894e-02  5.06821064e-16 -5.08388918e-01  2.89508690e-05] |   1.539 |   0.345\n",
            "4500 | [ 1.41825007e+01  1.33512827e-01  1.56294855e-05 -4.61516247e-03\n",
            "  4.17963819e-02  5.07553872e-16 -5.09123993e-01  2.89927288e-05] |   1.538 |   0.345\n",
            "4525 | [ 1.42034985e+01  1.33465823e-01  1.55039677e-05 -4.58614135e-03\n",
            "  4.18461623e-02  5.04362266e-16 -5.05922514e-01  2.88104164e-05] |   1.538 |   0.345\n",
            "4550 | [ 1.42050310e+01  1.33469086e-01  1.54944750e-05 -4.57529579e-03\n",
            "  4.18391593e-02  5.04741927e-16 -5.04726080e-01  2.87422840e-05] |   1.538 |   0.345\n",
            "Optimization terminated successfully.\n",
            "         Current function value: 1.538424\n",
            "         Iterations: 35\n",
            "         Function evaluations: 111\n"
          ]
        }
      ]
    },
    {
      "cell_type": "code",
      "source": [
        "#Printing out the full parameters sets after calibration\n",
        "params_bates_carr_madan"
      ],
      "metadata": {
        "colab": {
          "base_uri": "https://localhost:8080/"
        },
        "id": "l53m01kgU_E3",
        "outputId": "1feccd5f-012f-49c7-b0c0-72afa929afdd"
      },
      "execution_count": null,
      "outputs": [
        {
          "output_type": "execute_result",
          "data": {
            "text/plain": [
              "array([ 1.42050310e+01,  1.33469086e-01,  1.54944750e-05, -4.57529579e-03,\n",
              "        4.18391593e-02,  5.03169523e-16, -5.04726080e-01,  2.87422840e-05])"
            ]
          },
          "metadata": {},
          "execution_count": 237
        }
      ]
    },
    {
      "cell_type": "markdown",
      "source": [
        "#### Visualizing Model Fit"
      ],
      "metadata": {
        "id": "Y5EExz_4_gqz"
      }
    },
    {
      "cell_type": "code",
      "source": [
        "generate_plot_bates_carr(options_data, params_bates_carr_madan)"
      ],
      "metadata": {
        "colab": {
          "base_uri": "https://localhost:8080/",
          "height": 564
        },
        "id": "YpcuagOeVe7r",
        "outputId": "0321010e-6507-4fac-e7dc-dff21f6e722c"
      },
      "execution_count": null,
      "outputs": [
        {
          "output_type": "display_data",
          "data": {
            "text/plain": [
              "<Figure size 1000x600 with 1 Axes>"
            ],
            "image/png": "[encoded data removed]"
          },
          "metadata": {}
        }
      ]
    },
    {
      "cell_type": "markdown",
      "source": [
        "#### Calibration Process Overview:"
      ],
      "metadata": {
        "id": "0S1zNlfuXNzY"
      }
    },
    {
      "cell_type": "markdown",
      "metadata": {
        "id": "qYRupLCrScYL"
      },
      "source": [
        "\n",
        "\n",
        "We have market data available for vanilla options and used it to calibrate the heston model parameters:\n",
        "\n",
        "$\\kappa_\\nu$ , $\\theta_\\nu$ , $\\sigma_\\nu$, $\\rho$ , $\\nu_0$ , $\\lambda$, $\\mu$ , $\\delta$\n",
        "\n",
        "We found two set of parameters calibrated on:\n",
        "1.   Call options with maturity of 60 days (this maturity selection is based on investors interest).\n",
        "2.   Put options with maturity of 60 days (this maturity selection is based on investors interest).\n",
        "\n",
        "The following functions were used to perform the calibration:\n",
        "1.   Functions related to Pricing of Call/Put options:\n",
        "  * H93_char_func (Characteristic function of Heston)\n",
        "  * M76J_char_func (Characteristic function of Merton)\n",
        "  * B96_char_func (Characteristic function of Bates)\n",
        "  * B96_call_fft (Calculate call option price using fft)\n",
        "  * Put Call Parity was used to Calculate put option price\n",
        "2.   Functions related to Calibration:\n",
        "  * B96_calibration_full\n",
        "  * B96_calculate_model_values\n",
        "  * B96_full_error_function\n",
        "  * B96_calibration_short_call\n",
        "\n",
        "Final Calibrated Parameters will be from the Bates Calibrated under Carr Madan due to reasonable parameters estimates:\n",
        "\n",
        "$\\kappa_\\nu = 14.20503$\n",
        "\n",
        "$\\theta_\\nu =  0.13347$\n",
        "\n",
        "$\\sigma_\\nu = 0.0000155$\n",
        "\n",
        "$\\rho = -0.004575$\n",
        "\n",
        "$\\nu_0 = 0.0418$\n",
        "\n",
        "$\\lambda = 0.9648$\n",
        "\n",
        "$\\mu = -0.351797$\n",
        "\n",
        "$\\delta = 1.0824$\n",
        "\n",
        "Calibration plots show reasonable fit for both call and put options"
      ]
    },
    {
      "cell_type": "markdown",
      "metadata": {
        "id": "ucb2-TwX8SUs"
      },
      "source": [
        "### c. Pricing Asian Put Option Using Parameters Obtained"
      ]
    },
    {
      "cell_type": "code",
      "execution_count": null,
      "metadata": {
        "id": "4LI4BZqsrcZw"
      },
      "outputs": [],
      "source": [
        "# Set constant parameters\n",
        "S0 = 232.90  # Current price\n",
        "r = 0.015  # 1.50% annual risk-free rate\n",
        "T = 70 / 250  # 70 days to maturity converted to years\n",
        "moneyness = 0.95  # Moneyness of 95%\n",
        "\n",
        "# Set the number of Monte Carlo simulations\n",
        "num_simulations = 100000"
      ]
    },
    {
      "cell_type": "code",
      "execution_count": null,
      "metadata": {
        "id": "eIR8qOihq3nW"
      },
      "outputs": [],
      "source": [
        "kappa, theta, sigma, rho, v0, lam, delta, gamma = params_bates_lewis"
      ]
    },
    {
      "cell_type": "code",
      "execution_count": null,
      "metadata": {
        "colab": {
          "base_uri": "https://localhost:8080/"
        },
        "id": "9nsXOSxvsEBU",
        "outputId": "0b1e8571-0e48-470f-e74d-950f435ab26e"
      },
      "outputs": [
        {
          "output_type": "stream",
          "name": "stdout",
          "text": [
            "Asian Put Fair Price:$ 4.26\n"
          ]
        }
      ],
      "source": [
        "# Set the calibrated parameters for the Bates model\n",
        "\n",
        "# Calculate the Asian Put option price\n",
        "asian_put_price = bates_asian_option_put_price(params_bates_carr_madan, moneyness)\n",
        "\n",
        "print(\"Asian Put Fair Price:$\", round(asian_put_price,2))"
      ]
    },
    {
      "cell_type": "code",
      "source": [
        "fee_percentage = 0.04  # 4% fee charged by the bank\n",
        "final_price = asian_put_price * (1 + fee_percentage)"
      ],
      "metadata": {
        "id": "mBy-0H2Ml4BR"
      },
      "execution_count": null,
      "outputs": []
    },
    {
      "cell_type": "markdown",
      "source": [
        "Final fee to be paid by client after allowance for bank transaction cost"
      ],
      "metadata": {
        "id": "BW-qFBCylzbC"
      }
    },
    {
      "cell_type": "code",
      "source": [
        "# Print the fair price\n",
        "print(\"Fair Price of Asian ATM Put Option (70 days maturity):$\", round(final_price, 2))"
      ],
      "metadata": {
        "colab": {
          "base_uri": "https://localhost:8080/"
        },
        "id": "QHU2S4QLmEIp",
        "outputId": "1c2699a9-d900-4e08-8026-54ea25cad0e3"
      },
      "execution_count": null,
      "outputs": [
        {
          "output_type": "stream",
          "name": "stdout",
          "text": [
            "Fair Price of Asian ATM Put Option (70 days maturity):$ 4.43\n"
          ]
        }
      ]
    },
    {
      "cell_type": "markdown",
      "metadata": {
        "id": "SVr3EtN3UQ29"
      },
      "source": [
        "## Step 3 -\n",
        "\n"
      ]
    },
    {
      "cell_type": "markdown",
      "metadata": {
        "id": "gxhPjgBP2O1n"
      },
      "source": [
        "### a. CIR (1985) Calibration using ubic spline interpolation method"
      ]
    },
    {
      "cell_type": "markdown",
      "source": [
        "The CIR(1985), often known as the CIR model established by John C. Cox, Jonathan E. Ingersoll, and Stephen A. Ross in 1985, is an offshoot of the Vasicek Interest Rate model (Vasicek (1977)) that is frequently used to model interest rate changes. Because it characterizes interest fluctuations as being driven by a single source of market risk, the CIR model is an example of a \"one-factor model.\" It is a method for forecasting interest rates.\n",
        "\n",
        "Interest rate movements are determined by the CIR model as a function of current volatility, the mean rate, and spreads. Then it incorporates a market risk component. The square root element forbids negative rates, and the model assumes mean reversion to a long-term normal interest rate level.\n",
        "\n",
        "\n",
        "According to WQU(2023),  general process for Calibration based on CIR(1985) is as follows - :\n",
        "1. Obtain market data\n",
        "  - Here, risk-free rates data (e.g., Euribor for Europe region.)\n",
        "2. Develop Bond pricing functions\n",
        "  - Build valuation functions with the goal of reproducing market quotes.\n",
        "  - In the case of interest rate models, this will necessitate an additional step because we will be focusing on forward rates and data point interpolation.\n",
        "3. Select an Error function\n",
        "  - We can choose from the various error function(MSE or RMSE) for use optimization target\n",
        "4. Create an Optimization function\n",
        "  - In general, we shall strive to reduce the disparities between model results and market data.\n"
      ],
      "metadata": {
        "id": "MAUUqy9IU7nG"
      }
    },
    {
      "cell_type": "markdown",
      "source": [
        "#### Objective and Process of CIR Calibration"
      ],
      "metadata": {
        "id": "6AWbyxpIaQen"
      }
    },
    {
      "cell_type": "markdown",
      "source": [
        "\n",
        "\\\n",
        "The goal of interest rate calibration is for the selection of the best parameters ($\\kappa_r$, $\\theta_r$, $\\sigma_r$, $r_0$) in order to minimize the differences between the rates produced by the model, and the rates observed in practice. In other words, minimize $\\Delta f(0, t)$:\n",
        "\n",
        "$$\n",
        "\\\n",
        "\\begin{equation*}\n",
        "    \\Delta f(0, t) \\equiv f(0, t) - f^{CIR}(0, t; \\kappa_r, \\theta_r, \\sigma_r, r_0)\n",
        "\\end{equation*}\n",
        "$$\n",
        "\\\n",
        "where $f(0,t)$ is the current market implied forward rate between $0$ and time $t$. Formally, the forward rate from any time $t$ to $T$ is defined as:\n",
        "$$\n",
        "\\\n",
        "\\begin{equation*}\n",
        "   f(t,T) \\equiv -\\frac{\\partial B_t(T)}{\\partial T}\n",
        "\\end{equation*}\n",
        "$$\n",
        "\\\n",
        "According to the WQU(2023) notes, the expressions we know from the CIR (1985) model, we can define the forward rate between times $t$ and $T$ and a set of parameters $\\alpha$ in the following way:\n",
        "$$\n",
        "\\\n",
        "\\begin{equation*}\n",
        "   f^{CIR}(t,T; \\alpha) = \\frac{\\kappa_r \\theta_r (e^{\\gamma t}-1)}{2\\gamma + (\\kappa_r + \\gamma)(e^{\\gamma t}-1)} + r_0 \\frac{4\\gamma^2 e^{\\gamma t}}{(2\\gamma + (\\kappa_r + \\gamma)(e^{\\gamma t}-1))^2}\n",
        "\\end{equation*}\n",
        "$$\n",
        "\n",
        "\\\n",
        "\n",
        "Where:\n",
        "\n",
        "- $\\kappa_r$ : Mean reversion Speed, represents the mean reversion speed of interest rates towards the long-term mean θr\n",
        "- $\\theta_r$: Long-term mean: represents the long-term mean or equilibrium level of interest rates in the CIR model.\n",
        "- $\\sigma_r$: Volatility of short rate, represents the volatility or randomness in the short-term interest rate movement\n",
        "- $r_0$: the current short-term rate"
      ],
      "metadata": {
        "id": "TsZIEZwtaWts"
      }
    },
    {
      "cell_type": "code",
      "source": [
        "from scipy.interpolate import CubicSpline\n",
        "from scipy.interpolate import splev, splrep"
      ],
      "metadata": {
        "id": "n0Sik9EzdWQo"
      },
      "execution_count": null,
      "outputs": []
    },
    {
      "cell_type": "code",
      "execution_count": null,
      "metadata": {
        "id": "k2_iIYD7I_l3"
      },
      "outputs": [],
      "source": [
        "#CIR Modeling Parameters\n",
        "# rates and maturities\n",
        "rates = [0.00648, 0.00679, 0.01173, 0.01809, 0.02556]  # Euribor rates\n",
        "maturities = [7, 30, 90, 180, 360]  # Maturities in days\n",
        "\n",
        "# Convert maturities to years\n",
        "maturities_years = [maturity / 360 for maturity in maturities]"
      ]
    },
    {
      "cell_type": "code",
      "source": [
        "mat_list = np.array(maturities)/360\n",
        "rate_list = rates\n",
        "\n",
        "r0 = rate_list[0]\n",
        "factors = 1 + mat_list * rates\n",
        "zero_rates = 1 / mat_list * np.log(factors)\n",
        "\n",
        "#For Visualization and Interpolation under CubicSpline\n",
        "mat_list_n = maturities_years #used in the visual graphics\n",
        "bspline = splrep(mat_list, zero_rates, k=3)  # Cubic spline\n",
        "mat_list_n = np.linspace(\n",
        "    0.0, 1.0, 24\n",
        ")  # Create 24 equally spaced maturities between 0 and 1\n",
        "inter_rates = splev(mat_list_n, bspline, der=0)  # Interpolated rates\n",
        "\n",
        "first_der = splev(mat_list_n, bspline, der=1)  # First derivative of spline\n",
        "f = (\n",
        "    inter_rates + first_der * mat_list_n\n",
        ")  # Forward rate given interpolated ones and first derivative"
      ],
      "metadata": {
        "id": "waKPQTwojU1p"
      },
      "execution_count": null,
      "outputs": []
    },
    {
      "cell_type": "code",
      "source": [
        "params = CIR_calibration()\n",
        "params"
      ],
      "metadata": {
        "colab": {
          "base_uri": "https://localhost:8080/"
        },
        "id": "GTUaZRiVk9GD",
        "outputId": "487e97b1-2910-403a-c6bf-ddcce32065f8"
      },
      "execution_count": null,
      "outputs": [
        {
          "output_type": "stream",
          "name": "stdout",
          "text": [
            "Optimization terminated successfully.\n",
            "         Current function value: 0.000003\n",
            "         Iterations: 161\n",
            "         Function evaluations: 288\n"
          ]
        },
        {
          "output_type": "execute_result",
          "data": {
            "text/plain": [
              "array([0.98908305, 0.10863186, 0.00100074])"
            ]
          },
          "metadata": {},
          "execution_count": 269
        }
      ]
    },
    {
      "cell_type": "code",
      "source": [
        "# Perform cubic spline interpolation to obtain weekly rates for 1 year\n",
        "spline = CubicSpline(maturities_years, rates)\n",
        "weekly_maturities_years = np.linspace(0, 1, 53)\n",
        "weekly_rates = spline(weekly_maturities_years)\n",
        "\n",
        "# Define the CIR (1985) model\n",
        "def cir_model(params, r, dt):\n",
        "    kappa, theta, sigma = params\n",
        "    alpha = 2 * kappa / (sigma ** 2)\n",
        "    beta = 2 * kappa * theta / (sigma ** 2)\n",
        "    gamma = 2 * (np.exp(sigma * np.sqrt(dt)) - 1) / (sigma ** 2 * (np.exp(sigma * np.sqrt(dt)) + 1))\n",
        "\n",
        "    # Perform simulation to calculate model rates\n",
        "    model_rates = [r]\n",
        "    for i in range(len(weekly_rates)-1):\n",
        "        rate = model_rates[-1]\n",
        "        drift = kappa * (theta - rate) * dt\n",
        "        diffusion = np.sqrt(rate * sigma ** 2 * dt)\n",
        "        rate = abs(rate + drift + diffusion * np.random.normal())\n",
        "        model_rates.append(rate)\n",
        "\n",
        "    return model_rates\n",
        "\n",
        "# Define the mean-squared error (MSE) function for calibration\n",
        "def mse(params):\n",
        "    model_rates = cir_model(params, weekly_rates[0], 1 / 52)\n",
        "    return np.mean((model_rates[:-1] - weekly_rates[:-1]) ** 2)"
      ],
      "metadata": {
        "id": "8-tAhM09eYt7"
      },
      "execution_count": null,
      "outputs": []
    },
    {
      "cell_type": "code",
      "source": [
        "# Extract the calibrated parameters\n",
        "kappa, theta, sigma = params\n",
        "\n",
        "# Print the calibrated parameters to 2 decimal places\n",
        "print(\"Calibrated Parameters:\")\n",
        "print(\"kappa: {:.2f}\".format(kappa))\n",
        "print(\"theta: {:.2f}\".format(theta))\n",
        "print(\"sigma: {:.2f}\".format(sigma))"
      ],
      "metadata": {
        "colab": {
          "base_uri": "https://localhost:8080/"
        },
        "id": "yqSWOaUzel_c",
        "outputId": "ca44ffa8-6657-4c63-ada5-7e952f1f24cd"
      },
      "execution_count": null,
      "outputs": [
        {
          "output_type": "stream",
          "name": "stdout",
          "text": [
            "Calibrated Parameters:\n",
            "kappa: 0.99\n",
            "theta: 0.11\n",
            "sigma: 0.00\n"
          ]
        }
      ]
    },
    {
      "cell_type": "markdown",
      "source": [
        "#### Visualizing the Calibration Process and Model Fit"
      ],
      "metadata": {
        "id": "ZPgDHsUYhrKY"
      }
    },
    {
      "cell_type": "code",
      "source": [
        "plot_calibrated_frc(params)"
      ],
      "metadata": {
        "colab": {
          "base_uri": "https://localhost:8080/",
          "height": 807
        },
        "id": "8Ve1VU88hnJe",
        "outputId": "ac415e29-daf7-49db-f5a9-6ec1cc620195"
      },
      "execution_count": null,
      "outputs": [
        {
          "output_type": "display_data",
          "data": {
            "text/plain": [
              "<Figure size 1200x800 with 2 Axes>"
            ],
            "image/png": "[encoded data removed]"
          },
          "metadata": {}
        }
      ]
    },
    {
      "cell_type": "markdown",
      "metadata": {
        "id": "XTJtVETr2yzc"
      },
      "source": [
        "### b. Euribor 12-month daily rates Simulation for a period of 1 year using Monte-Carlo Method"
      ]
    },
    {
      "cell_type": "markdown",
      "metadata": {
        "id": "FNTBZODveV_o"
      },
      "source": [
        "Given parameters (kappa: 0.10, theta: 0.05, sigma: 0.10) and perform 100,000 Monte Carlo simulations\n",
        "\n",
        "\n"
      ]
    },
    {
      "cell_type": "code",
      "execution_count": null,
      "metadata": {
        "colab": {
          "base_uri": "https://localhost:8080/"
        },
        "id": "2MmSq3haeeHY",
        "outputId": "c7b1596f-a3a9-4d3f-80fa-75fded323fbc"
      },
      "outputs": [
        {
          "output_type": "stream",
          "name": "stdout",
          "text": [
            "0.9890830469294195 0.0010007393949653491 0.10863186174786685\n"
          ]
        }
      ],
      "source": [
        "# Using the parameters obtained earlier\n",
        "initial_rate = 0.02556  # Current 12-month Euribor rate\n",
        "print(kappa, sigma, theta)\n",
        "\n",
        "# Set the number of simulations and the time horizon\n",
        "num_simulations = 100000\n",
        "time_horizon = 360  # Number of days in 1 year"
      ]
    },
    {
      "cell_type": "markdown",
      "source": [
        "Simulating the rates using Monte-Carlo"
      ],
      "metadata": {
        "id": "6ZOAv7VSgoTC"
      }
    },
    {
      "cell_type": "code",
      "source": [
        "# Initialize the array to store the simulated rates\n",
        "simulated_rates = np.zeros((num_simulations, time_horizon))\n",
        "\n",
        "# Perform Monte Carlo simulation\n",
        "for i in range(num_simulations):\n",
        "    rates = np.zeros(time_horizon)\n",
        "    rates[0] = initial_rate\n",
        "    for j in range(1, time_horizon):\n",
        "        dt = 1 / 360  # Daily time step\n",
        "        drift = kappa * (theta - rates[j-1]) * dt\n",
        "        diffusion = np.sqrt(rates[j-1] * sigma ** 2 * dt)\n",
        "        rates[j] = abs(rates[j-1] + drift + diffusion * np.random.normal())\n",
        "    simulated_rates[i] = rates"
      ],
      "metadata": {
        "id": "BX4ZX6ACfqIG"
      },
      "execution_count": null,
      "outputs": []
    },
    {
      "cell_type": "code",
      "source": [
        "# Calculate the range (max and min) of the 12-month Euribor rates\n",
        "rate_range = (np.max(simulated_rates[:, -1]), np.min(simulated_rates[:, -1]))\n",
        "\n",
        "# Calculate the expected value of the 12-month Euribor rate\n",
        "expected_value = np.mean(simulated_rates[:, -1])\n",
        "\n",
        "# Round the results to two decimal places\n",
        "rate_range = (round(rate_range[0], 2), round(rate_range[1], 2))\n",
        "expected_value = round(expected_value, 2)\n",
        "\n",
        "# Plot the distribution of the simulated rates\n",
        "plt.figure(figsize=(10, 6))\n",
        "plt.hist(simulated_rates[:, -1], bins=50, density=True, alpha=0.7)\n",
        "plt.axvline(x=rate_range[0], color='red', linestyle='--', label='Max Rate')\n",
        "plt.axvline(x=rate_range[1], color='green', linestyle='--', label='Min Rate')\n",
        "plt.axvline(x=expected_value, color='blue', linestyle='--', label='Expected Rate')\n",
        "plt.xlabel('12-month Euribor Rate')\n",
        "plt.ylabel('Density')\n",
        "plt.title('Distribution of Simulated 12-month Euribor Rates')\n",
        "plt.legend()\n",
        "plt.grid(True)\n",
        "plt.show()\n",
        "\n",
        "# Print the results\n",
        "print(\"Range of 12-month Euribor rates (Max, Min):\", rate_range)\n",
        "print(\"Expected value of the 12-month Euribor rate:\", expected_value)\n"
      ],
      "metadata": {
        "colab": {
          "base_uri": "https://localhost:8080/",
          "height": 599
        },
        "id": "ereZdJlrgnBk",
        "outputId": "f7a67613-479a-4998-b664-ef14a3487d90"
      },
      "execution_count": null,
      "outputs": [
        {
          "output_type": "display_data",
          "data": {
            "text/plain": [
              "<Figure size 1000x600 with 1 Axes>"
            ],
            "image/png": "[encoded data removed]"
          },
          "metadata": {}
        },
        {
          "output_type": "stream",
          "name": "stdout",
          "text": [
            "Range of 12-month Euribor rates (Max, Min): (0.08, 0.08)\n",
            "Expected value of the 12-month Euribor rate: 0.08\n"
          ]
        }
      ]
    },
    {
      "cell_type": "markdown",
      "source": [
        "#### How This is expected to affect Product Price in 1 Year(Impact)"
      ],
      "metadata": {
        "id": "FgtxlGzfpgrQ"
      }
    },
    {
      "cell_type": "markdown",
      "source": [
        "With the given Euribor 12-month rate of 2.556%, and the model expected value of 8%. Potential impact will be affect the following areas  \n",
        "\n",
        "- portfolio value\n",
        "- Option pricing\n",
        "- interest rate sensitivity will increase\n",
        "- Option Greeks such as Delta, Gamma, Vega, Theta and Rho will be will affected\n",
        "- General market sentiment - generally, increased rate affects various security markets differently\n",
        "- Risk assessment\n",
        "\n",
        "The expected value of the 12-month Euribor rate increasing from the given 2.556% to 8%, for option pricing - impacts will be as follows:\n",
        "\n",
        "1. **Call Options**: Call options give the holder the right but not the obligation to buy an underlying asset at a fixed strike price. As the expected 12-month Euribor rate increases, it indicates higher interest rates in the future. This has several implications for call option pricing:\n",
        "\n",
        "   - Higher Interest Rates: Rising interest rates generally lead to higher call option prices. This is because higher interest rates can result in higher carrying costs for holding the underlying asset, which increases the cost of exercising the call option.\n",
        "   \n",
        "   - Higher Implied Volatility: The increase in expected interest rates often results in higher implied volatility in the options market. Higher volatility increases the option's value as it increases the likelihood of large price movements in the underlying asset.\n",
        "   \n",
        "   - Lower Present Value: Higher interest rates lead to lower present value of future cash flows, including the option's potential payoff. As a result, the call option's price may be discounted to reflect the higher interest rate environment.\n",
        "\n",
        "2. **Put Options**: Put options give the holder the right but not the obligation to sell an underlying asset at a fixed strike price. The expected increase in the 12-month Euribor rate will also impact put option pricing:\n",
        "\n",
        "   - Lower Put Option Prices: Rising interest rates can lead to lower put option prices. As interest rates increase, the cost of holding the underlying asset decreases, reducing the value of the put option that provides downside protection.\n",
        "   \n",
        "   - Lower Present Value: Similar to call options, put option prices may also be discounted due to the effect of higher interest rates on the present value of future cash flows.\n",
        "\n",
        "3. **Option Strategies**: The change in interest rates can also affect option strategies, such as spreads, straddles, and collars. Rising interest rates may alter the risk-reward profile of these strategies and impact their overall profitability.\n",
        "\n",
        "While option pricing can be a complex process, which involves the consideration of various factors, including interest rates, implied volatility, time to expiration, and the behavior of the underlying asset. Additionally, market participants continuously adjust their pricing based on changing expectations and market conditions.\n",
        "\n",
        "In summary, an increase in the expected 12-month Euribor rate from 2.556% to 8% over the next year would likely lead to higher call option prices and potentially lower put option prices. It would also affect the pricing of various option strategies, making them more sensitive to interest rate movements. Traders, investors, and risk managers need to closely monitor interest rate developments and consider their impact on option pricing and investment decisions."
      ],
      "metadata": {
        "id": "iEYRamExpoZf"
      }
    },
    {
      "cell_type": "markdown",
      "metadata": {
        "id": "467FWcOUUT-i"
      },
      "source": [
        "## Conclusion"
      ]
    },
    {
      "cell_type": "markdown",
      "source": [
        "In this project demonstrated the procedure for fitting Stochastic model such as Heston(1993) and Bates(1996) to real market data for the purpose of deducing the appropriate useful parameters for each model type under pricing methods of the Lewis(2001) and the Fast Fourier Transform Method of the Carr-Madan(1999).\n",
        "\n",
        "The fit of the model under the various model types was examined, and the best fit parameters was used for the purpose of pricing Asian options under different maturities.\n",
        "\n",
        "This task was rounded off with the calibration of a CIR(1985) model for interest rate was also demonstrated for Euribor rates and maturities.  The parameters obtained were then used to simulate a 12-month daily rate under Monte-Carlo Simulations."
      ],
      "metadata": {
        "id": "pRiPKE3WG9QR"
      }
    },
    {
      "cell_type": "markdown",
      "metadata": {
        "id": "kiiocW3LUVR7"
      },
      "source": [
        "## References\n",
        "\n",
        "- Lewis, Alan L. A Simple Option Formula for General Jump-Diffusion and Other Exponential Levy Processes. 282110, 1 Sept. 2001. Social Science Research Network, https://doi.org/10.2139/ssrn.282110.\n",
        "\n",
        "- Bates, D.S. (1996) Jumps and Stochastic Volatility: Exchange Rate Processes Implicit in Deutsche Mark Options. Review of Financial Studies, 9, 69-107.\n",
        "http://dx.doi.org/10.1093/rfs/9.1.69\n",
        "\n",
        "- Heston, S.L. (1993) A Closed Solution for Options with Stochastic Volatility, with Application to Bond and Currency Options. Review of Financial Studies, 6, 327-343.\n",
        "https://doi.org/10.1093/rfs/6.2.327\n",
        "\n",
        "- Carr, P. and Madan, D. (1999) Option Valuation Using the Fast Fourier Transform. Journal of Computational Finance, 2, 61-73.\n",
        "https://doi.org/10.21314/JCF.1999.043\n",
        "\n",
        "- John C. Cox, Jonathan E. Ingersoll, Jr. and Stephen A. Ross. A Theory of the Term Structure of Interest Rates. Econometrica. Vol. 53, No. 2 (Mar., 1985), pp. 385-407 (23 pages). Published By: The Econometric Society\n",
        "\n",
        "- WQU - WorldQuant University (2023) MScFE 622 _ Stochastic Modeling, Module 1, 2 and 3. Lessons 1 - 4.\n",
        "\n",
        "- Oldrich Vasicek, An equilibrium characterization of the term structure,\n",
        "Journal of Financial Economics, Volume 5, Issue 2, 1977,\n",
        "Pages 177-188, ISSN 0304-405X, https://doi.org/10.1016/0304-405X(77)90016-2.\n"
      ]
    },
    {
      "cell_type": "markdown",
      "metadata": {
        "id": "fDQ5SY1SiHdl"
      },
      "source": [
        "Appendix - For Checks"
      ]
    },
    {
      "cell_type": "code",
      "execution_count": null,
      "metadata": {
        "id": "oQIN-lx3Exv2"
      },
      "outputs": [],
      "source": [
        "options_data_2 = [\n",
        "    ['Maturity','Strike','Price','Type'],\n",
        "    [15,227.5,10.52,'C'],\n",
        "    [15,230,10.05,'C'],\n",
        "    [15,232.5,7.75,'C'],\n",
        "    [15,235,6.01,'C'],\n",
        "    [15,237.5,4.75,'C'],\n",
        "    [60,227.5,16.78,'C'],\n",
        "    [60,230,17.65,'C'],\n",
        "    [60,232.5,16.86,'C'],\n",
        "    [60,235,16.05,'C'],\n",
        "    [60,237.5,15.10,'C'],\n",
        "    [120,227.5,27.92,'C'],\n",
        "    [120,230,24.12,'C'],\n",
        "    [120,232.5,22.97,'C'],\n",
        "    [120,235,21.75,'C'],\n",
        "    [120,237.5,18.06,'C'],\n",
        "    [15,227.5,4.32,'P'],\n",
        "    [15,230,5.20,'P'],\n",
        "    [15,232.5,6.45,'P'],\n",
        "    [15,235,7.56,'P'],\n",
        "    [15,237.5,8.78,'P'],\n",
        "    [60,227.5,11.03,'P'],\n",
        "    [60,230,12.15,'P'],\n",
        "    [60,232.5,13.37,'P'],\n",
        "    [60,235,14.75,'P'],\n",
        "    [60,237.5,15.62,'P'],\n",
        "    [120,227.5,14.53,'P'],\n",
        "    [120,230,16.25,'P'],\n",
        "    [120,232.5,17.22,'P'],\n",
        "    [120,235,18.74,'P'],\n",
        "    [120,237.5,19.73,'P']\n",
        "]"
      ]
    }
  ],
  "metadata": {
    "colab": {
      "provenance": [],
      "toc_visible": true,
      "include_colab_link": true
    },
    "kernelspec": {
      "display_name": "Python 3",
      "name": "python3"
    },
    "language_info": {
      "name": "python"
    }
  },
  "nbformat": 4,
  "nbformat_minor": 0
}